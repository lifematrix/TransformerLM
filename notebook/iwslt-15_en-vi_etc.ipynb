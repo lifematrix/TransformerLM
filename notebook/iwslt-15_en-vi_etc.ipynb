{
 "cells": [
  {
   "cell_type": "code",
   "execution_count": 1,
   "metadata": {},
   "outputs": [
    {
     "name": "stdout",
     "output_type": "stream",
     "text": [
      "/home/steven/proj/lifematrix/TransformerLM\n"
     ]
    }
   ],
   "source": [
    "%cd .."
   ]
  },
  {
   "cell_type": "code",
   "execution_count": 3,
   "metadata": {},
   "outputs": [
    {
     "name": "stdout",
     "output_type": "stream",
     "text": [
      "total 32248\r\n",
      "drwxrwxr-x 2 steven steven     4096 Jan 19 22:10 .\r\n",
      "drwxrwxr-x 3 steven steven     4096 Jan 19 22:08 ..\r\n",
      "-rw-rw-r-- 1 steven steven   487293 Jan 19 22:07 dict.en-vi\r\n",
      "-rw-rw-r-- 1 steven steven 13603614 Jan 19 22:06 train.en\r\n",
      "-rw-rw-r-- 1 steven steven 18074646 Jan 19 22:07 train.vi\r\n",
      "-rw-rw-r-- 1 steven steven   140250 Jan 19 22:06 tst2012.en\r\n",
      "-rw-rw-r-- 1 steven steven   188396 Jan 19 22:06 tst2012.vi\r\n",
      "-rw-rw-r-- 1 steven steven   132264 Jan 19 22:07 tst2013.en\r\n",
      "-rw-rw-r-- 1 steven steven   183855 Jan 19 22:07 tst2013.vi\r\n",
      "-rw-rw-r-- 1 steven steven   139741 Jan 19 22:07 vocab.en\r\n",
      "-rw-rw-r-- 1 steven steven    46767 Jan 19 22:07 vocab.vi\r\n"
     ]
    }
   ],
   "source": [
    "!ls -al data/nlp/IWSLT-15_en-vi/"
   ]
  },
  {
   "cell_type": "code",
   "execution_count": 11,
   "metadata": {},
   "outputs": [],
   "source": [
    "import os\n",
    "from collections import OrderedDict, Counter"
   ]
  },
  {
   "cell_type": "code",
   "execution_count": 4,
   "metadata": {},
   "outputs": [],
   "source": [
    "data_root = \"data/nlp/IWSLT-15_en-vi/\""
   ]
  },
  {
   "cell_type": "code",
   "execution_count": 20,
   "metadata": {},
   "outputs": [],
   "source": [
    "def read_vocab(fname):\n",
    "    with open(os.path.join(data_root, fname)) as f:\n",
    "        lines = [line.strip() for line in f]\n",
    "    return set(lines)\n",
    "\n",
    "def read_all_words(fname):\n",
    "    cnt = Counter()\n",
    "    with open(os.path.join(data_root, fname)) as f:\n",
    "        for line in f:\n",
    "            words = line.strip().split()\n",
    "            cnt.update(words)\n",
    "    # print(cnt)\n",
    "    return set(cnt.keys())"
   ]
  },
  {
   "cell_type": "code",
   "execution_count": 24,
   "metadata": {},
   "outputs": [
    {
     "data": {
      "text/plain": [
       "(17191, 7709)"
      ]
     },
     "execution_count": 24,
     "metadata": {},
     "output_type": "execute_result"
    }
   ],
   "source": [
    "vocab_en = read_vocab(\"vocab.en\")\n",
    "vocab_vi = read_vocab(\"vocab.vi\")\n",
    "len(vocab_en), len(vocab_vi)"
   ]
  },
  {
   "cell_type": "code",
   "execution_count": 25,
   "metadata": {},
   "outputs": [],
   "source": [
    "train_words_en = read_all_words(\"train.en\")\n",
    "train_words_vi = read_all_words(\"train.vi\")\n",
    "tst2012_words_en = read_all_words(\"tst2012.en\")\n",
    "tst2012_words_vi = read_all_words(\"tst2012.vi\")\n",
    "tst2013_words_en = read_all_words(\"tst2013.en\")\n",
    "tst2013_words_vi = read_all_words(\"tst2013.vi\")"
   ]
  },
  {
   "cell_type": "code",
   "execution_count": 27,
   "metadata": {},
   "outputs": [
    {
     "data": {
      "text/plain": [
       "(54169, 25615, 3727, 2487, 3917, 2660)"
      ]
     },
     "execution_count": 27,
     "metadata": {},
     "output_type": "execute_result"
    }
   ],
   "source": [
    "len(train_words_en), len(train_words_vi), \\\n",
    "len(tst2012_words_en), len(tst2012_words_vi), len(tst2013_words_en), len(tst2013_words_vi), "
   ]
  },
  {
   "cell_type": "code",
   "execution_count": 29,
   "metadata": {},
   "outputs": [
    {
     "data": {
      "text/plain": [
       "36981"
      ]
     },
     "execution_count": 29,
     "metadata": {},
     "output_type": "execute_result"
    }
   ],
   "source": [
    "len(train_words_en - vocab_en)"
   ]
  },
  {
   "cell_type": "code",
   "execution_count": null,
   "metadata": {},
   "outputs": [],
   "source": []
  }
 ],
 "metadata": {
  "kernelspec": {
   "display_name": "Python 3",
   "language": "python",
   "name": "python3"
  },
  "language_info": {
   "codemirror_mode": {
    "name": "ipython",
    "version": 3
   },
   "file_extension": ".py",
   "mimetype": "text/x-python",
   "name": "python",
   "nbconvert_exporter": "python",
   "pygments_lexer": "ipython3",
   "version": "3.8.10"
  }
 },
 "nbformat": 4,
 "nbformat_minor": 4
}
