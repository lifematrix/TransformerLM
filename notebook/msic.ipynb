{
 "cells": [
  {
   "cell_type": "code",
   "execution_count": 1,
   "id": "765ad584",
   "metadata": {},
   "outputs": [],
   "source": [
    "import torch"
   ]
  },
  {
   "cell_type": "code",
   "execution_count": 2,
   "id": "a59d9110",
   "metadata": {},
   "outputs": [
    {
     "data": {
      "text/plain": [
       "torch.Size([25, 3, 300])"
      ]
     },
     "execution_count": 2,
     "metadata": {},
     "output_type": "execute_result"
    }
   ],
   "source": [
    "from torch.nn.utils.rnn import pad_sequence\n",
    "a = torch.ones(25, 300)\n",
    "b = torch.ones(22, 300)\n",
    "c = torch.ones(15, 300)\n",
    "pad_sequence([a, b, c]).size()"
   ]
  },
  {
   "cell_type": "code",
   "execution_count": 6,
   "id": "78905e3f",
   "metadata": {},
   "outputs": [
    {
     "data": {
      "text/plain": [
       "tensor([[[ 1.,  1.,  1.,  1.,  1.,  1.,  1.,  1.,  1.,  1.],\n",
       "         [ 1.,  1.,  1.,  1.,  1.,  1.,  1.,  1.,  1.,  1.],\n",
       "         [ 1.,  1.,  1.,  1.,  1.,  1.,  1.,  1.,  1.,  1.],\n",
       "         [-1., -1., -1., -1., -1., -1., -1., -1., -1., -1.]],\n",
       "\n",
       "        [[ 1.,  1.,  1.,  1.,  1.,  1.,  1.,  1.,  1.,  1.],\n",
       "         [ 1.,  1.,  1.,  1.,  1.,  1.,  1.,  1.,  1.,  1.],\n",
       "         [-1., -1., -1., -1., -1., -1., -1., -1., -1., -1.],\n",
       "         [-1., -1., -1., -1., -1., -1., -1., -1., -1., -1.]],\n",
       "\n",
       "        [[ 1.,  1.,  1.,  1.,  1.,  1.,  1.,  1.,  1.,  1.],\n",
       "         [ 1.,  1.,  1.,  1.,  1.,  1.,  1.,  1.,  1.,  1.],\n",
       "         [ 1.,  1.,  1.,  1.,  1.,  1.,  1.,  1.,  1.,  1.],\n",
       "         [ 1.,  1.,  1.,  1.,  1.,  1.,  1.,  1.,  1.,  1.]]])"
      ]
     },
     "execution_count": 6,
     "metadata": {},
     "output_type": "execute_result"
    }
   ],
   "source": [
    "a = torch.ones(3, 10)\n",
    "b = torch.ones(2, 10)\n",
    "c = torch.ones(4, 10)\n",
    "pad_sequence([a, b, c], batch_first=True, padding_value=-1)"
   ]
  },
  {
   "cell_type": "code",
   "execution_count": 10,
   "id": "ff03eb41",
   "metadata": {},
   "outputs": [
    {
     "data": {
      "text/plain": [
       "torch.Size([1, 3])"
      ]
     },
     "execution_count": 10,
     "metadata": {},
     "output_type": "execute_result"
    }
   ],
   "source": [
    "torch.tensor([[1,2,3]]).shape"
   ]
  },
  {
   "cell_type": "code",
   "execution_count": 17,
   "id": "9ac6bc8a",
   "metadata": {},
   "outputs": [],
   "source": [
    "def fn(item: int or str):\n",
    "    if isinstance(item, str):\n",
    "        print(\"str\")\n",
    "    elif isinstance(item, int):\n",
    "        print(\"int\")\n",
    "    else:\n",
    "        raise ValueError(\"wrong\")"
   ]
  },
  {
   "cell_type": "code",
   "execution_count": 18,
   "id": "34118344",
   "metadata": {},
   "outputs": [
    {
     "ename": "ValueError",
     "evalue": "wrong",
     "output_type": "error",
     "traceback": [
      "\u001b[0;31m---------------------------------------------------------------------------\u001b[0m",
      "\u001b[0;31mValueError\u001b[0m                                Traceback (most recent call last)",
      "Cell \u001b[0;32mIn[18], line 1\u001b[0m\n\u001b[0;32m----> 1\u001b[0m \u001b[43mfn\u001b[49m\u001b[43m(\u001b[49m\u001b[38;5;241;43m12.5\u001b[39;49m\u001b[43m)\u001b[49m\n",
      "Cell \u001b[0;32mIn[17], line 7\u001b[0m, in \u001b[0;36mfn\u001b[0;34m(item)\u001b[0m\n\u001b[1;32m      5\u001b[0m     \u001b[38;5;28mprint\u001b[39m(\u001b[38;5;124m\"\u001b[39m\u001b[38;5;124mint\u001b[39m\u001b[38;5;124m\"\u001b[39m)\n\u001b[1;32m      6\u001b[0m \u001b[38;5;28;01melse\u001b[39;00m:\n\u001b[0;32m----> 7\u001b[0m     \u001b[38;5;28;01mraise\u001b[39;00m \u001b[38;5;167;01mValueError\u001b[39;00m(\u001b[38;5;124m\"\u001b[39m\u001b[38;5;124mwrong\u001b[39m\u001b[38;5;124m\"\u001b[39m)\n",
      "\u001b[0;31mValueError\u001b[0m: wrong"
     ]
    }
   ],
   "source": [
    "fn(12.5)"
   ]
  },
  {
   "cell_type": "code",
   "execution_count": 19,
   "id": "d13279ac",
   "metadata": {},
   "outputs": [],
   "source": [
    "from collections import OrderedDict"
   ]
  },
  {
   "cell_type": "code",
   "execution_count": 21,
   "id": "faa94ed6",
   "metadata": {},
   "outputs": [],
   "source": [
    "d = OrderedDict({\n",
    "    'a': 2, 'b': 3})"
   ]
  },
  {
   "cell_type": "code",
   "execution_count": 22,
   "id": "14b4f9db",
   "metadata": {},
   "outputs": [
    {
     "data": {
      "text/plain": [
       "OrderedDict([('a', 2), ('b', 3)])"
      ]
     },
     "execution_count": 22,
     "metadata": {},
     "output_type": "execute_result"
    }
   ],
   "source": [
    "d"
   ]
  },
  {
   "cell_type": "code",
   "execution_count": 26,
   "id": "29717996",
   "metadata": {},
   "outputs": [
    {
     "data": {
      "text/plain": [
       "3"
      ]
     },
     "execution_count": 26,
     "metadata": {},
     "output_type": "execute_result"
    }
   ],
   "source": [
    "d['b']"
   ]
  },
  {
   "cell_type": "code",
   "execution_count": 27,
   "id": "6a787389",
   "metadata": {},
   "outputs": [
    {
     "data": {
      "text/plain": [
       "odict_keys(['a', 'b'])"
      ]
     },
     "execution_count": 27,
     "metadata": {},
     "output_type": "execute_result"
    }
   ],
   "source": [
    "d.keys()"
   ]
  },
  {
   "cell_type": "code",
   "execution_count": 28,
   "id": "40742159",
   "metadata": {},
   "outputs": [
    {
     "ename": "AttributeError",
     "evalue": "'collections.OrderedDict' object has no attribute 'insert'",
     "output_type": "error",
     "traceback": [
      "\u001b[0;31m---------------------------------------------------------------------------\u001b[0m",
      "\u001b[0;31mAttributeError\u001b[0m                            Traceback (most recent call last)",
      "Cell \u001b[0;32mIn[28], line 1\u001b[0m\n\u001b[0;32m----> 1\u001b[0m \u001b[43md\u001b[49m\u001b[38;5;241;43m.\u001b[39;49m\u001b[43minsert\u001b[49m\n",
      "\u001b[0;31mAttributeError\u001b[0m: 'collections.OrderedDict' object has no attribute 'insert'"
     ]
    }
   ],
   "source": [
    "d.insert"
   ]
  },
  {
   "cell_type": "code",
   "execution_count": 48,
   "id": "52ef0cc2",
   "metadata": {},
   "outputs": [],
   "source": [
    "voc_list = ['x', 'y', 'w']\n",
    "dx_map = {token: i for i, token in enumerate(voc_list)}"
   ]
  },
  {
   "cell_type": "code",
   "execution_count": 49,
   "id": "f6dd2946",
   "metadata": {},
   "outputs": [
    {
     "data": {
      "text/plain": [
       "{'x': 0, 'y': 1, 'w': 2}"
      ]
     },
     "execution_count": 49,
     "metadata": {},
     "output_type": "execute_result"
    }
   ],
   "source": [
    "dx_map"
   ]
  },
  {
   "cell_type": "code",
   "execution_count": 44,
   "id": "4e733297",
   "metadata": {},
   "outputs": [
    {
     "data": {
      "text/plain": [
       "['x', 'y', 'a', 'w']"
      ]
     },
     "execution_count": 44,
     "metadata": {},
     "output_type": "execute_result"
    }
   ],
   "source": [
    "voc_list.insert(-1, 'a')\n",
    "voc_list"
   ]
  },
  {
   "cell_type": "code",
   "execution_count": 50,
   "id": "22a7e603",
   "metadata": {},
   "outputs": [
    {
     "data": {
      "text/plain": [
       "['x', 'y', 'a', 'w']"
      ]
     },
     "execution_count": 50,
     "metadata": {},
     "output_type": "execute_result"
    }
   ],
   "source": [
    "voc_list.insert(2, 'a')\n",
    "voc_list"
   ]
  },
  {
   "cell_type": "code",
   "execution_count": 47,
   "id": "25b11f49",
   "metadata": {},
   "outputs": [
    {
     "data": {
      "text/plain": [
       "['x', 'y', 'w', 'a']"
      ]
     },
     "execution_count": 47,
     "metadata": {},
     "output_type": "execute_result"
    }
   ],
   "source": [
    "voc_list.insert(3, 'a')\n",
    "voc_list"
   ]
  },
  {
   "cell_type": "code",
   "execution_count": 51,
   "id": "8468fab4",
   "metadata": {},
   "outputs": [],
   "source": [
    "voc_list[2:2] = \"f\""
   ]
  },
  {
   "cell_type": "code",
   "execution_count": 52,
   "id": "c96101df",
   "metadata": {},
   "outputs": [
    {
     "data": {
      "text/plain": [
       "['x', 'y', 'f', 'a', 'w']"
      ]
     },
     "execution_count": 52,
     "metadata": {},
     "output_type": "execute_result"
    }
   ],
   "source": [
    "voc_list"
   ]
  },
  {
   "cell_type": "code",
   "execution_count": 53,
   "id": "14be887e",
   "metadata": {},
   "outputs": [],
   "source": [
    "voc_list[2:2] = [\"g\", \"t\"]"
   ]
  },
  {
   "cell_type": "code",
   "execution_count": 54,
   "id": "19c98e02",
   "metadata": {},
   "outputs": [
    {
     "data": {
      "text/plain": [
       "['x', 'y', 'g', 't', 'f', 'a', 'w']"
      ]
     },
     "execution_count": 54,
     "metadata": {},
     "output_type": "execute_result"
    }
   ],
   "source": [
    "voc_list"
   ]
  },
  {
   "cell_type": "code",
   "execution_count": 55,
   "id": "10f5e123",
   "metadata": {},
   "outputs": [],
   "source": [
    "voc_list[2] = [\"g\", \"t\"]"
   ]
  },
  {
   "cell_type": "code",
   "execution_count": 56,
   "id": "22317a0d",
   "metadata": {},
   "outputs": [
    {
     "data": {
      "text/plain": [
       "['x', 'y', ['g', 't'], 't', 'f', 'a', 'w']"
      ]
     },
     "execution_count": 56,
     "metadata": {},
     "output_type": "execute_result"
    }
   ],
   "source": [
    "voc_list"
   ]
  },
  {
   "cell_type": "code",
   "execution_count": 59,
   "id": "f26fcf59",
   "metadata": {},
   "outputs": [],
   "source": [
    "    DATASET_URLS = OrderedDict({\n",
    "        'train': \"train.{lan}.gz\",\n",
    "        'test': 'test_2016_flickr.{lan}.gz',\n",
    "        'val': \"val.{lan}.gz\",\n",
    "    })"
   ]
  },
  {
   "cell_type": "code",
   "execution_count": 60,
   "id": "d952bf83",
   "metadata": {},
   "outputs": [
    {
     "data": {
      "text/plain": [
       "OrderedDict([('train', 'train.{lan}.gz'),\n",
       "             ('test', 'test_2016_flickr.{lan}.gz'),\n",
       "             ('val', 'val.{lan}.gz')])"
      ]
     },
     "execution_count": 60,
     "metadata": {},
     "output_type": "execute_result"
    }
   ],
   "source": [
    "DATASET_URLS"
   ]
  },
  {
   "cell_type": "code",
   "execution_count": 61,
   "id": "dc7f9f69",
   "metadata": {},
   "outputs": [
    {
     "data": {
      "text/plain": [
       "OrderedDict([('train',\n",
       "              [['/home/steven/proj/lifematrix/TransformerLM/.data/train.de'],\n",
       "               ['/home/steven/proj/lifematrix/TransformerLM/.data/train.en']]),\n",
       "             ('val',\n",
       "              [['/home/steven/proj/lifematrix/TransformerLM/.data/val.de'],\n",
       "               ['/home/steven/proj/lifematrix/TransformerLM/.data/val.en']]),\n",
       "             ('test',\n",
       "              [['/home/steven/proj/lifematrix/TransformerLM/.data/test_2016_flickr.de'],\n",
       "               ['/home/steven/proj/lifematrix/TransformerLM/.data/test_2016_flickr.en']])])"
      ]
     },
     "execution_count": 61,
     "metadata": {},
     "output_type": "execute_result"
    }
   ],
   "source": [
    "OrderedDict([('train', [['/home/steven/proj/lifematrix/TransformerLM/.data/train.de'], ['/home/steven/proj/lifematrix/TransformerLM/.data/train.en']]), ('val', [['/home/steven/proj/lifematrix/TransformerLM/.data/val.de'], ['/home/steven/proj/lifematrix/TransformerLM/.data/val.en']]), ('test', [['/home/steven/proj/lifematrix/TransformerLM/.data/test_2016_flickr.de'], ['/home/steven/proj/lifematrix/TransformerLM/.data/test_2016_flickr.en']])])\n"
   ]
  },
  {
   "cell_type": "code",
   "execution_count": null,
   "id": "a9359206",
   "metadata": {},
   "outputs": [],
   "source": []
  }
 ],
 "metadata": {
  "kernelspec": {
   "display_name": "Python 3 (ipykernel)",
   "language": "python",
   "name": "python3"
  },
  "language_info": {
   "codemirror_mode": {
    "name": "ipython",
    "version": 3
   },
   "file_extension": ".py",
   "mimetype": "text/x-python",
   "name": "python",
   "nbconvert_exporter": "python",
   "pygments_lexer": "ipython3",
   "version": "3.9.15"
  }
 },
 "nbformat": 4,
 "nbformat_minor": 5
}
