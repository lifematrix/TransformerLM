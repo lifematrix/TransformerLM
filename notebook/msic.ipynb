{
 "cells": [
  {
   "cell_type": "code",
   "execution_count": 1,
   "id": "f8ecfcbf",
   "metadata": {},
   "outputs": [],
   "source": [
    "import torch"
   ]
  },
  {
   "cell_type": "code",
   "execution_count": 2,
   "id": "317b728a",
   "metadata": {},
   "outputs": [
    {
     "data": {
      "text/plain": [
       "torch.Size([25, 3, 300])"
      ]
     },
     "execution_count": 2,
     "metadata": {},
     "output_type": "execute_result"
    }
   ],
   "source": [
    "from torch.nn.utils.rnn import pad_sequence\n",
    "a = torch.ones(25, 300)\n",
    "b = torch.ones(22, 300)\n",
    "c = torch.ones(15, 300)\n",
    "pad_sequence([a, b, c]).size()"
   ]
  },
  {
   "cell_type": "code",
   "execution_count": 6,
   "id": "7342b0e0",
   "metadata": {},
   "outputs": [
    {
     "data": {
      "text/plain": [
       "tensor([[[ 1.,  1.,  1.,  1.,  1.,  1.,  1.,  1.,  1.,  1.],\n",
       "         [ 1.,  1.,  1.,  1.,  1.,  1.,  1.,  1.,  1.,  1.],\n",
       "         [ 1.,  1.,  1.,  1.,  1.,  1.,  1.,  1.,  1.,  1.],\n",
       "         [-1., -1., -1., -1., -1., -1., -1., -1., -1., -1.]],\n",
       "\n",
       "        [[ 1.,  1.,  1.,  1.,  1.,  1.,  1.,  1.,  1.,  1.],\n",
       "         [ 1.,  1.,  1.,  1.,  1.,  1.,  1.,  1.,  1.,  1.],\n",
       "         [-1., -1., -1., -1., -1., -1., -1., -1., -1., -1.],\n",
       "         [-1., -1., -1., -1., -1., -1., -1., -1., -1., -1.]],\n",
       "\n",
       "        [[ 1.,  1.,  1.,  1.,  1.,  1.,  1.,  1.,  1.,  1.],\n",
       "         [ 1.,  1.,  1.,  1.,  1.,  1.,  1.,  1.,  1.,  1.],\n",
       "         [ 1.,  1.,  1.,  1.,  1.,  1.,  1.,  1.,  1.,  1.],\n",
       "         [ 1.,  1.,  1.,  1.,  1.,  1.,  1.,  1.,  1.,  1.]]])"
      ]
     },
     "execution_count": 6,
     "metadata": {},
     "output_type": "execute_result"
    }
   ],
   "source": [
    "a = torch.ones(3, 10)\n",
    "b = torch.ones(2, 10)\n",
    "c = torch.ones(4, 10)\n",
    "pad_sequence([a, b, c], batch_first=True, padding_value=-1)"
   ]
  },
  {
   "cell_type": "code",
   "execution_count": 10,
   "id": "3c21a418",
   "metadata": {},
   "outputs": [
    {
     "data": {
      "text/plain": [
       "torch.Size([1, 3])"
      ]
     },
     "execution_count": 10,
     "metadata": {},
     "output_type": "execute_result"
    }
   ],
   "source": [
    "torch.tensor([[1,2,3]]).shape"
   ]
  },
  {
   "cell_type": "code",
   "execution_count": 17,
   "id": "31a69a7b",
   "metadata": {},
   "outputs": [],
   "source": [
    "def fn(item: int or str):\n",
    "    if isinstance(item, str):\n",
    "        print(\"str\")\n",
    "    elif isinstance(item, int):\n",
    "        print(\"int\")\n",
    "    else:\n",
    "        raise ValueError(\"wrong\")"
   ]
  },
  {
   "cell_type": "code",
   "execution_count": 18,
   "id": "9fd000da",
   "metadata": {},
   "outputs": [
    {
     "ename": "ValueError",
     "evalue": "wrong",
     "output_type": "error",
     "traceback": [
      "\u001b[0;31m---------------------------------------------------------------------------\u001b[0m",
      "\u001b[0;31mValueError\u001b[0m                                Traceback (most recent call last)",
      "Cell \u001b[0;32mIn[18], line 1\u001b[0m\n\u001b[0;32m----> 1\u001b[0m \u001b[43mfn\u001b[49m\u001b[43m(\u001b[49m\u001b[38;5;241;43m12.5\u001b[39;49m\u001b[43m)\u001b[49m\n",
      "Cell \u001b[0;32mIn[17], line 7\u001b[0m, in \u001b[0;36mfn\u001b[0;34m(item)\u001b[0m\n\u001b[1;32m      5\u001b[0m     \u001b[38;5;28mprint\u001b[39m(\u001b[38;5;124m\"\u001b[39m\u001b[38;5;124mint\u001b[39m\u001b[38;5;124m\"\u001b[39m)\n\u001b[1;32m      6\u001b[0m \u001b[38;5;28;01melse\u001b[39;00m:\n\u001b[0;32m----> 7\u001b[0m     \u001b[38;5;28;01mraise\u001b[39;00m \u001b[38;5;167;01mValueError\u001b[39;00m(\u001b[38;5;124m\"\u001b[39m\u001b[38;5;124mwrong\u001b[39m\u001b[38;5;124m\"\u001b[39m)\n",
      "\u001b[0;31mValueError\u001b[0m: wrong"
     ]
    }
   ],
   "source": [
    "fn(12.5)"
   ]
  },
  {
   "cell_type": "code",
   "execution_count": 19,
   "id": "91c6a112",
   "metadata": {},
   "outputs": [],
   "source": [
    "from collections import OrderedDict"
   ]
  },
  {
   "cell_type": "code",
   "execution_count": 21,
   "id": "ff0e4bcc",
   "metadata": {},
   "outputs": [],
   "source": [
    "d = OrderedDict({\n",
    "    'a': 2, 'b': 3})"
   ]
  },
  {
   "cell_type": "code",
   "execution_count": 22,
   "id": "8a41dd51",
   "metadata": {},
   "outputs": [
    {
     "data": {
      "text/plain": [
       "OrderedDict([('a', 2), ('b', 3)])"
      ]
     },
     "execution_count": 22,
     "metadata": {},
     "output_type": "execute_result"
    }
   ],
   "source": [
    "d"
   ]
  },
  {
   "cell_type": "code",
   "execution_count": 26,
   "id": "a77f0a35",
   "metadata": {},
   "outputs": [
    {
     "data": {
      "text/plain": [
       "3"
      ]
     },
     "execution_count": 26,
     "metadata": {},
     "output_type": "execute_result"
    }
   ],
   "source": [
    "d['b']"
   ]
  },
  {
   "cell_type": "code",
   "execution_count": 27,
   "id": "15147c16",
   "metadata": {},
   "outputs": [
    {
     "data": {
      "text/plain": [
       "odict_keys(['a', 'b'])"
      ]
     },
     "execution_count": 27,
     "metadata": {},
     "output_type": "execute_result"
    }
   ],
   "source": [
    "d.keys()"
   ]
  },
  {
   "cell_type": "code",
   "execution_count": 28,
   "id": "87ce0993",
   "metadata": {},
   "outputs": [
    {
     "ename": "AttributeError",
     "evalue": "'collections.OrderedDict' object has no attribute 'insert'",
     "output_type": "error",
     "traceback": [
      "\u001b[0;31m---------------------------------------------------------------------------\u001b[0m",
      "\u001b[0;31mAttributeError\u001b[0m                            Traceback (most recent call last)",
      "Cell \u001b[0;32mIn[28], line 1\u001b[0m\n\u001b[0;32m----> 1\u001b[0m \u001b[43md\u001b[49m\u001b[38;5;241;43m.\u001b[39;49m\u001b[43minsert\u001b[49m\n",
      "\u001b[0;31mAttributeError\u001b[0m: 'collections.OrderedDict' object has no attribute 'insert'"
     ]
    }
   ],
   "source": [
    "d.insert"
   ]
  },
  {
   "cell_type": "code",
   "execution_count": 48,
   "id": "8b9d1f65",
   "metadata": {},
   "outputs": [],
   "source": [
    "voc_list = ['x', 'y', 'w']\n",
    "dx_map = {token: i for i, token in enumerate(voc_list)}"
   ]
  },
  {
   "cell_type": "code",
   "execution_count": 49,
   "id": "a315a701",
   "metadata": {},
   "outputs": [
    {
     "data": {
      "text/plain": [
       "{'x': 0, 'y': 1, 'w': 2}"
      ]
     },
     "execution_count": 49,
     "metadata": {},
     "output_type": "execute_result"
    }
   ],
   "source": [
    "dx_map"
   ]
  },
  {
   "cell_type": "code",
   "execution_count": 44,
   "id": "fefd49b8",
   "metadata": {},
   "outputs": [
    {
     "data": {
      "text/plain": [
       "['x', 'y', 'a', 'w']"
      ]
     },
     "execution_count": 44,
     "metadata": {},
     "output_type": "execute_result"
    }
   ],
   "source": [
    "voc_list.insert(-1, 'a')\n",
    "voc_list"
   ]
  },
  {
   "cell_type": "code",
   "execution_count": 50,
   "id": "6c78721c",
   "metadata": {},
   "outputs": [
    {
     "data": {
      "text/plain": [
       "['x', 'y', 'a', 'w']"
      ]
     },
     "execution_count": 50,
     "metadata": {},
     "output_type": "execute_result"
    }
   ],
   "source": [
    "voc_list.insert(2, 'a')\n",
    "voc_list"
   ]
  },
  {
   "cell_type": "code",
   "execution_count": 47,
   "id": "d7e3560a",
   "metadata": {},
   "outputs": [
    {
     "data": {
      "text/plain": [
       "['x', 'y', 'w', 'a']"
      ]
     },
     "execution_count": 47,
     "metadata": {},
     "output_type": "execute_result"
    }
   ],
   "source": [
    "voc_list.insert(3, 'a')\n",
    "voc_list"
   ]
  },
  {
   "cell_type": "code",
   "execution_count": 51,
   "id": "e94d5f35",
   "metadata": {},
   "outputs": [],
   "source": [
    "voc_list[2:2] = \"f\""
   ]
  },
  {
   "cell_type": "code",
   "execution_count": 52,
   "id": "047f9c8b",
   "metadata": {},
   "outputs": [
    {
     "data": {
      "text/plain": [
       "['x', 'y', 'f', 'a', 'w']"
      ]
     },
     "execution_count": 52,
     "metadata": {},
     "output_type": "execute_result"
    }
   ],
   "source": [
    "voc_list"
   ]
  },
  {
   "cell_type": "code",
   "execution_count": 53,
   "id": "c261f983",
   "metadata": {},
   "outputs": [],
   "source": [
    "voc_list[2:2] = [\"g\", \"t\"]"
   ]
  },
  {
   "cell_type": "code",
   "execution_count": 54,
   "id": "6fb9e2d6",
   "metadata": {},
   "outputs": [
    {
     "data": {
      "text/plain": [
       "['x', 'y', 'g', 't', 'f', 'a', 'w']"
      ]
     },
     "execution_count": 54,
     "metadata": {},
     "output_type": "execute_result"
    }
   ],
   "source": [
    "voc_list"
   ]
  },
  {
   "cell_type": "code",
   "execution_count": 55,
   "id": "7f5637ce",
   "metadata": {},
   "outputs": [],
   "source": [
    "voc_list[2] = [\"g\", \"t\"]"
   ]
  },
  {
   "cell_type": "code",
   "execution_count": 56,
   "id": "e57e2056",
   "metadata": {},
   "outputs": [
    {
     "data": {
      "text/plain": [
       "['x', 'y', ['g', 't'], 't', 'f', 'a', 'w']"
      ]
     },
     "execution_count": 56,
     "metadata": {},
     "output_type": "execute_result"
    }
   ],
   "source": [
    "voc_list"
   ]
  },
  {
   "cell_type": "code",
   "execution_count": 59,
   "id": "813e2ed7",
   "metadata": {},
   "outputs": [],
   "source": [
    "    DATASET_URLS = OrderedDict({\n",
    "        'train': \"train.{lan}.gz\",\n",
    "        'test': 'test_2016_flickr.{lan}.gz',\n",
    "        'val': \"val.{lan}.gz\",\n",
    "    })"
   ]
  },
  {
   "cell_type": "code",
   "execution_count": 60,
   "id": "b6d371e1",
   "metadata": {},
   "outputs": [
    {
     "data": {
      "text/plain": [
       "OrderedDict([('train', 'train.{lan}.gz'),\n",
       "             ('test', 'test_2016_flickr.{lan}.gz'),\n",
       "             ('val', 'val.{lan}.gz')])"
      ]
     },
     "execution_count": 60,
     "metadata": {},
     "output_type": "execute_result"
    }
   ],
   "source": [
    "DATASET_URLS"
   ]
  },
  {
   "cell_type": "code",
   "execution_count": 61,
   "id": "1aff8511",
   "metadata": {},
   "outputs": [
    {
     "data": {
      "text/plain": [
       "OrderedDict([('train',\n",
       "              [['/home/steven/proj/lifematrix/TransformerLM/.data/train.de'],\n",
       "               ['/home/steven/proj/lifematrix/TransformerLM/.data/train.en']]),\n",
       "             ('val',\n",
       "              [['/home/steven/proj/lifematrix/TransformerLM/.data/val.de'],\n",
       "               ['/home/steven/proj/lifematrix/TransformerLM/.data/val.en']]),\n",
       "             ('test',\n",
       "              [['/home/steven/proj/lifematrix/TransformerLM/.data/test_2016_flickr.de'],\n",
       "               ['/home/steven/proj/lifematrix/TransformerLM/.data/test_2016_flickr.en']])])"
      ]
     },
     "execution_count": 61,
     "metadata": {},
     "output_type": "execute_result"
    }
   ],
   "source": [
    "OrderedDict([('train', [['/home/steven/proj/lifematrix/TransformerLM/.data/train.de'], ['/home/steven/proj/lifematrix/TransformerLM/.data/train.en']]), ('val', [['/home/steven/proj/lifematrix/TransformerLM/.data/val.de'], ['/home/steven/proj/lifematrix/TransformerLM/.data/val.en']]), ('test', [['/home/steven/proj/lifematrix/TransformerLM/.data/test_2016_flickr.de'], ['/home/steven/proj/lifematrix/TransformerLM/.data/test_2016_flickr.en']])])\n"
   ]
  },
  {
   "cell_type": "code",
   "execution_count": 63,
   "id": "b73dd43c",
   "metadata": {},
   "outputs": [
    {
     "name": "stdout",
     "output_type": "stream",
     "text": [
      "[tensor([3]), tensor([4]), tensor([5]), tensor([6])]\n",
      "[tensor([3]), tensor([3]), tensor([4]), tensor([4]), tensor([5]), tensor([5]), tensor([6]), tensor([6])]\n",
      "[tensor([3]), tensor([5]), tensor([4]), tensor([6])]\n",
      "[tensor([3]), tensor([4]), tensor([5]), tensor([6])]\n"
     ]
    }
   ],
   "source": [
    "import math\n",
    "\n",
    "class MyIterableDataset(torch.utils.data.IterableDataset):\n",
    "    def __init__(self, start, end):\n",
    "        super(MyIterableDataset).__init__()\n",
    "        assert end > start, \"this example code only works with end >= start\"\n",
    "        self.start = start\n",
    "        self.end = end\n",
    "    def __iter__(self):\n",
    "        return iter(range(self.start, self.end))\n",
    "# should give same set of data as range(3, 7), i.e., [3, 4, 5, 6].\n",
    "ds = MyIterableDataset(start=3, end=7)\n",
    "\n",
    "# Single-process loading\n",
    "print(list(torch.utils.data.DataLoader(ds, num_workers=0)))\n",
    "# Directly doing multi-process loading yields duplicate data\n",
    "print(list(torch.utils.data.DataLoader(ds, num_workers=2)))\n",
    "\n",
    "# Define a `worker_init_fn` that configures each dataset copy differently\n",
    "def worker_init_fn(worker_id):\n",
    "    worker_info = torch.utils.data.get_worker_info()\n",
    "    dataset = worker_info.dataset  # the dataset copy in this worker process\n",
    "    overall_start = dataset.start\n",
    "    overall_end = dataset.end\n",
    "    # configure the dataset to only process the split workload\n",
    "    per_worker = int(math.ceil((overall_end - overall_start) / float(worker_info.num_workers)))\n",
    "    worker_id = worker_info.id\n",
    "    dataset.start = overall_start + worker_id * per_worker\n",
    "    dataset.end = min(dataset.start + per_worker, overall_end)\n",
    "\n",
    "# Mult-process loading with the custom `worker_init_fn`\n",
    "# Worker 0 fetched [3, 4].  Worker 1 fetched [5, 6].\n",
    "print(list(torch.utils.data.DataLoader(ds, num_workers=2, worker_init_fn=worker_init_fn)))\n",
    "\n",
    "# With even more workers\n",
    "print(list(torch.utils.data.DataLoader(ds, num_workers=12, worker_init_fn=worker_init_fn)))"
   ]
  },
  {
   "cell_type": "code",
   "execution_count": 65,
   "id": "f38f7f9d",
   "metadata": {},
   "outputs": [
    {
     "ename": "TypeError",
     "evalue": "object of type 'MyIterableDataset' has no len()",
     "output_type": "error",
     "traceback": [
      "\u001b[0;31m---------------------------------------------------------------------------\u001b[0m",
      "\u001b[0;31mTypeError\u001b[0m                                 Traceback (most recent call last)",
      "Cell \u001b[0;32mIn[65], line 1\u001b[0m\n\u001b[0;32m----> 1\u001b[0m \u001b[38;5;28;43mlen\u001b[39;49m\u001b[43m(\u001b[49m\u001b[43mds\u001b[49m\u001b[43m)\u001b[49m\n",
      "\u001b[0;31mTypeError\u001b[0m: object of type 'MyIterableDataset' has no len()"
     ]
    }
   ],
   "source": [
    "len(ds)"
   ]
  },
  {
   "cell_type": "code",
   "execution_count": 67,
   "id": "c16ebae6",
   "metadata": {},
   "outputs": [
    {
     "name": "stdout",
     "output_type": "stream",
     "text": [
      "10 5\n"
     ]
    }
   ],
   "source": [
    "from functools import partial\n",
    "\n",
    "def fn(a, b):\n",
    "    print(a, b)\n",
    "    \n",
    "fn1 = partial(fn, 10)\n",
    "fn1(5)"
   ]
  },
  {
   "cell_type": "code",
   "execution_count": 80,
   "id": "d71bfd29",
   "metadata": {},
   "outputs": [],
   "source": [
    "from dotteddict import dotteddict\n",
    "import yaml"
   ]
  },
  {
   "cell_type": "code",
   "execution_count": 73,
   "id": "0646550c",
   "metadata": {},
   "outputs": [],
   "source": [
    "C = dotteddict(\n",
    "{ 'a': 1,\n",
    "  'b': 2,\n",
    "  'd': {'x':1, 'y': 2}\n",
    "}\n",
    ")"
   ]
  },
  {
   "cell_type": "code",
   "execution_count": 74,
   "id": "4716188b",
   "metadata": {},
   "outputs": [
    {
     "data": {
      "text/plain": [
       "{'a': 1, 'b': 2, 'd': {'x': 1, 'y': 2}}"
      ]
     },
     "execution_count": 74,
     "metadata": {},
     "output_type": "execute_result"
    }
   ],
   "source": [
    "C"
   ]
  },
  {
   "cell_type": "code",
   "execution_count": 75,
   "id": "a9069163",
   "metadata": {},
   "outputs": [
    {
     "data": {
      "text/plain": [
       "1"
      ]
     },
     "execution_count": 75,
     "metadata": {},
     "output_type": "execute_result"
    }
   ],
   "source": [
    "C.a"
   ]
  },
  {
   "cell_type": "code",
   "execution_count": 76,
   "id": "56f01585",
   "metadata": {},
   "outputs": [
    {
     "data": {
      "text/plain": [
       "2"
      ]
     },
     "execution_count": 76,
     "metadata": {},
     "output_type": "execute_result"
    }
   ],
   "source": [
    "C.b"
   ]
  },
  {
   "cell_type": "code",
   "execution_count": 79,
   "id": "04e29cca",
   "metadata": {},
   "outputs": [
    {
     "data": {
      "text/plain": [
       "2"
      ]
     },
     "execution_count": 79,
     "metadata": {},
     "output_type": "execute_result"
    }
   ],
   "source": [
    "C.d.y"
   ]
  },
  {
   "cell_type": "code",
   "execution_count": 85,
   "id": "7e9347c3",
   "metadata": {},
   "outputs": [
    {
     "data": {
      "text/plain": [
       "{'a': 1, 'b': 2, 'c': {'d': 100, 'e': 200}}"
      ]
     },
     "execution_count": 85,
     "metadata": {},
     "output_type": "execute_result"
    }
   ],
   "source": [
    "yaml.load(\n",
    "\"\"\"\n",
    "a: 1\n",
    "b: 2\n",
    "c:\n",
    "   d: 100\n",
    "   e: 200\n",
    "\"\"\"\n",
    ",\n",
    "yaml.SafeLoader)"
   ]
  },
  {
   "cell_type": "code",
   "execution_count": null,
   "id": "70649b1b",
   "metadata": {},
   "outputs": [],
   "source": [
    "yaml.Safe"
   ]
  },
  {
   "cell_type": "code",
   "execution_count": 86,
   "id": "fd3ecb0b",
   "metadata": {},
   "outputs": [],
   "source": [
    "C = dotteddict(\n",
    "yaml.load(\n",
    "\"\"\"\n",
    "a: 1\n",
    "b: 2\n",
    "c:\n",
    "   d: 100\n",
    "   e: 200\n",
    "\"\"\"\n",
    ",\n",
    "yaml.SafeLoader)\n",
    ")"
   ]
  },
  {
   "cell_type": "code",
   "execution_count": 88,
   "id": "d1ac8d07",
   "metadata": {},
   "outputs": [
    {
     "data": {
      "text/plain": [
       "{'a': 1, 'b': 2, 'c': {'d': 100, 'e': 200}}"
      ]
     },
     "execution_count": 88,
     "metadata": {},
     "output_type": "execute_result"
    }
   ],
   "source": [
    "C"
   ]
  },
  {
   "cell_type": "code",
   "execution_count": 89,
   "id": "da9a4c7d",
   "metadata": {},
   "outputs": [
    {
     "data": {
      "text/plain": [
       "100"
      ]
     },
     "execution_count": 89,
     "metadata": {},
     "output_type": "execute_result"
    }
   ],
   "source": [
    "C.c.d"
   ]
  },
  {
   "cell_type": "code",
   "execution_count": 39,
   "id": "f4873620",
   "metadata": {},
   "outputs": [],
   "source": [
    "import torch\n",
    "import numpy as np"
   ]
  },
  {
   "cell_type": "code",
   "execution_count": 20,
   "id": "0852ccb9",
   "metadata": {},
   "outputs": [],
   "source": [
    "scores = torch.randn([16,8,20,20])\n",
    "mask = torch.randint(2, [20,20], dtype=torch.bool)\n",
    "# mask[1,:] = 1.0"
   ]
  },
  {
   "cell_type": "code",
   "execution_count": 26,
   "id": "f555eb7e",
   "metadata": {},
   "outputs": [],
   "source": [
    "repeated_mask = mask.repeat(16, 8,1,1)"
   ]
  },
  {
   "cell_type": "code",
   "execution_count": 27,
   "id": "181418b8",
   "metadata": {},
   "outputs": [
    {
     "data": {
      "text/plain": [
       "tensor(True)"
      ]
     },
     "execution_count": 27,
     "metadata": {},
     "output_type": "execute_result"
    }
   ],
   "source": [
    "check = torch.tensor([torch.all(mask == repeated_mask[i, j]) for i in range(16) for j in range(8)])\n",
    "torch.all(check)\n",
    "        "
   ]
  },
  {
   "cell_type": "code",
   "execution_count": 33,
   "id": "5c2ffe68",
   "metadata": {},
   "outputs": [],
   "source": [
    "c1 = scores.masked_fill(mask==0, -1e9)\n",
    "c2 = scores.masked_fill(repeated_mask==0, -1e9)"
   ]
  },
  {
   "cell_type": "code",
   "execution_count": 34,
   "id": "06b0e12f",
   "metadata": {},
   "outputs": [
    {
     "data": {
      "text/plain": [
       "tensor(True)"
      ]
     },
     "execution_count": 34,
     "metadata": {},
     "output_type": "execute_result"
    }
   ],
   "source": [
    "torch.all(c1==c2)"
   ]
  },
  {
   "cell_type": "code",
   "execution_count": 38,
   "id": "44842e2a",
   "metadata": {},
   "outputs": [
    {
     "data": {
      "text/plain": [
       "torch.Size([20, 20])"
      ]
     },
     "execution_count": 38,
     "metadata": {},
     "output_type": "execute_result"
    }
   ],
   "source": [
    "mask.repeat(1,1).shape"
   ]
  },
  {
   "cell_type": "code",
   "execution_count": 40,
   "id": "025d97ca",
   "metadata": {},
   "outputs": [
    {
     "data": {
      "text/plain": [
       "(3, 4)"
      ]
     },
     "execution_count": 40,
     "metadata": {},
     "output_type": "execute_result"
    }
   ],
   "source": [
    "a = np.ones((3,4))\n",
    "a.shape"
   ]
  },
  {
   "cell_type": "code",
   "execution_count": 43,
   "id": "66e27034",
   "metadata": {},
   "outputs": [
    {
     "data": {
      "text/plain": [
       "(2, 2, 3, 4)"
      ]
     },
     "execution_count": 43,
     "metadata": {},
     "output_type": "execute_result"
    }
   ],
   "source": [
    "np.tile(a, [2,2, 1, 1]).shape"
   ]
  },
  {
   "cell_type": "code",
   "execution_count": 46,
   "id": "9ba3d0e3",
   "metadata": {},
   "outputs": [
    {
     "data": {
      "text/plain": [
       "tensor([[[[ 1.1300e+00,  8.6699e-01, -1.0000e+09,  ..., -3.1115e-01,\n",
       "           -1.0000e+09, -1.0000e+09],\n",
       "          [-3.5055e-01, -3.1816e-01, -1.0000e+09,  ...,  6.9452e-01,\n",
       "           -1.0000e+09, -1.0000e+09],\n",
       "          [ 2.7665e-01,  2.9299e+00, -1.0000e+09,  ..., -1.2391e+00,\n",
       "           -1.0000e+09, -1.0000e+09],\n",
       "          ...,\n",
       "          [ 1.2543e+00,  6.4123e-01, -1.0000e+09,  ...,  1.3318e+00,\n",
       "           -1.0000e+09, -1.0000e+09],\n",
       "          [ 1.6998e-01,  2.5506e-01, -1.0000e+09,  ...,  1.8486e+00,\n",
       "           -1.0000e+09, -1.0000e+09],\n",
       "          [ 1.5119e+00,  7.1501e-01, -1.0000e+09,  ..., -4.5649e-01,\n",
       "           -1.0000e+09, -1.0000e+09]],\n",
       "\n",
       "         [[-2.1752e-01,  2.2028e+00, -1.0000e+09,  ...,  4.6284e-01,\n",
       "           -1.0000e+09, -1.0000e+09],\n",
       "          [ 1.7189e-01,  1.7562e-01, -1.0000e+09,  ...,  8.8191e-01,\n",
       "           -1.0000e+09, -1.0000e+09],\n",
       "          [-3.0801e-01, -8.1665e-01, -1.0000e+09,  ..., -1.5282e+00,\n",
       "           -1.0000e+09, -1.0000e+09],\n",
       "          ...,\n",
       "          [-4.8405e-01,  1.1991e+00, -1.0000e+09,  ...,  1.9236e-01,\n",
       "           -1.0000e+09, -1.0000e+09],\n",
       "          [ 4.4666e-01,  5.1527e-03, -1.0000e+09,  ..., -5.0861e-01,\n",
       "           -1.0000e+09, -1.0000e+09],\n",
       "          [-1.9747e-01,  1.8369e+00, -1.0000e+09,  ...,  9.1469e-01,\n",
       "           -1.0000e+09, -1.0000e+09]],\n",
       "\n",
       "         [[-8.2523e-02, -4.3191e-02, -1.0000e+09,  ...,  3.7342e-01,\n",
       "           -1.0000e+09, -1.0000e+09],\n",
       "          [ 6.3297e-01,  1.2064e+00, -1.0000e+09,  ...,  7.9515e-01,\n",
       "           -1.0000e+09, -1.0000e+09],\n",
       "          [ 1.4626e+00,  1.6363e-01, -1.0000e+09,  ...,  1.1646e+00,\n",
       "           -1.0000e+09, -1.0000e+09],\n",
       "          ...,\n",
       "          [ 5.5470e-02,  1.4616e+00, -1.0000e+09,  ...,  4.7161e-01,\n",
       "           -1.0000e+09, -1.0000e+09],\n",
       "          [ 1.9524e-01,  2.9515e+00, -1.0000e+09,  ..., -1.0627e-01,\n",
       "           -1.0000e+09, -1.0000e+09],\n",
       "          [ 9.9178e-01,  6.0245e-01, -1.0000e+09,  ...,  3.7494e-01,\n",
       "           -1.0000e+09, -1.0000e+09]],\n",
       "\n",
       "         ...,\n",
       "\n",
       "         [[-1.4063e+00,  6.5541e-01, -1.0000e+09,  ...,  4.5178e-03,\n",
       "           -1.0000e+09, -1.0000e+09],\n",
       "          [-7.8986e-01, -5.2014e-01, -1.0000e+09,  ...,  6.5539e-02,\n",
       "           -1.0000e+09, -1.0000e+09],\n",
       "          [ 9.3775e-01,  1.2515e+00, -1.0000e+09,  ..., -3.0061e-01,\n",
       "           -1.0000e+09, -1.0000e+09],\n",
       "          ...,\n",
       "          [ 4.5996e-01,  1.2280e+00, -1.0000e+09,  ..., -9.9065e-01,\n",
       "           -1.0000e+09, -1.0000e+09],\n",
       "          [ 6.6131e-01, -2.5859e-01, -1.0000e+09,  ...,  6.5968e-01,\n",
       "           -1.0000e+09, -1.0000e+09],\n",
       "          [ 1.1848e+00,  1.2565e+00, -1.0000e+09,  ..., -1.6441e-01,\n",
       "           -1.0000e+09, -1.0000e+09]],\n",
       "\n",
       "         [[-3.9249e-01,  5.7437e-01, -1.0000e+09,  ...,  8.7404e-01,\n",
       "           -1.0000e+09, -1.0000e+09],\n",
       "          [ 3.3456e-01, -9.8007e-01, -1.0000e+09,  ...,  6.9386e-02,\n",
       "           -1.0000e+09, -1.0000e+09],\n",
       "          [-2.2153e+00, -9.3211e-01, -1.0000e+09,  ..., -1.4170e+00,\n",
       "           -1.0000e+09, -1.0000e+09],\n",
       "          ...,\n",
       "          [-6.5020e-01,  6.7023e-01, -1.0000e+09,  ...,  4.7675e-01,\n",
       "           -1.0000e+09, -1.0000e+09],\n",
       "          [ 3.1256e-01,  8.5433e-01, -1.0000e+09,  ..., -3.2935e-01,\n",
       "           -1.0000e+09, -1.0000e+09],\n",
       "          [ 2.6839e-01,  1.0041e+00, -1.0000e+09,  ..., -1.3175e+00,\n",
       "           -1.0000e+09, -1.0000e+09]],\n",
       "\n",
       "         [[-1.2415e-01, -4.4391e-01, -1.0000e+09,  ...,  6.5131e-01,\n",
       "           -1.0000e+09, -1.0000e+09],\n",
       "          [ 1.4342e+00,  5.1663e-01, -1.0000e+09,  ..., -5.6713e-01,\n",
       "           -1.0000e+09, -1.0000e+09],\n",
       "          [ 7.7425e-02, -1.4642e+00, -1.0000e+09,  ..., -8.5647e-01,\n",
       "           -1.0000e+09, -1.0000e+09],\n",
       "          ...,\n",
       "          [-4.1636e-01, -2.3448e-01, -1.0000e+09,  ...,  1.8706e-01,\n",
       "           -1.0000e+09, -1.0000e+09],\n",
       "          [ 1.3395e-01,  9.4198e-01, -1.0000e+09,  ...,  6.2463e-01,\n",
       "           -1.0000e+09, -1.0000e+09],\n",
       "          [-1.4040e+00, -1.5643e+00, -1.0000e+09,  ...,  1.2068e+00,\n",
       "           -1.0000e+09, -1.0000e+09]]],\n",
       "\n",
       "\n",
       "        [[[ 1.4061e+00, -3.1524e-01, -1.0000e+09,  ...,  1.0700e+00,\n",
       "           -1.0000e+09, -1.0000e+09],\n",
       "          [-9.7397e-01, -1.7199e-02, -1.0000e+09,  ..., -4.6330e-01,\n",
       "           -1.0000e+09, -1.0000e+09],\n",
       "          [-1.1167e+00,  9.1648e-01, -1.0000e+09,  ...,  6.7624e-01,\n",
       "           -1.0000e+09, -1.0000e+09],\n",
       "          ...,\n",
       "          [ 9.3383e-01,  1.0391e+00, -1.0000e+09,  ...,  6.6106e-02,\n",
       "           -1.0000e+09, -1.0000e+09],\n",
       "          [ 6.0653e-01, -1.0768e-01, -1.0000e+09,  ..., -2.2349e-01,\n",
       "           -1.0000e+09, -1.0000e+09],\n",
       "          [ 2.6091e-01, -5.7935e-01, -1.0000e+09,  ..., -5.1047e-03,\n",
       "           -1.0000e+09, -1.0000e+09]],\n",
       "\n",
       "         [[-5.3513e-01, -1.9101e+00, -1.0000e+09,  ...,  5.3181e-01,\n",
       "           -1.0000e+09, -1.0000e+09],\n",
       "          [-1.0021e+00, -8.5504e-02, -1.0000e+09,  ...,  1.7175e-02,\n",
       "           -1.0000e+09, -1.0000e+09],\n",
       "          [-8.0806e-02, -7.1769e-01, -1.0000e+09,  ..., -6.5717e-01,\n",
       "           -1.0000e+09, -1.0000e+09],\n",
       "          ...,\n",
       "          [ 2.1533e+00,  1.5546e+00, -1.0000e+09,  ..., -1.6513e-02,\n",
       "           -1.0000e+09, -1.0000e+09],\n",
       "          [ 1.3755e-01,  8.1504e-01, -1.0000e+09,  ...,  3.6993e-01,\n",
       "           -1.0000e+09, -1.0000e+09],\n",
       "          [ 5.5818e-01,  4.6628e-02, -1.0000e+09,  ..., -7.2276e-01,\n",
       "           -1.0000e+09, -1.0000e+09]],\n",
       "\n",
       "         [[ 1.8600e+00,  3.0936e+00, -1.0000e+09,  ...,  1.3864e+00,\n",
       "           -1.0000e+09, -1.0000e+09],\n",
       "          [-8.7749e-01,  6.4436e-01, -1.0000e+09,  ..., -2.3721e+00,\n",
       "           -1.0000e+09, -1.0000e+09],\n",
       "          [ 2.3833e-02,  2.1412e-01, -1.0000e+09,  ...,  9.6861e-01,\n",
       "           -1.0000e+09, -1.0000e+09],\n",
       "          ...,\n",
       "          [-5.5348e-01,  4.0526e-01, -1.0000e+09,  ...,  1.4366e+00,\n",
       "           -1.0000e+09, -1.0000e+09],\n",
       "          [ 2.4114e+00,  6.6309e-01, -1.0000e+09,  ..., -2.5219e+00,\n",
       "           -1.0000e+09, -1.0000e+09],\n",
       "          [-3.3885e-01,  2.3142e-01, -1.0000e+09,  ...,  5.1915e-01,\n",
       "           -1.0000e+09, -1.0000e+09]],\n",
       "\n",
       "         ...,\n",
       "\n",
       "         [[ 2.9255e-01, -1.4253e+00, -1.0000e+09,  ...,  1.1448e+00,\n",
       "           -1.0000e+09, -1.0000e+09],\n",
       "          [ 6.2745e-01, -1.5654e+00, -1.0000e+09,  ..., -8.5542e-01,\n",
       "           -1.0000e+09, -1.0000e+09],\n",
       "          [-1.0791e+00, -5.5217e-01, -1.0000e+09,  ...,  1.3404e+00,\n",
       "           -1.0000e+09, -1.0000e+09],\n",
       "          ...,\n",
       "          [ 7.7789e-01, -6.9395e-01, -1.0000e+09,  ...,  9.6056e-02,\n",
       "           -1.0000e+09, -1.0000e+09],\n",
       "          [ 4.1975e-01,  3.8248e-01, -1.0000e+09,  ...,  1.2067e+00,\n",
       "           -1.0000e+09, -1.0000e+09],\n",
       "          [ 4.0768e-01, -1.0434e+00, -1.0000e+09,  ...,  2.6000e-01,\n",
       "           -1.0000e+09, -1.0000e+09]],\n",
       "\n",
       "         [[ 1.0879e-01, -1.4881e+00, -1.0000e+09,  ..., -1.1126e+00,\n",
       "           -1.0000e+09, -1.0000e+09],\n",
       "          [ 1.3278e+00,  7.7910e-01, -1.0000e+09,  ...,  4.9397e-01,\n",
       "           -1.0000e+09, -1.0000e+09],\n",
       "          [ 1.7462e+00,  1.3696e+00, -1.0000e+09,  ..., -2.1372e+00,\n",
       "           -1.0000e+09, -1.0000e+09],\n",
       "          ...,\n",
       "          [ 5.6239e-01,  1.5825e-01, -1.0000e+09,  ..., -2.5694e-01,\n",
       "           -1.0000e+09, -1.0000e+09],\n",
       "          [-1.5244e-01,  1.1055e+00, -1.0000e+09,  ...,  3.7547e-01,\n",
       "           -1.0000e+09, -1.0000e+09],\n",
       "          [ 6.1963e-01, -1.6450e+00, -1.0000e+09,  ..., -8.4481e-01,\n",
       "           -1.0000e+09, -1.0000e+09]],\n",
       "\n",
       "         [[ 1.4969e-01,  3.2342e-01, -1.0000e+09,  ..., -8.4559e-01,\n",
       "           -1.0000e+09, -1.0000e+09],\n",
       "          [-2.9165e-01,  4.2621e-02, -1.0000e+09,  ..., -9.1172e-01,\n",
       "           -1.0000e+09, -1.0000e+09],\n",
       "          [ 9.3738e-02,  2.2622e-01, -1.0000e+09,  ..., -3.9109e-01,\n",
       "           -1.0000e+09, -1.0000e+09],\n",
       "          ...,\n",
       "          [ 1.6502e+00, -1.9679e-01, -1.0000e+09,  ...,  1.1748e+00,\n",
       "           -1.0000e+09, -1.0000e+09],\n",
       "          [-2.5143e+00,  1.4092e+00, -1.0000e+09,  ...,  1.3929e+00,\n",
       "           -1.0000e+09, -1.0000e+09],\n",
       "          [-4.4773e-01, -1.4129e+00, -1.0000e+09,  ..., -1.3520e-02,\n",
       "           -1.0000e+09, -1.0000e+09]]],\n",
       "\n",
       "\n",
       "        [[[ 7.6514e-01, -9.0726e-01, -1.0000e+09,  ...,  1.5878e+00,\n",
       "           -1.0000e+09, -1.0000e+09],\n",
       "          [ 2.7488e-01, -1.1550e+00, -1.0000e+09,  ...,  5.8859e-01,\n",
       "           -1.0000e+09, -1.0000e+09],\n",
       "          [ 1.1156e+00, -1.2380e+00, -1.0000e+09,  ..., -1.1367e+00,\n",
       "           -1.0000e+09, -1.0000e+09],\n",
       "          ...,\n",
       "          [ 5.7561e-01, -4.5854e-01, -1.0000e+09,  ...,  7.3946e-01,\n",
       "           -1.0000e+09, -1.0000e+09],\n",
       "          [ 5.5195e-01,  1.0448e+00, -1.0000e+09,  ..., -1.0863e+00,\n",
       "           -1.0000e+09, -1.0000e+09],\n",
       "          [-1.0113e+00,  2.2970e-01, -1.0000e+09,  ..., -2.4593e-01,\n",
       "           -1.0000e+09, -1.0000e+09]],\n",
       "\n",
       "         [[-1.7536e+00,  2.3275e-01, -1.0000e+09,  ...,  7.5608e-01,\n",
       "           -1.0000e+09, -1.0000e+09],\n",
       "          [ 2.7974e-01, -1.5374e+00, -1.0000e+09,  ...,  3.6000e-01,\n",
       "           -1.0000e+09, -1.0000e+09],\n",
       "          [ 1.1582e+00, -2.1922e+00, -1.0000e+09,  ..., -3.5665e-01,\n",
       "           -1.0000e+09, -1.0000e+09],\n",
       "          ...,\n",
       "          [ 3.9717e-01, -1.0472e+00, -1.0000e+09,  ..., -2.7388e-01,\n",
       "           -1.0000e+09, -1.0000e+09],\n",
       "          [-9.2083e-01,  6.3387e-01, -1.0000e+09,  ..., -6.7561e-03,\n",
       "           -1.0000e+09, -1.0000e+09],\n",
       "          [ 7.4770e-01, -7.0320e-01, -1.0000e+09,  ...,  8.8784e-01,\n",
       "           -1.0000e+09, -1.0000e+09]],\n",
       "\n",
       "         [[ 4.4470e-01, -1.0674e+00, -1.0000e+09,  ..., -1.1043e+00,\n",
       "           -1.0000e+09, -1.0000e+09],\n",
       "          [-1.0760e+00, -2.8949e-01, -1.0000e+09,  ..., -1.3619e+00,\n",
       "           -1.0000e+09, -1.0000e+09],\n",
       "          [-3.3388e-01, -3.7345e-01, -1.0000e+09,  ..., -1.9330e+00,\n",
       "           -1.0000e+09, -1.0000e+09],\n",
       "          ...,\n",
       "          [-1.0310e+00, -8.0003e-01, -1.0000e+09,  ..., -9.2521e-01,\n",
       "           -1.0000e+09, -1.0000e+09],\n",
       "          [ 1.4628e+00,  9.0432e-01, -1.0000e+09,  ...,  2.1569e-01,\n",
       "           -1.0000e+09, -1.0000e+09],\n",
       "          [ 9.4183e-02, -1.2130e+00, -1.0000e+09,  ..., -2.5480e+00,\n",
       "           -1.0000e+09, -1.0000e+09]],\n",
       "\n",
       "         ...,\n",
       "\n",
       "         [[-2.8170e+00, -1.7480e+00, -1.0000e+09,  ..., -9.9641e-01,\n",
       "           -1.0000e+09, -1.0000e+09],\n",
       "          [ 1.2099e+00, -1.7240e+00, -1.0000e+09,  ...,  4.8684e-01,\n",
       "           -1.0000e+09, -1.0000e+09],\n",
       "          [ 3.3139e-01,  1.0350e+00, -1.0000e+09,  ..., -7.1645e-01,\n",
       "           -1.0000e+09, -1.0000e+09],\n",
       "          ...,\n",
       "          [-1.7914e-01,  7.8754e-02, -1.0000e+09,  ..., -2.8927e-01,\n",
       "           -1.0000e+09, -1.0000e+09],\n",
       "          [ 2.9348e-01,  1.7401e-01, -1.0000e+09,  ...,  1.3223e+00,\n",
       "           -1.0000e+09, -1.0000e+09],\n",
       "          [-1.0582e+00, -1.0735e+00, -1.0000e+09,  ..., -1.4020e+00,\n",
       "           -1.0000e+09, -1.0000e+09]],\n",
       "\n",
       "         [[-4.6723e-01, -2.1563e-01, -1.0000e+09,  ...,  2.6795e-01,\n",
       "           -1.0000e+09, -1.0000e+09],\n",
       "          [ 6.3244e-01,  4.2137e-01, -1.0000e+09,  ...,  5.2690e-01,\n",
       "           -1.0000e+09, -1.0000e+09],\n",
       "          [-1.1955e+00, -1.5050e+00, -1.0000e+09,  ..., -1.2618e+00,\n",
       "           -1.0000e+09, -1.0000e+09],\n",
       "          ...,\n",
       "          [-8.8434e-01, -3.2179e-01, -1.0000e+09,  ...,  1.1432e+00,\n",
       "           -1.0000e+09, -1.0000e+09],\n",
       "          [-1.5426e+00, -1.0501e+00, -1.0000e+09,  ...,  8.7070e-01,\n",
       "           -1.0000e+09, -1.0000e+09],\n",
       "          [ 4.7672e-01,  9.9602e-01, -1.0000e+09,  ...,  2.4063e-01,\n",
       "           -1.0000e+09, -1.0000e+09]],\n",
       "\n",
       "         [[-9.6917e-01,  9.0146e-01, -1.0000e+09,  ..., -1.0819e-01,\n",
       "           -1.0000e+09, -1.0000e+09],\n",
       "          [-3.4580e-01,  1.4531e+00, -1.0000e+09,  ...,  1.0932e+00,\n",
       "           -1.0000e+09, -1.0000e+09],\n",
       "          [ 1.3259e+00, -2.0733e-01, -1.0000e+09,  ..., -1.4396e-01,\n",
       "           -1.0000e+09, -1.0000e+09],\n",
       "          ...,\n",
       "          [ 1.3316e+00,  2.8143e-01, -1.0000e+09,  ..., -1.7289e+00,\n",
       "           -1.0000e+09, -1.0000e+09],\n",
       "          [ 9.0345e-02,  1.1889e+00, -1.0000e+09,  ...,  1.1413e+00,\n",
       "           -1.0000e+09, -1.0000e+09],\n",
       "          [ 3.2291e-01,  6.8578e-01, -1.0000e+09,  ..., -3.4061e-01,\n",
       "           -1.0000e+09, -1.0000e+09]]],\n",
       "\n",
       "\n",
       "        ...,\n",
       "\n",
       "\n",
       "        [[[-5.7938e-01, -4.8876e-01, -1.0000e+09,  ...,  1.1796e-01,\n",
       "           -1.0000e+09, -1.0000e+09],\n",
       "          [ 5.3316e-02, -2.1812e-01, -1.0000e+09,  ..., -1.4822e+00,\n",
       "           -1.0000e+09, -1.0000e+09],\n",
       "          [-8.4102e-01,  5.8679e-01, -1.0000e+09,  ..., -2.2444e+00,\n",
       "           -1.0000e+09, -1.0000e+09],\n",
       "          ...,\n",
       "          [ 7.8362e-01, -9.7664e-02, -1.0000e+09,  ...,  3.6683e-03,\n",
       "           -1.0000e+09, -1.0000e+09],\n",
       "          [-7.9166e-01, -2.3622e-01, -1.0000e+09,  ..., -9.3369e-01,\n",
       "           -1.0000e+09, -1.0000e+09],\n",
       "          [-1.1772e+00,  7.0744e-01, -1.0000e+09,  ..., -2.5811e-01,\n",
       "           -1.0000e+09, -1.0000e+09]],\n",
       "\n",
       "         [[-5.2583e-01,  1.6693e+00, -1.0000e+09,  ..., -1.3379e+00,\n",
       "           -1.0000e+09, -1.0000e+09],\n",
       "          [ 7.5335e-01,  9.8439e-01, -1.0000e+09,  ...,  2.5213e+00,\n",
       "           -1.0000e+09, -1.0000e+09],\n",
       "          [ 1.4982e+00, -9.4035e-01, -1.0000e+09,  ..., -2.6366e-01,\n",
       "           -1.0000e+09, -1.0000e+09],\n",
       "          ...,\n",
       "          [-1.0313e+00, -1.0881e+00, -1.0000e+09,  ..., -4.8930e-01,\n",
       "           -1.0000e+09, -1.0000e+09],\n",
       "          [ 1.0885e+00, -3.4005e-01, -1.0000e+09,  ...,  2.2324e+00,\n",
       "           -1.0000e+09, -1.0000e+09],\n",
       "          [ 1.3162e-01,  1.7513e+00, -1.0000e+09,  ...,  1.6277e-01,\n",
       "           -1.0000e+09, -1.0000e+09]],\n",
       "\n",
       "         [[-1.9939e-01,  1.2880e+00, -1.0000e+09,  ...,  4.1703e-01,\n",
       "           -1.0000e+09, -1.0000e+09],\n",
       "          [-2.2030e-01,  8.4196e-01, -1.0000e+09,  ..., -4.1014e-01,\n",
       "           -1.0000e+09, -1.0000e+09],\n",
       "          [-1.3180e+00,  1.3557e+00, -1.0000e+09,  ..., -5.6432e-01,\n",
       "           -1.0000e+09, -1.0000e+09],\n",
       "          ...,\n",
       "          [-1.1052e+00,  2.0753e+00, -1.0000e+09,  ...,  3.3344e-01,\n",
       "           -1.0000e+09, -1.0000e+09],\n",
       "          [ 4.6487e-02,  2.8810e-01, -1.0000e+09,  ..., -3.5517e-01,\n",
       "           -1.0000e+09, -1.0000e+09],\n",
       "          [ 1.7492e-01,  3.5994e-04, -1.0000e+09,  ...,  2.3689e-01,\n",
       "           -1.0000e+09, -1.0000e+09]],\n",
       "\n",
       "         ...,\n",
       "\n",
       "         [[ 5.6414e-01, -8.3275e-01, -1.0000e+09,  ...,  1.4283e+00,\n",
       "           -1.0000e+09, -1.0000e+09],\n",
       "          [ 7.1395e-01, -1.5055e+00, -1.0000e+09,  ..., -3.9127e-01,\n",
       "           -1.0000e+09, -1.0000e+09],\n",
       "          [ 4.9616e-01,  1.8628e-01, -1.0000e+09,  ...,  3.9889e-01,\n",
       "           -1.0000e+09, -1.0000e+09],\n",
       "          ...,\n",
       "          [ 3.8081e-01,  2.7967e-01, -1.0000e+09,  ..., -5.5633e-01,\n",
       "           -1.0000e+09, -1.0000e+09],\n",
       "          [ 1.3405e-01,  3.6635e-01, -1.0000e+09,  ..., -1.7826e-01,\n",
       "           -1.0000e+09, -1.0000e+09],\n",
       "          [-1.3917e+00, -1.4198e+00, -1.0000e+09,  ...,  2.7213e+00,\n",
       "           -1.0000e+09, -1.0000e+09]],\n",
       "\n",
       "         [[ 1.0240e+00,  2.3748e-01, -1.0000e+09,  ...,  1.2077e+00,\n",
       "           -1.0000e+09, -1.0000e+09],\n",
       "          [-1.3091e-01, -4.6146e-01, -1.0000e+09,  ...,  5.1627e-01,\n",
       "           -1.0000e+09, -1.0000e+09],\n",
       "          [-9.3275e-02, -1.3882e+00, -1.0000e+09,  ..., -6.3843e-01,\n",
       "           -1.0000e+09, -1.0000e+09],\n",
       "          ...,\n",
       "          [-9.4853e-01, -2.3927e-01, -1.0000e+09,  ..., -7.3504e-01,\n",
       "           -1.0000e+09, -1.0000e+09],\n",
       "          [-1.5331e+00, -8.3507e-01, -1.0000e+09,  ..., -1.7061e-02,\n",
       "           -1.0000e+09, -1.0000e+09],\n",
       "          [-6.3601e-01,  1.6452e+00, -1.0000e+09,  ...,  4.7287e-01,\n",
       "           -1.0000e+09, -1.0000e+09]],\n",
       "\n",
       "         [[ 2.2957e-01, -6.3174e-01, -1.0000e+09,  ..., -1.5236e-01,\n",
       "           -1.0000e+09, -1.0000e+09],\n",
       "          [-2.9044e-01,  4.2402e-04, -1.0000e+09,  ...,  1.6856e+00,\n",
       "           -1.0000e+09, -1.0000e+09],\n",
       "          [ 8.7927e-01,  1.9564e+00, -1.0000e+09,  ...,  2.6619e+00,\n",
       "           -1.0000e+09, -1.0000e+09],\n",
       "          ...,\n",
       "          [ 3.1951e-01, -3.9584e-01, -1.0000e+09,  ...,  2.3578e+00,\n",
       "           -1.0000e+09, -1.0000e+09],\n",
       "          [ 3.3941e-01,  1.0092e+00, -1.0000e+09,  ..., -5.7857e-01,\n",
       "           -1.0000e+09, -1.0000e+09],\n",
       "          [-1.6195e-01, -2.8255e-01, -1.0000e+09,  ..., -5.6693e-01,\n",
       "           -1.0000e+09, -1.0000e+09]]],\n",
       "\n",
       "\n",
       "        [[[ 1.4930e-01,  1.2769e+00, -1.0000e+09,  ..., -5.7516e-01,\n",
       "           -1.0000e+09, -1.0000e+09],\n",
       "          [-5.0230e-02,  6.4357e-01, -1.0000e+09,  ...,  5.6249e-01,\n",
       "           -1.0000e+09, -1.0000e+09],\n",
       "          [-1.5644e+00,  6.5436e-01, -1.0000e+09,  ...,  3.9938e-01,\n",
       "           -1.0000e+09, -1.0000e+09],\n",
       "          ...,\n",
       "          [-7.6504e-01,  3.4810e-01, -1.0000e+09,  ..., -1.7441e+00,\n",
       "           -1.0000e+09, -1.0000e+09],\n",
       "          [-1.7826e+00,  6.2375e-01, -1.0000e+09,  ..., -4.6620e-01,\n",
       "           -1.0000e+09, -1.0000e+09],\n",
       "          [ 1.3078e+00,  1.3336e+00, -1.0000e+09,  ...,  9.2106e-01,\n",
       "           -1.0000e+09, -1.0000e+09]],\n",
       "\n",
       "         [[ 1.6707e+00, -1.9286e+00, -1.0000e+09,  ...,  9.8699e-01,\n",
       "           -1.0000e+09, -1.0000e+09],\n",
       "          [ 7.0168e-01,  9.1750e-01, -1.0000e+09,  ...,  1.9903e+00,\n",
       "           -1.0000e+09, -1.0000e+09],\n",
       "          [ 4.4484e-01,  1.1837e-02, -1.0000e+09,  ...,  2.4128e+00,\n",
       "           -1.0000e+09, -1.0000e+09],\n",
       "          ...,\n",
       "          [ 3.0955e-01,  9.7506e-02, -1.0000e+09,  ..., -2.0809e+00,\n",
       "           -1.0000e+09, -1.0000e+09],\n",
       "          [ 1.8684e-01, -1.3234e+00, -1.0000e+09,  ...,  7.9898e-01,\n",
       "           -1.0000e+09, -1.0000e+09],\n",
       "          [ 8.5923e-01, -9.2533e-01, -1.0000e+09,  ..., -2.4330e+00,\n",
       "           -1.0000e+09, -1.0000e+09]],\n",
       "\n",
       "         [[-2.0024e-01, -8.7637e-01, -1.0000e+09,  ..., -9.1353e-02,\n",
       "           -1.0000e+09, -1.0000e+09],\n",
       "          [-5.1480e-01,  1.4553e-01, -1.0000e+09,  ..., -5.1031e-01,\n",
       "           -1.0000e+09, -1.0000e+09],\n",
       "          [-1.7712e+00,  6.2672e-01, -1.0000e+09,  ...,  1.4031e-01,\n",
       "           -1.0000e+09, -1.0000e+09],\n",
       "          ...,\n",
       "          [-3.2234e-01, -7.1588e-01, -1.0000e+09,  ...,  2.6999e-01,\n",
       "           -1.0000e+09, -1.0000e+09],\n",
       "          [-1.8381e-01,  4.2482e-01, -1.0000e+09,  ...,  2.1291e-01,\n",
       "           -1.0000e+09, -1.0000e+09],\n",
       "          [ 6.8016e-01, -1.3539e+00, -1.0000e+09,  ...,  1.2901e+00,\n",
       "           -1.0000e+09, -1.0000e+09]],\n",
       "\n",
       "         ...,\n",
       "\n",
       "         [[ 1.4069e-01, -8.0690e-01, -1.0000e+09,  ..., -1.8796e+00,\n",
       "           -1.0000e+09, -1.0000e+09],\n",
       "          [-1.3196e+00,  1.4908e+00, -1.0000e+09,  ..., -9.8531e-01,\n",
       "           -1.0000e+09, -1.0000e+09],\n",
       "          [ 8.9052e-02, -1.7831e+00, -1.0000e+09,  ..., -1.5756e+00,\n",
       "           -1.0000e+09, -1.0000e+09],\n",
       "          ...,\n",
       "          [-1.2783e+00,  1.5673e+00, -1.0000e+09,  ..., -6.9536e-01,\n",
       "           -1.0000e+09, -1.0000e+09],\n",
       "          [-2.1714e-01,  1.4817e+00, -1.0000e+09,  ..., -1.6490e+00,\n",
       "           -1.0000e+09, -1.0000e+09],\n",
       "          [ 7.4537e-01, -1.2365e+00, -1.0000e+09,  ..., -1.3360e-01,\n",
       "           -1.0000e+09, -1.0000e+09]],\n",
       "\n",
       "         [[ 1.3300e+00,  1.0287e+00, -1.0000e+09,  ..., -2.9739e-01,\n",
       "           -1.0000e+09, -1.0000e+09],\n",
       "          [-7.4500e-03, -7.7521e-01, -1.0000e+09,  ..., -4.2864e-02,\n",
       "           -1.0000e+09, -1.0000e+09],\n",
       "          [-3.9570e-01,  1.2576e-01, -1.0000e+09,  ..., -1.4575e+00,\n",
       "           -1.0000e+09, -1.0000e+09],\n",
       "          ...,\n",
       "          [-1.2361e+00,  7.2285e-02, -1.0000e+09,  ...,  1.5027e+00,\n",
       "           -1.0000e+09, -1.0000e+09],\n",
       "          [ 1.6233e+00,  8.0623e-01, -1.0000e+09,  ..., -3.3549e-01,\n",
       "           -1.0000e+09, -1.0000e+09],\n",
       "          [ 4.2071e-01, -7.1494e-03, -1.0000e+09,  ..., -1.4016e+00,\n",
       "           -1.0000e+09, -1.0000e+09]],\n",
       "\n",
       "         [[ 1.0216e+00, -1.4441e+00, -1.0000e+09,  ...,  7.0918e-01,\n",
       "           -1.0000e+09, -1.0000e+09],\n",
       "          [ 5.8901e-01,  6.5351e-01, -1.0000e+09,  ...,  6.8690e-01,\n",
       "           -1.0000e+09, -1.0000e+09],\n",
       "          [ 9.0578e-02, -1.3533e-01, -1.0000e+09,  ...,  7.9092e-01,\n",
       "           -1.0000e+09, -1.0000e+09],\n",
       "          ...,\n",
       "          [ 6.2570e-01, -1.5634e+00, -1.0000e+09,  ..., -2.3647e-01,\n",
       "           -1.0000e+09, -1.0000e+09],\n",
       "          [ 3.5120e-01, -1.5560e+00, -1.0000e+09,  ...,  8.3663e-01,\n",
       "           -1.0000e+09, -1.0000e+09],\n",
       "          [ 2.7138e-01,  4.6682e-01, -1.0000e+09,  ...,  9.3224e-03,\n",
       "           -1.0000e+09, -1.0000e+09]]],\n",
       "\n",
       "\n",
       "        [[[ 2.4997e+00,  1.8240e-01, -1.0000e+09,  ..., -5.3652e-01,\n",
       "           -1.0000e+09, -1.0000e+09],\n",
       "          [ 8.1729e-01,  1.5395e+00, -1.0000e+09,  ...,  3.1378e+00,\n",
       "           -1.0000e+09, -1.0000e+09],\n",
       "          [-9.5641e-01,  3.3695e-01, -1.0000e+09,  ..., -4.9249e-01,\n",
       "           -1.0000e+09, -1.0000e+09],\n",
       "          ...,\n",
       "          [-7.5312e-01, -5.4193e-01, -1.0000e+09,  ..., -1.0660e-01,\n",
       "           -1.0000e+09, -1.0000e+09],\n",
       "          [-1.3460e+00,  9.6326e-01, -1.0000e+09,  ...,  6.0166e-01,\n",
       "           -1.0000e+09, -1.0000e+09],\n",
       "          [-5.9395e-01,  4.8662e-01, -1.0000e+09,  ..., -2.8969e-01,\n",
       "           -1.0000e+09, -1.0000e+09]],\n",
       "\n",
       "         [[ 1.8246e+00,  5.1993e-01, -1.0000e+09,  ..., -1.1803e+00,\n",
       "           -1.0000e+09, -1.0000e+09],\n",
       "          [-2.8228e-01,  4.5603e-01, -1.0000e+09,  ..., -5.8842e-01,\n",
       "           -1.0000e+09, -1.0000e+09],\n",
       "          [-8.9835e-01, -9.9932e-01, -1.0000e+09,  ..., -8.2823e-01,\n",
       "           -1.0000e+09, -1.0000e+09],\n",
       "          ...,\n",
       "          [-5.0542e-02, -3.4230e-01, -1.0000e+09,  ...,  7.0242e-02,\n",
       "           -1.0000e+09, -1.0000e+09],\n",
       "          [ 3.9678e-02,  2.1120e-01, -1.0000e+09,  ..., -1.7763e-01,\n",
       "           -1.0000e+09, -1.0000e+09],\n",
       "          [ 8.5569e-01, -1.0742e+00, -1.0000e+09,  ..., -4.8238e-01,\n",
       "           -1.0000e+09, -1.0000e+09]],\n",
       "\n",
       "         [[ 9.6425e-01,  1.1545e+00, -1.0000e+09,  ..., -1.2407e+00,\n",
       "           -1.0000e+09, -1.0000e+09],\n",
       "          [ 5.7622e-01, -7.1471e-01, -1.0000e+09,  ...,  5.9952e-01,\n",
       "           -1.0000e+09, -1.0000e+09],\n",
       "          [ 4.0251e-02,  1.3364e-01, -1.0000e+09,  ...,  1.4095e+00,\n",
       "           -1.0000e+09, -1.0000e+09],\n",
       "          ...,\n",
       "          [-5.3932e-01, -1.3639e+00, -1.0000e+09,  ...,  2.4377e+00,\n",
       "           -1.0000e+09, -1.0000e+09],\n",
       "          [ 1.0318e+00, -1.6232e+00, -1.0000e+09,  ...,  1.1198e+00,\n",
       "           -1.0000e+09, -1.0000e+09],\n",
       "          [-5.4599e-01, -1.2599e-01, -1.0000e+09,  ...,  7.9052e-01,\n",
       "           -1.0000e+09, -1.0000e+09]],\n",
       "\n",
       "         ...,\n",
       "\n",
       "         [[-1.1836e-01, -3.0532e-01, -1.0000e+09,  ..., -2.4780e+00,\n",
       "           -1.0000e+09, -1.0000e+09],\n",
       "          [-1.3581e+00, -1.5317e+00, -1.0000e+09,  ...,  2.5780e-01,\n",
       "           -1.0000e+09, -1.0000e+09],\n",
       "          [-7.7281e-01,  1.4676e-01, -1.0000e+09,  ...,  9.1373e-01,\n",
       "           -1.0000e+09, -1.0000e+09],\n",
       "          ...,\n",
       "          [ 1.6229e+00,  1.7764e+00, -1.0000e+09,  ...,  7.3216e-01,\n",
       "           -1.0000e+09, -1.0000e+09],\n",
       "          [ 1.2898e+00, -4.1930e-01, -1.0000e+09,  ..., -2.1633e-01,\n",
       "           -1.0000e+09, -1.0000e+09],\n",
       "          [ 1.7205e+00,  6.2670e-01, -1.0000e+09,  ...,  1.4323e-01,\n",
       "           -1.0000e+09, -1.0000e+09]],\n",
       "\n",
       "         [[ 1.7028e-01,  6.2153e-01, -1.0000e+09,  ...,  1.5294e+00,\n",
       "           -1.0000e+09, -1.0000e+09],\n",
       "          [ 1.4000e+00, -4.4952e-01, -1.0000e+09,  ..., -3.6970e-01,\n",
       "           -1.0000e+09, -1.0000e+09],\n",
       "          [ 1.1631e+00, -7.0794e-01, -1.0000e+09,  ...,  1.2398e+00,\n",
       "           -1.0000e+09, -1.0000e+09],\n",
       "          ...,\n",
       "          [ 2.7036e-01,  3.1790e-01, -1.0000e+09,  ...,  1.3092e+00,\n",
       "           -1.0000e+09, -1.0000e+09],\n",
       "          [ 8.4619e-01, -1.8632e-01, -1.0000e+09,  ...,  7.1278e-01,\n",
       "           -1.0000e+09, -1.0000e+09],\n",
       "          [-2.1709e+00,  1.2303e+00, -1.0000e+09,  ...,  1.5060e-01,\n",
       "           -1.0000e+09, -1.0000e+09]],\n",
       "\n",
       "         [[-5.6823e-02,  7.7467e-01, -1.0000e+09,  ...,  3.6854e-01,\n",
       "           -1.0000e+09, -1.0000e+09],\n",
       "          [ 4.5747e-01,  1.6177e+00, -1.0000e+09,  ...,  1.4637e+00,\n",
       "           -1.0000e+09, -1.0000e+09],\n",
       "          [ 2.8192e-01,  5.2563e-01, -1.0000e+09,  ...,  4.4447e-01,\n",
       "           -1.0000e+09, -1.0000e+09],\n",
       "          ...,\n",
       "          [ 5.8470e-02, -7.0546e-01, -1.0000e+09,  ...,  4.9503e-01,\n",
       "           -1.0000e+09, -1.0000e+09],\n",
       "          [ 6.7299e-01, -2.4407e+00, -1.0000e+09,  ...,  4.7492e-02,\n",
       "           -1.0000e+09, -1.0000e+09],\n",
       "          [ 1.1262e+00,  1.9753e-01, -1.0000e+09,  ..., -1.1154e+00,\n",
       "           -1.0000e+09, -1.0000e+09]]]])"
      ]
     },
     "execution_count": 46,
     "metadata": {},
     "output_type": "execute_result"
    }
   ],
   "source": [
    "scores = torch.randn([16,8,26,20])\n",
    "mask = torch.randint(2, [1, 20], dtype=torch.bool)\n",
    "scores.masked_fill_(mask==0, -1e9)"
   ]
  },
  {
   "cell_type": "code",
   "execution_count": 49,
   "id": "94e9b342",
   "metadata": {},
   "outputs": [],
   "source": [
    "from tqdm import tqdm\n",
    "from time import sleep"
   ]
  },
  {
   "cell_type": "code",
   "execution_count": 50,
   "id": "e323089c",
   "metadata": {},
   "outputs": [
    {
     "name": "stderr",
     "output_type": "stream",
     "text": [
      "Processing d: 100%|████████████████████████████████████████████████████████████████████████████████████████████████████████████████████████████████████████| 4/4 [00:01<00:00,  3.94it/s]\n"
     ]
    }
   ],
   "source": [
    "pbar = tqdm([\"a\", \"b\", \"c\", \"d\"])\n",
    "for char in pbar:\n",
    "    sleep(0.25)\n",
    "    pbar.set_description(\"Processing %s\" % char)"
   ]
  },
  {
   "cell_type": "code",
   "execution_count": 55,
   "id": "8f3c89ca",
   "metadata": {},
   "outputs": [
    {
     "ename": "RuntimeError",
     "evalue": "mean(): could not infer output dtype. Input dtype must be either a floating point or complex dtype. Got: Long",
     "output_type": "error",
     "traceback": [
      "\u001b[0;31m---------------------------------------------------------------------------\u001b[0m",
      "\u001b[0;31mRuntimeError\u001b[0m                              Traceback (most recent call last)",
      "Cell \u001b[0;32mIn[55], line 1\u001b[0m\n\u001b[0;32m----> 1\u001b[0m \u001b[43mtorch\u001b[49m\u001b[38;5;241;43m.\u001b[39;49m\u001b[43mmean\u001b[49m\u001b[43m(\u001b[49m\u001b[43mtorch\u001b[49m\u001b[38;5;241;43m.\u001b[39;49m\u001b[43mtensor\u001b[49m\u001b[43m(\u001b[49m\u001b[43m[\u001b[49m\u001b[38;5;241;43m1\u001b[39;49m\u001b[43m,\u001b[49m\u001b[38;5;241;43m2\u001b[39;49m\u001b[43m,\u001b[49m\u001b[38;5;241;43m3\u001b[39;49m\u001b[43m]\u001b[49m\u001b[43m)\u001b[49m\u001b[43m)\u001b[49m\n",
      "\u001b[0;31mRuntimeError\u001b[0m: mean(): could not infer output dtype. Input dtype must be either a floating point or complex dtype. Got: Long"
     ]
    }
   ],
   "source": [
    "torch.mean(torch.tensor([1,2,3]))"
   ]
  },
  {
   "cell_type": "code",
   "execution_count": 56,
   "id": "55766c1b",
   "metadata": {},
   "outputs": [
    {
     "data": {
      "text/plain": [
       "2.0"
      ]
     },
     "execution_count": 56,
     "metadata": {},
     "output_type": "execute_result"
    }
   ],
   "source": [
    "a = [1,2,3]\n",
    "sum(a)/len(a)"
   ]
  },
  {
   "cell_type": "code",
   "execution_count": 1,
   "id": "8997f6d8",
   "metadata": {},
   "outputs": [],
   "source": [
    "import torch"
   ]
  },
  {
   "cell_type": "code",
   "execution_count": 2,
   "id": "f472ac7e",
   "metadata": {},
   "outputs": [],
   "source": [
    "a = torch.ones(5000, 512)"
   ]
  },
  {
   "cell_type": "code",
   "execution_count": 4,
   "id": "893b5577",
   "metadata": {},
   "outputs": [
    {
     "data": {
      "text/plain": [
       "torch.Size([5000, 1, 512])"
      ]
     },
     "execution_count": 4,
     "metadata": {},
     "output_type": "execute_result"
    }
   ],
   "source": [
    "a.unsqueeze(-2).shape"
   ]
  },
  {
   "cell_type": "code",
   "execution_count": null,
   "id": "acba5c7f",
   "metadata": {},
   "outputs": [],
   "source": []
  }
 ],
 "metadata": {
  "kernelspec": {
   "display_name": "Python 3 (ipykernel)",
   "language": "python",
   "name": "python3"
  },
  "language_info": {
   "codemirror_mode": {
    "name": "ipython",
    "version": 3
   },
   "file_extension": ".py",
   "mimetype": "text/x-python",
   "name": "python",
   "nbconvert_exporter": "python",
   "pygments_lexer": "ipython3",
   "version": "3.9.15"
  }
 },
 "nbformat": 4,
 "nbformat_minor": 5
}
