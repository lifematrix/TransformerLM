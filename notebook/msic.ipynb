{
 "cells": [
  {
   "cell_type": "code",
   "execution_count": 1,
   "metadata": {},
   "outputs": [],
   "source": [
    "import torch"
   ]
  },
  {
   "cell_type": "code",
   "execution_count": 2,
   "metadata": {},
   "outputs": [
    {
     "data": {
      "text/plain": [
       "torch.Size([25, 3, 300])"
      ]
     },
     "execution_count": 2,
     "metadata": {},
     "output_type": "execute_result"
    }
   ],
   "source": [
    "from torch.nn.utils.rnn import pad_sequence\n",
    "a = torch.ones(25, 300)\n",
    "b = torch.ones(22, 300)\n",
    "c = torch.ones(15, 300)\n",
    "pad_sequence([a, b, c]).size()"
   ]
  },
  {
   "cell_type": "code",
   "execution_count": 6,
   "metadata": {},
   "outputs": [
    {
     "data": {
      "text/plain": [
       "tensor([[[ 1.,  1.,  1.,  1.,  1.,  1.,  1.,  1.,  1.,  1.],\n",
       "         [ 1.,  1.,  1.,  1.,  1.,  1.,  1.,  1.,  1.,  1.],\n",
       "         [ 1.,  1.,  1.,  1.,  1.,  1.,  1.,  1.,  1.,  1.],\n",
       "         [-1., -1., -1., -1., -1., -1., -1., -1., -1., -1.]],\n",
       "\n",
       "        [[ 1.,  1.,  1.,  1.,  1.,  1.,  1.,  1.,  1.,  1.],\n",
       "         [ 1.,  1.,  1.,  1.,  1.,  1.,  1.,  1.,  1.,  1.],\n",
       "         [-1., -1., -1., -1., -1., -1., -1., -1., -1., -1.],\n",
       "         [-1., -1., -1., -1., -1., -1., -1., -1., -1., -1.]],\n",
       "\n",
       "        [[ 1.,  1.,  1.,  1.,  1.,  1.,  1.,  1.,  1.,  1.],\n",
       "         [ 1.,  1.,  1.,  1.,  1.,  1.,  1.,  1.,  1.,  1.],\n",
       "         [ 1.,  1.,  1.,  1.,  1.,  1.,  1.,  1.,  1.,  1.],\n",
       "         [ 1.,  1.,  1.,  1.,  1.,  1.,  1.,  1.,  1.,  1.]]])"
      ]
     },
     "execution_count": 6,
     "metadata": {},
     "output_type": "execute_result"
    }
   ],
   "source": [
    "a = torch.ones(3, 10)\n",
    "b = torch.ones(2, 10)\n",
    "c = torch.ones(4, 10)\n",
    "pad_sequence([a, b, c], batch_first=True, padding_value=-1)"
   ]
  },
  {
   "cell_type": "code",
   "execution_count": 10,
   "metadata": {},
   "outputs": [
    {
     "data": {
      "text/plain": [
       "torch.Size([1, 3])"
      ]
     },
     "execution_count": 10,
     "metadata": {},
     "output_type": "execute_result"
    }
   ],
   "source": [
    "torch.tensor([[1,2,3]]).shape"
   ]
  },
  {
   "cell_type": "code",
   "execution_count": 17,
   "metadata": {},
   "outputs": [],
   "source": [
    "def fn(item: int or str):\n",
    "    if isinstance(item, str):\n",
    "        print(\"str\")\n",
    "    elif isinstance(item, int):\n",
    "        print(\"int\")\n",
    "    else:\n",
    "        raise ValueError(\"wrong\")"
   ]
  },
  {
   "cell_type": "code",
   "execution_count": 18,
   "metadata": {},
   "outputs": [
    {
     "ename": "ValueError",
     "evalue": "wrong",
     "output_type": "error",
     "traceback": [
      "\u001b[0;31m---------------------------------------------------------------------------\u001b[0m",
      "\u001b[0;31mValueError\u001b[0m                                Traceback (most recent call last)",
      "Cell \u001b[0;32mIn[18], line 1\u001b[0m\n\u001b[0;32m----> 1\u001b[0m \u001b[43mfn\u001b[49m\u001b[43m(\u001b[49m\u001b[38;5;241;43m12.5\u001b[39;49m\u001b[43m)\u001b[49m\n",
      "Cell \u001b[0;32mIn[17], line 7\u001b[0m, in \u001b[0;36mfn\u001b[0;34m(item)\u001b[0m\n\u001b[1;32m      5\u001b[0m     \u001b[38;5;28mprint\u001b[39m(\u001b[38;5;124m\"\u001b[39m\u001b[38;5;124mint\u001b[39m\u001b[38;5;124m\"\u001b[39m)\n\u001b[1;32m      6\u001b[0m \u001b[38;5;28;01melse\u001b[39;00m:\n\u001b[0;32m----> 7\u001b[0m     \u001b[38;5;28;01mraise\u001b[39;00m \u001b[38;5;167;01mValueError\u001b[39;00m(\u001b[38;5;124m\"\u001b[39m\u001b[38;5;124mwrong\u001b[39m\u001b[38;5;124m\"\u001b[39m)\n",
      "\u001b[0;31mValueError\u001b[0m: wrong"
     ]
    }
   ],
   "source": [
    "fn(12.5)"
   ]
  },
  {
   "cell_type": "code",
   "execution_count": 19,
   "metadata": {},
   "outputs": [],
   "source": [
    "from collections import OrderedDict"
   ]
  },
  {
   "cell_type": "code",
   "execution_count": 21,
   "metadata": {},
   "outputs": [],
   "source": [
    "d = OrderedDict({\n",
    "    'a': 2, 'b': 3})"
   ]
  },
  {
   "cell_type": "code",
   "execution_count": 22,
   "metadata": {},
   "outputs": [
    {
     "data": {
      "text/plain": [
       "OrderedDict([('a', 2), ('b', 3)])"
      ]
     },
     "execution_count": 22,
     "metadata": {},
     "output_type": "execute_result"
    }
   ],
   "source": [
    "d"
   ]
  },
  {
   "cell_type": "code",
   "execution_count": 26,
   "metadata": {},
   "outputs": [
    {
     "data": {
      "text/plain": [
       "3"
      ]
     },
     "execution_count": 26,
     "metadata": {},
     "output_type": "execute_result"
    }
   ],
   "source": [
    "d['b']"
   ]
  },
  {
   "cell_type": "code",
   "execution_count": 27,
   "metadata": {},
   "outputs": [
    {
     "data": {
      "text/plain": [
       "odict_keys(['a', 'b'])"
      ]
     },
     "execution_count": 27,
     "metadata": {},
     "output_type": "execute_result"
    }
   ],
   "source": [
    "d.keys()"
   ]
  },
  {
   "cell_type": "code",
   "execution_count": 28,
   "metadata": {},
   "outputs": [
    {
     "ename": "AttributeError",
     "evalue": "'collections.OrderedDict' object has no attribute 'insert'",
     "output_type": "error",
     "traceback": [
      "\u001b[0;31m---------------------------------------------------------------------------\u001b[0m",
      "\u001b[0;31mAttributeError\u001b[0m                            Traceback (most recent call last)",
      "Cell \u001b[0;32mIn[28], line 1\u001b[0m\n\u001b[0;32m----> 1\u001b[0m \u001b[43md\u001b[49m\u001b[38;5;241;43m.\u001b[39;49m\u001b[43minsert\u001b[49m\n",
      "\u001b[0;31mAttributeError\u001b[0m: 'collections.OrderedDict' object has no attribute 'insert'"
     ]
    }
   ],
   "source": [
    "d.insert"
   ]
  },
  {
   "cell_type": "code",
   "execution_count": 48,
   "metadata": {},
   "outputs": [],
   "source": [
    "voc_list = ['x', 'y', 'w']\n",
    "dx_map = {token: i for i, token in enumerate(voc_list)}"
   ]
  },
  {
   "cell_type": "code",
   "execution_count": 49,
   "metadata": {},
   "outputs": [
    {
     "data": {
      "text/plain": [
       "{'x': 0, 'y': 1, 'w': 2}"
      ]
     },
     "execution_count": 49,
     "metadata": {},
     "output_type": "execute_result"
    }
   ],
   "source": [
    "dx_map"
   ]
  },
  {
   "cell_type": "code",
   "execution_count": 44,
   "metadata": {},
   "outputs": [
    {
     "data": {
      "text/plain": [
       "['x', 'y', 'a', 'w']"
      ]
     },
     "execution_count": 44,
     "metadata": {},
     "output_type": "execute_result"
    }
   ],
   "source": [
    "voc_list.insert(-1, 'a')\n",
    "voc_list"
   ]
  },
  {
   "cell_type": "code",
   "execution_count": 50,
   "metadata": {},
   "outputs": [
    {
     "data": {
      "text/plain": [
       "['x', 'y', 'a', 'w']"
      ]
     },
     "execution_count": 50,
     "metadata": {},
     "output_type": "execute_result"
    }
   ],
   "source": [
    "voc_list.insert(2, 'a')\n",
    "voc_list"
   ]
  },
  {
   "cell_type": "code",
   "execution_count": 47,
   "metadata": {},
   "outputs": [
    {
     "data": {
      "text/plain": [
       "['x', 'y', 'w', 'a']"
      ]
     },
     "execution_count": 47,
     "metadata": {},
     "output_type": "execute_result"
    }
   ],
   "source": [
    "voc_list.insert(3, 'a')\n",
    "voc_list"
   ]
  },
  {
   "cell_type": "code",
   "execution_count": 51,
   "metadata": {},
   "outputs": [],
   "source": [
    "voc_list[2:2] = \"f\""
   ]
  },
  {
   "cell_type": "code",
   "execution_count": 52,
   "metadata": {},
   "outputs": [
    {
     "data": {
      "text/plain": [
       "['x', 'y', 'f', 'a', 'w']"
      ]
     },
     "execution_count": 52,
     "metadata": {},
     "output_type": "execute_result"
    }
   ],
   "source": [
    "voc_list"
   ]
  },
  {
   "cell_type": "code",
   "execution_count": 53,
   "metadata": {},
   "outputs": [],
   "source": [
    "voc_list[2:2] = [\"g\", \"t\"]"
   ]
  },
  {
   "cell_type": "code",
   "execution_count": 54,
   "metadata": {},
   "outputs": [
    {
     "data": {
      "text/plain": [
       "['x', 'y', 'g', 't', 'f', 'a', 'w']"
      ]
     },
     "execution_count": 54,
     "metadata": {},
     "output_type": "execute_result"
    }
   ],
   "source": [
    "voc_list"
   ]
  },
  {
   "cell_type": "code",
   "execution_count": 55,
   "metadata": {},
   "outputs": [],
   "source": [
    "voc_list[2] = [\"g\", \"t\"]"
   ]
  },
  {
   "cell_type": "code",
   "execution_count": 56,
   "metadata": {},
   "outputs": [
    {
     "data": {
      "text/plain": [
       "['x', 'y', ['g', 't'], 't', 'f', 'a', 'w']"
      ]
     },
     "execution_count": 56,
     "metadata": {},
     "output_type": "execute_result"
    }
   ],
   "source": [
    "voc_list"
   ]
  },
  {
   "cell_type": "code",
   "execution_count": 59,
   "metadata": {},
   "outputs": [],
   "source": [
    "    DATASET_URLS = OrderedDict({\n",
    "        'train': \"train.{lan}.gz\",\n",
    "        'test': 'test_2016_flickr.{lan}.gz',\n",
    "        'val': \"val.{lan}.gz\",\n",
    "    })"
   ]
  },
  {
   "cell_type": "code",
   "execution_count": 60,
   "metadata": {},
   "outputs": [
    {
     "data": {
      "text/plain": [
       "OrderedDict([('train', 'train.{lan}.gz'),\n",
       "             ('test', 'test_2016_flickr.{lan}.gz'),\n",
       "             ('val', 'val.{lan}.gz')])"
      ]
     },
     "execution_count": 60,
     "metadata": {},
     "output_type": "execute_result"
    }
   ],
   "source": [
    "DATASET_URLS"
   ]
  },
  {
   "cell_type": "code",
   "execution_count": 61,
   "metadata": {},
   "outputs": [
    {
     "data": {
      "text/plain": [
       "OrderedDict([('train',\n",
       "              [['/home/steven/proj/lifematrix/TransformerLM/.data/train.de'],\n",
       "               ['/home/steven/proj/lifematrix/TransformerLM/.data/train.en']]),\n",
       "             ('val',\n",
       "              [['/home/steven/proj/lifematrix/TransformerLM/.data/val.de'],\n",
       "               ['/home/steven/proj/lifematrix/TransformerLM/.data/val.en']]),\n",
       "             ('test',\n",
       "              [['/home/steven/proj/lifematrix/TransformerLM/.data/test_2016_flickr.de'],\n",
       "               ['/home/steven/proj/lifematrix/TransformerLM/.data/test_2016_flickr.en']])])"
      ]
     },
     "execution_count": 61,
     "metadata": {},
     "output_type": "execute_result"
    }
   ],
   "source": [
    "OrderedDict([('train', [['/home/steven/proj/lifematrix/TransformerLM/.data/train.de'], ['/home/steven/proj/lifematrix/TransformerLM/.data/train.en']]), ('val', [['/home/steven/proj/lifematrix/TransformerLM/.data/val.de'], ['/home/steven/proj/lifematrix/TransformerLM/.data/val.en']]), ('test', [['/home/steven/proj/lifematrix/TransformerLM/.data/test_2016_flickr.de'], ['/home/steven/proj/lifematrix/TransformerLM/.data/test_2016_flickr.en']])])\n"
   ]
  },
  {
   "cell_type": "code",
   "execution_count": 63,
   "metadata": {},
   "outputs": [
    {
     "name": "stdout",
     "output_type": "stream",
     "text": [
      "[tensor([3]), tensor([4]), tensor([5]), tensor([6])]\n",
      "[tensor([3]), tensor([3]), tensor([4]), tensor([4]), tensor([5]), tensor([5]), tensor([6]), tensor([6])]\n",
      "[tensor([3]), tensor([5]), tensor([4]), tensor([6])]\n",
      "[tensor([3]), tensor([4]), tensor([5]), tensor([6])]\n"
     ]
    }
   ],
   "source": [
    "import math\n",
    "\n",
    "class MyIterableDataset(torch.utils.data.IterableDataset):\n",
    "    def __init__(self, start, end):\n",
    "        super(MyIterableDataset).__init__()\n",
    "        assert end > start, \"this example code only works with end >= start\"\n",
    "        self.start = start\n",
    "        self.end = end\n",
    "    def __iter__(self):\n",
    "        return iter(range(self.start, self.end))\n",
    "# should give same set of data as range(3, 7), i.e., [3, 4, 5, 6].\n",
    "ds = MyIterableDataset(start=3, end=7)\n",
    "\n",
    "# Single-process loading\n",
    "print(list(torch.utils.data.DataLoader(ds, num_workers=0)))\n",
    "# Directly doing multi-process loading yields duplicate data\n",
    "print(list(torch.utils.data.DataLoader(ds, num_workers=2)))\n",
    "\n",
    "# Define a `worker_init_fn` that configures each dataset copy differently\n",
    "def worker_init_fn(worker_id):\n",
    "    worker_info = torch.utils.data.get_worker_info()\n",
    "    dataset = worker_info.dataset  # the dataset copy in this worker process\n",
    "    overall_start = dataset.start\n",
    "    overall_end = dataset.end\n",
    "    # configure the dataset to only process the split workload\n",
    "    per_worker = int(math.ceil((overall_end - overall_start) / float(worker_info.num_workers)))\n",
    "    worker_id = worker_info.id\n",
    "    dataset.start = overall_start + worker_id * per_worker\n",
    "    dataset.end = min(dataset.start + per_worker, overall_end)\n",
    "\n",
    "# Mult-process loading with the custom `worker_init_fn`\n",
    "# Worker 0 fetched [3, 4].  Worker 1 fetched [5, 6].\n",
    "print(list(torch.utils.data.DataLoader(ds, num_workers=2, worker_init_fn=worker_init_fn)))\n",
    "\n",
    "# With even more workers\n",
    "print(list(torch.utils.data.DataLoader(ds, num_workers=12, worker_init_fn=worker_init_fn)))"
   ]
  },
  {
   "cell_type": "code",
   "execution_count": 65,
   "metadata": {},
   "outputs": [
    {
     "ename": "TypeError",
     "evalue": "object of type 'MyIterableDataset' has no len()",
     "output_type": "error",
     "traceback": [
      "\u001b[0;31m---------------------------------------------------------------------------\u001b[0m",
      "\u001b[0;31mTypeError\u001b[0m                                 Traceback (most recent call last)",
      "Cell \u001b[0;32mIn[65], line 1\u001b[0m\n\u001b[0;32m----> 1\u001b[0m \u001b[38;5;28;43mlen\u001b[39;49m\u001b[43m(\u001b[49m\u001b[43mds\u001b[49m\u001b[43m)\u001b[49m\n",
      "\u001b[0;31mTypeError\u001b[0m: object of type 'MyIterableDataset' has no len()"
     ]
    }
   ],
   "source": [
    "len(ds)"
   ]
  },
  {
   "cell_type": "code",
   "execution_count": 67,
   "metadata": {},
   "outputs": [
    {
     "name": "stdout",
     "output_type": "stream",
     "text": [
      "10 5\n"
     ]
    }
   ],
   "source": [
    "from functools import partial\n",
    "\n",
    "def fn(a, b):\n",
    "    print(a, b)\n",
    "    \n",
    "fn1 = partial(fn, 10)\n",
    "fn1(5)"
   ]
  },
  {
   "cell_type": "code",
   "execution_count": 80,
   "metadata": {},
   "outputs": [],
   "source": [
    "from dotteddict import dotteddict\n",
    "import yaml"
   ]
  },
  {
   "cell_type": "code",
   "execution_count": 73,
   "metadata": {},
   "outputs": [],
   "source": [
    "C = dotteddict(\n",
    "{ 'a': 1,\n",
    "  'b': 2,\n",
    "  'd': {'x':1, 'y': 2}\n",
    "}\n",
    ")"
   ]
  },
  {
   "cell_type": "code",
   "execution_count": 74,
   "metadata": {},
   "outputs": [
    {
     "data": {
      "text/plain": [
       "{'a': 1, 'b': 2, 'd': {'x': 1, 'y': 2}}"
      ]
     },
     "execution_count": 74,
     "metadata": {},
     "output_type": "execute_result"
    }
   ],
   "source": [
    "C"
   ]
  },
  {
   "cell_type": "code",
   "execution_count": 75,
   "metadata": {},
   "outputs": [
    {
     "data": {
      "text/plain": [
       "1"
      ]
     },
     "execution_count": 75,
     "metadata": {},
     "output_type": "execute_result"
    }
   ],
   "source": [
    "C.a"
   ]
  },
  {
   "cell_type": "code",
   "execution_count": 76,
   "metadata": {},
   "outputs": [
    {
     "data": {
      "text/plain": [
       "2"
      ]
     },
     "execution_count": 76,
     "metadata": {},
     "output_type": "execute_result"
    }
   ],
   "source": [
    "C.b"
   ]
  },
  {
   "cell_type": "code",
   "execution_count": 79,
   "metadata": {},
   "outputs": [
    {
     "data": {
      "text/plain": [
       "2"
      ]
     },
     "execution_count": 79,
     "metadata": {},
     "output_type": "execute_result"
    }
   ],
   "source": [
    "C.d.y"
   ]
  },
  {
   "cell_type": "code",
   "execution_count": 85,
   "metadata": {},
   "outputs": [
    {
     "data": {
      "text/plain": [
       "{'a': 1, 'b': 2, 'c': {'d': 100, 'e': 200}}"
      ]
     },
     "execution_count": 85,
     "metadata": {},
     "output_type": "execute_result"
    }
   ],
   "source": [
    "yaml.load(\n",
    "\"\"\"\n",
    "a: 1\n",
    "b: 2\n",
    "c:\n",
    "   d: 100\n",
    "   e: 200\n",
    "\"\"\"\n",
    ",\n",
    "yaml.SafeLoader)"
   ]
  },
  {
   "cell_type": "code",
   "execution_count": null,
   "metadata": {},
   "outputs": [],
   "source": [
    "yaml.Safe"
   ]
  },
  {
   "cell_type": "code",
   "execution_count": 86,
   "metadata": {},
   "outputs": [],
   "source": [
    "C = dotteddict(\n",
    "yaml.load(\n",
    "\"\"\"\n",
    "a: 1\n",
    "b: 2\n",
    "c:\n",
    "   d: 100\n",
    "   e: 200\n",
    "\"\"\"\n",
    ",\n",
    "yaml.SafeLoader)\n",
    ")"
   ]
  },
  {
   "cell_type": "code",
   "execution_count": 88,
   "metadata": {},
   "outputs": [
    {
     "data": {
      "text/plain": [
       "{'a': 1, 'b': 2, 'c': {'d': 100, 'e': 200}}"
      ]
     },
     "execution_count": 88,
     "metadata": {},
     "output_type": "execute_result"
    }
   ],
   "source": [
    "C"
   ]
  },
  {
   "cell_type": "code",
   "execution_count": 89,
   "metadata": {},
   "outputs": [
    {
     "data": {
      "text/plain": [
       "100"
      ]
     },
     "execution_count": 89,
     "metadata": {},
     "output_type": "execute_result"
    }
   ],
   "source": [
    "C.c.d"
   ]
  },
  {
   "cell_type": "code",
   "execution_count": 39,
   "metadata": {},
   "outputs": [],
   "source": [
    "import torch\n",
    "import numpy as np"
   ]
  },
  {
   "cell_type": "code",
   "execution_count": 20,
   "metadata": {},
   "outputs": [],
   "source": [
    "scores = torch.randn([16,8,20,20])\n",
    "mask = torch.randint(2, [20,20], dtype=torch.bool)\n",
    "# mask[1,:] = 1.0"
   ]
  },
  {
   "cell_type": "code",
   "execution_count": 26,
   "metadata": {},
   "outputs": [],
   "source": [
    "repeated_mask = mask.repeat(16, 8,1,1)"
   ]
  },
  {
   "cell_type": "code",
   "execution_count": 27,
   "metadata": {},
   "outputs": [
    {
     "data": {
      "text/plain": [
       "tensor(True)"
      ]
     },
     "execution_count": 27,
     "metadata": {},
     "output_type": "execute_result"
    }
   ],
   "source": [
    "check = torch.tensor([torch.all(mask == repeated_mask[i, j]) for i in range(16) for j in range(8)])\n",
    "torch.all(check)\n",
    "        "
   ]
  },
  {
   "cell_type": "code",
   "execution_count": 33,
   "metadata": {},
   "outputs": [],
   "source": [
    "c1 = scores.masked_fill(mask==0, -1e9)\n",
    "c2 = scores.masked_fill(repeated_mask==0, -1e9)"
   ]
  },
  {
   "cell_type": "code",
   "execution_count": 34,
   "metadata": {},
   "outputs": [
    {
     "data": {
      "text/plain": [
       "tensor(True)"
      ]
     },
     "execution_count": 34,
     "metadata": {},
     "output_type": "execute_result"
    }
   ],
   "source": [
    "torch.all(c1==c2)"
   ]
  },
  {
   "cell_type": "code",
   "execution_count": 38,
   "metadata": {},
   "outputs": [
    {
     "data": {
      "text/plain": [
       "torch.Size([20, 20])"
      ]
     },
     "execution_count": 38,
     "metadata": {},
     "output_type": "execute_result"
    }
   ],
   "source": [
    "mask.repeat(1,1).shape"
   ]
  },
  {
   "cell_type": "code",
   "execution_count": 40,
   "metadata": {},
   "outputs": [
    {
     "data": {
      "text/plain": [
       "(3, 4)"
      ]
     },
     "execution_count": 40,
     "metadata": {},
     "output_type": "execute_result"
    }
   ],
   "source": [
    "a = np.ones((3,4))\n",
    "a.shape"
   ]
  },
  {
   "cell_type": "code",
   "execution_count": 43,
   "metadata": {},
   "outputs": [
    {
     "data": {
      "text/plain": [
       "(2, 2, 3, 4)"
      ]
     },
     "execution_count": 43,
     "metadata": {},
     "output_type": "execute_result"
    }
   ],
   "source": [
    "np.tile(a, [2,2, 1, 1]).shape"
   ]
  },
  {
   "cell_type": "code",
   "execution_count": 46,
   "metadata": {},
   "outputs": [
    {
     "data": {
      "text/plain": [
       "tensor([[[[ 1.1300e+00,  8.6699e-01, -1.0000e+09,  ..., -3.1115e-01,\n",
       "           -1.0000e+09, -1.0000e+09],\n",
       "          [-3.5055e-01, -3.1816e-01, -1.0000e+09,  ...,  6.9452e-01,\n",
       "           -1.0000e+09, -1.0000e+09],\n",
       "          [ 2.7665e-01,  2.9299e+00, -1.0000e+09,  ..., -1.2391e+00,\n",
       "           -1.0000e+09, -1.0000e+09],\n",
       "          ...,\n",
       "          [ 1.2543e+00,  6.4123e-01, -1.0000e+09,  ...,  1.3318e+00,\n",
       "           -1.0000e+09, -1.0000e+09],\n",
       "          [ 1.6998e-01,  2.5506e-01, -1.0000e+09,  ...,  1.8486e+00,\n",
       "           -1.0000e+09, -1.0000e+09],\n",
       "          [ 1.5119e+00,  7.1501e-01, -1.0000e+09,  ..., -4.5649e-01,\n",
       "           -1.0000e+09, -1.0000e+09]],\n",
       "\n",
       "         [[-2.1752e-01,  2.2028e+00, -1.0000e+09,  ...,  4.6284e-01,\n",
       "           -1.0000e+09, -1.0000e+09],\n",
       "          [ 1.7189e-01,  1.7562e-01, -1.0000e+09,  ...,  8.8191e-01,\n",
       "           -1.0000e+09, -1.0000e+09],\n",
       "          [-3.0801e-01, -8.1665e-01, -1.0000e+09,  ..., -1.5282e+00,\n",
       "           -1.0000e+09, -1.0000e+09],\n",
       "          ...,\n",
       "          [-4.8405e-01,  1.1991e+00, -1.0000e+09,  ...,  1.9236e-01,\n",
       "           -1.0000e+09, -1.0000e+09],\n",
       "          [ 4.4666e-01,  5.1527e-03, -1.0000e+09,  ..., -5.0861e-01,\n",
       "           -1.0000e+09, -1.0000e+09],\n",
       "          [-1.9747e-01,  1.8369e+00, -1.0000e+09,  ...,  9.1469e-01,\n",
       "           -1.0000e+09, -1.0000e+09]],\n",
       "\n",
       "         [[-8.2523e-02, -4.3191e-02, -1.0000e+09,  ...,  3.7342e-01,\n",
       "           -1.0000e+09, -1.0000e+09],\n",
       "          [ 6.3297e-01,  1.2064e+00, -1.0000e+09,  ...,  7.9515e-01,\n",
       "           -1.0000e+09, -1.0000e+09],\n",
       "          [ 1.4626e+00,  1.6363e-01, -1.0000e+09,  ...,  1.1646e+00,\n",
       "           -1.0000e+09, -1.0000e+09],\n",
       "          ...,\n",
       "          [ 5.5470e-02,  1.4616e+00, -1.0000e+09,  ...,  4.7161e-01,\n",
       "           -1.0000e+09, -1.0000e+09],\n",
       "          [ 1.9524e-01,  2.9515e+00, -1.0000e+09,  ..., -1.0627e-01,\n",
       "           -1.0000e+09, -1.0000e+09],\n",
       "          [ 9.9178e-01,  6.0245e-01, -1.0000e+09,  ...,  3.7494e-01,\n",
       "           -1.0000e+09, -1.0000e+09]],\n",
       "\n",
       "         ...,\n",
       "\n",
       "         [[-1.4063e+00,  6.5541e-01, -1.0000e+09,  ...,  4.5178e-03,\n",
       "           -1.0000e+09, -1.0000e+09],\n",
       "          [-7.8986e-01, -5.2014e-01, -1.0000e+09,  ...,  6.5539e-02,\n",
       "           -1.0000e+09, -1.0000e+09],\n",
       "          [ 9.3775e-01,  1.2515e+00, -1.0000e+09,  ..., -3.0061e-01,\n",
       "           -1.0000e+09, -1.0000e+09],\n",
       "          ...,\n",
       "          [ 4.5996e-01,  1.2280e+00, -1.0000e+09,  ..., -9.9065e-01,\n",
       "           -1.0000e+09, -1.0000e+09],\n",
       "          [ 6.6131e-01, -2.5859e-01, -1.0000e+09,  ...,  6.5968e-01,\n",
       "           -1.0000e+09, -1.0000e+09],\n",
       "          [ 1.1848e+00,  1.2565e+00, -1.0000e+09,  ..., -1.6441e-01,\n",
       "           -1.0000e+09, -1.0000e+09]],\n",
       "\n",
       "         [[-3.9249e-01,  5.7437e-01, -1.0000e+09,  ...,  8.7404e-01,\n",
       "           -1.0000e+09, -1.0000e+09],\n",
       "          [ 3.3456e-01, -9.8007e-01, -1.0000e+09,  ...,  6.9386e-02,\n",
       "           -1.0000e+09, -1.0000e+09],\n",
       "          [-2.2153e+00, -9.3211e-01, -1.0000e+09,  ..., -1.4170e+00,\n",
       "           -1.0000e+09, -1.0000e+09],\n",
       "          ...,\n",
       "          [-6.5020e-01,  6.7023e-01, -1.0000e+09,  ...,  4.7675e-01,\n",
       "           -1.0000e+09, -1.0000e+09],\n",
       "          [ 3.1256e-01,  8.5433e-01, -1.0000e+09,  ..., -3.2935e-01,\n",
       "           -1.0000e+09, -1.0000e+09],\n",
       "          [ 2.6839e-01,  1.0041e+00, -1.0000e+09,  ..., -1.3175e+00,\n",
       "           -1.0000e+09, -1.0000e+09]],\n",
       "\n",
       "         [[-1.2415e-01, -4.4391e-01, -1.0000e+09,  ...,  6.5131e-01,\n",
       "           -1.0000e+09, -1.0000e+09],\n",
       "          [ 1.4342e+00,  5.1663e-01, -1.0000e+09,  ..., -5.6713e-01,\n",
       "           -1.0000e+09, -1.0000e+09],\n",
       "          [ 7.7425e-02, -1.4642e+00, -1.0000e+09,  ..., -8.5647e-01,\n",
       "           -1.0000e+09, -1.0000e+09],\n",
       "          ...,\n",
       "          [-4.1636e-01, -2.3448e-01, -1.0000e+09,  ...,  1.8706e-01,\n",
       "           -1.0000e+09, -1.0000e+09],\n",
       "          [ 1.3395e-01,  9.4198e-01, -1.0000e+09,  ...,  6.2463e-01,\n",
       "           -1.0000e+09, -1.0000e+09],\n",
       "          [-1.4040e+00, -1.5643e+00, -1.0000e+09,  ...,  1.2068e+00,\n",
       "           -1.0000e+09, -1.0000e+09]]],\n",
       "\n",
       "\n",
       "        [[[ 1.4061e+00, -3.1524e-01, -1.0000e+09,  ...,  1.0700e+00,\n",
       "           -1.0000e+09, -1.0000e+09],\n",
       "          [-9.7397e-01, -1.7199e-02, -1.0000e+09,  ..., -4.6330e-01,\n",
       "           -1.0000e+09, -1.0000e+09],\n",
       "          [-1.1167e+00,  9.1648e-01, -1.0000e+09,  ...,  6.7624e-01,\n",
       "           -1.0000e+09, -1.0000e+09],\n",
       "          ...,\n",
       "          [ 9.3383e-01,  1.0391e+00, -1.0000e+09,  ...,  6.6106e-02,\n",
       "           -1.0000e+09, -1.0000e+09],\n",
       "          [ 6.0653e-01, -1.0768e-01, -1.0000e+09,  ..., -2.2349e-01,\n",
       "           -1.0000e+09, -1.0000e+09],\n",
       "          [ 2.6091e-01, -5.7935e-01, -1.0000e+09,  ..., -5.1047e-03,\n",
       "           -1.0000e+09, -1.0000e+09]],\n",
       "\n",
       "         [[-5.3513e-01, -1.9101e+00, -1.0000e+09,  ...,  5.3181e-01,\n",
       "           -1.0000e+09, -1.0000e+09],\n",
       "          [-1.0021e+00, -8.5504e-02, -1.0000e+09,  ...,  1.7175e-02,\n",
       "           -1.0000e+09, -1.0000e+09],\n",
       "          [-8.0806e-02, -7.1769e-01, -1.0000e+09,  ..., -6.5717e-01,\n",
       "           -1.0000e+09, -1.0000e+09],\n",
       "          ...,\n",
       "          [ 2.1533e+00,  1.5546e+00, -1.0000e+09,  ..., -1.6513e-02,\n",
       "           -1.0000e+09, -1.0000e+09],\n",
       "          [ 1.3755e-01,  8.1504e-01, -1.0000e+09,  ...,  3.6993e-01,\n",
       "           -1.0000e+09, -1.0000e+09],\n",
       "          [ 5.5818e-01,  4.6628e-02, -1.0000e+09,  ..., -7.2276e-01,\n",
       "           -1.0000e+09, -1.0000e+09]],\n",
       "\n",
       "         [[ 1.8600e+00,  3.0936e+00, -1.0000e+09,  ...,  1.3864e+00,\n",
       "           -1.0000e+09, -1.0000e+09],\n",
       "          [-8.7749e-01,  6.4436e-01, -1.0000e+09,  ..., -2.3721e+00,\n",
       "           -1.0000e+09, -1.0000e+09],\n",
       "          [ 2.3833e-02,  2.1412e-01, -1.0000e+09,  ...,  9.6861e-01,\n",
       "           -1.0000e+09, -1.0000e+09],\n",
       "          ...,\n",
       "          [-5.5348e-01,  4.0526e-01, -1.0000e+09,  ...,  1.4366e+00,\n",
       "           -1.0000e+09, -1.0000e+09],\n",
       "          [ 2.4114e+00,  6.6309e-01, -1.0000e+09,  ..., -2.5219e+00,\n",
       "           -1.0000e+09, -1.0000e+09],\n",
       "          [-3.3885e-01,  2.3142e-01, -1.0000e+09,  ...,  5.1915e-01,\n",
       "           -1.0000e+09, -1.0000e+09]],\n",
       "\n",
       "         ...,\n",
       "\n",
       "         [[ 2.9255e-01, -1.4253e+00, -1.0000e+09,  ...,  1.1448e+00,\n",
       "           -1.0000e+09, -1.0000e+09],\n",
       "          [ 6.2745e-01, -1.5654e+00, -1.0000e+09,  ..., -8.5542e-01,\n",
       "           -1.0000e+09, -1.0000e+09],\n",
       "          [-1.0791e+00, -5.5217e-01, -1.0000e+09,  ...,  1.3404e+00,\n",
       "           -1.0000e+09, -1.0000e+09],\n",
       "          ...,\n",
       "          [ 7.7789e-01, -6.9395e-01, -1.0000e+09,  ...,  9.6056e-02,\n",
       "           -1.0000e+09, -1.0000e+09],\n",
       "          [ 4.1975e-01,  3.8248e-01, -1.0000e+09,  ...,  1.2067e+00,\n",
       "           -1.0000e+09, -1.0000e+09],\n",
       "          [ 4.0768e-01, -1.0434e+00, -1.0000e+09,  ...,  2.6000e-01,\n",
       "           -1.0000e+09, -1.0000e+09]],\n",
       "\n",
       "         [[ 1.0879e-01, -1.4881e+00, -1.0000e+09,  ..., -1.1126e+00,\n",
       "           -1.0000e+09, -1.0000e+09],\n",
       "          [ 1.3278e+00,  7.7910e-01, -1.0000e+09,  ...,  4.9397e-01,\n",
       "           -1.0000e+09, -1.0000e+09],\n",
       "          [ 1.7462e+00,  1.3696e+00, -1.0000e+09,  ..., -2.1372e+00,\n",
       "           -1.0000e+09, -1.0000e+09],\n",
       "          ...,\n",
       "          [ 5.6239e-01,  1.5825e-01, -1.0000e+09,  ..., -2.5694e-01,\n",
       "           -1.0000e+09, -1.0000e+09],\n",
       "          [-1.5244e-01,  1.1055e+00, -1.0000e+09,  ...,  3.7547e-01,\n",
       "           -1.0000e+09, -1.0000e+09],\n",
       "          [ 6.1963e-01, -1.6450e+00, -1.0000e+09,  ..., -8.4481e-01,\n",
       "           -1.0000e+09, -1.0000e+09]],\n",
       "\n",
       "         [[ 1.4969e-01,  3.2342e-01, -1.0000e+09,  ..., -8.4559e-01,\n",
       "           -1.0000e+09, -1.0000e+09],\n",
       "          [-2.9165e-01,  4.2621e-02, -1.0000e+09,  ..., -9.1172e-01,\n",
       "           -1.0000e+09, -1.0000e+09],\n",
       "          [ 9.3738e-02,  2.2622e-01, -1.0000e+09,  ..., -3.9109e-01,\n",
       "           -1.0000e+09, -1.0000e+09],\n",
       "          ...,\n",
       "          [ 1.6502e+00, -1.9679e-01, -1.0000e+09,  ...,  1.1748e+00,\n",
       "           -1.0000e+09, -1.0000e+09],\n",
       "          [-2.5143e+00,  1.4092e+00, -1.0000e+09,  ...,  1.3929e+00,\n",
       "           -1.0000e+09, -1.0000e+09],\n",
       "          [-4.4773e-01, -1.4129e+00, -1.0000e+09,  ..., -1.3520e-02,\n",
       "           -1.0000e+09, -1.0000e+09]]],\n",
       "\n",
       "\n",
       "        [[[ 7.6514e-01, -9.0726e-01, -1.0000e+09,  ...,  1.5878e+00,\n",
       "           -1.0000e+09, -1.0000e+09],\n",
       "          [ 2.7488e-01, -1.1550e+00, -1.0000e+09,  ...,  5.8859e-01,\n",
       "           -1.0000e+09, -1.0000e+09],\n",
       "          [ 1.1156e+00, -1.2380e+00, -1.0000e+09,  ..., -1.1367e+00,\n",
       "           -1.0000e+09, -1.0000e+09],\n",
       "          ...,\n",
       "          [ 5.7561e-01, -4.5854e-01, -1.0000e+09,  ...,  7.3946e-01,\n",
       "           -1.0000e+09, -1.0000e+09],\n",
       "          [ 5.5195e-01,  1.0448e+00, -1.0000e+09,  ..., -1.0863e+00,\n",
       "           -1.0000e+09, -1.0000e+09],\n",
       "          [-1.0113e+00,  2.2970e-01, -1.0000e+09,  ..., -2.4593e-01,\n",
       "           -1.0000e+09, -1.0000e+09]],\n",
       "\n",
       "         [[-1.7536e+00,  2.3275e-01, -1.0000e+09,  ...,  7.5608e-01,\n",
       "           -1.0000e+09, -1.0000e+09],\n",
       "          [ 2.7974e-01, -1.5374e+00, -1.0000e+09,  ...,  3.6000e-01,\n",
       "           -1.0000e+09, -1.0000e+09],\n",
       "          [ 1.1582e+00, -2.1922e+00, -1.0000e+09,  ..., -3.5665e-01,\n",
       "           -1.0000e+09, -1.0000e+09],\n",
       "          ...,\n",
       "          [ 3.9717e-01, -1.0472e+00, -1.0000e+09,  ..., -2.7388e-01,\n",
       "           -1.0000e+09, -1.0000e+09],\n",
       "          [-9.2083e-01,  6.3387e-01, -1.0000e+09,  ..., -6.7561e-03,\n",
       "           -1.0000e+09, -1.0000e+09],\n",
       "          [ 7.4770e-01, -7.0320e-01, -1.0000e+09,  ...,  8.8784e-01,\n",
       "           -1.0000e+09, -1.0000e+09]],\n",
       "\n",
       "         [[ 4.4470e-01, -1.0674e+00, -1.0000e+09,  ..., -1.1043e+00,\n",
       "           -1.0000e+09, -1.0000e+09],\n",
       "          [-1.0760e+00, -2.8949e-01, -1.0000e+09,  ..., -1.3619e+00,\n",
       "           -1.0000e+09, -1.0000e+09],\n",
       "          [-3.3388e-01, -3.7345e-01, -1.0000e+09,  ..., -1.9330e+00,\n",
       "           -1.0000e+09, -1.0000e+09],\n",
       "          ...,\n",
       "          [-1.0310e+00, -8.0003e-01, -1.0000e+09,  ..., -9.2521e-01,\n",
       "           -1.0000e+09, -1.0000e+09],\n",
       "          [ 1.4628e+00,  9.0432e-01, -1.0000e+09,  ...,  2.1569e-01,\n",
       "           -1.0000e+09, -1.0000e+09],\n",
       "          [ 9.4183e-02, -1.2130e+00, -1.0000e+09,  ..., -2.5480e+00,\n",
       "           -1.0000e+09, -1.0000e+09]],\n",
       "\n",
       "         ...,\n",
       "\n",
       "         [[-2.8170e+00, -1.7480e+00, -1.0000e+09,  ..., -9.9641e-01,\n",
       "           -1.0000e+09, -1.0000e+09],\n",
       "          [ 1.2099e+00, -1.7240e+00, -1.0000e+09,  ...,  4.8684e-01,\n",
       "           -1.0000e+09, -1.0000e+09],\n",
       "          [ 3.3139e-01,  1.0350e+00, -1.0000e+09,  ..., -7.1645e-01,\n",
       "           -1.0000e+09, -1.0000e+09],\n",
       "          ...,\n",
       "          [-1.7914e-01,  7.8754e-02, -1.0000e+09,  ..., -2.8927e-01,\n",
       "           -1.0000e+09, -1.0000e+09],\n",
       "          [ 2.9348e-01,  1.7401e-01, -1.0000e+09,  ...,  1.3223e+00,\n",
       "           -1.0000e+09, -1.0000e+09],\n",
       "          [-1.0582e+00, -1.0735e+00, -1.0000e+09,  ..., -1.4020e+00,\n",
       "           -1.0000e+09, -1.0000e+09]],\n",
       "\n",
       "         [[-4.6723e-01, -2.1563e-01, -1.0000e+09,  ...,  2.6795e-01,\n",
       "           -1.0000e+09, -1.0000e+09],\n",
       "          [ 6.3244e-01,  4.2137e-01, -1.0000e+09,  ...,  5.2690e-01,\n",
       "           -1.0000e+09, -1.0000e+09],\n",
       "          [-1.1955e+00, -1.5050e+00, -1.0000e+09,  ..., -1.2618e+00,\n",
       "           -1.0000e+09, -1.0000e+09],\n",
       "          ...,\n",
       "          [-8.8434e-01, -3.2179e-01, -1.0000e+09,  ...,  1.1432e+00,\n",
       "           -1.0000e+09, -1.0000e+09],\n",
       "          [-1.5426e+00, -1.0501e+00, -1.0000e+09,  ...,  8.7070e-01,\n",
       "           -1.0000e+09, -1.0000e+09],\n",
       "          [ 4.7672e-01,  9.9602e-01, -1.0000e+09,  ...,  2.4063e-01,\n",
       "           -1.0000e+09, -1.0000e+09]],\n",
       "\n",
       "         [[-9.6917e-01,  9.0146e-01, -1.0000e+09,  ..., -1.0819e-01,\n",
       "           -1.0000e+09, -1.0000e+09],\n",
       "          [-3.4580e-01,  1.4531e+00, -1.0000e+09,  ...,  1.0932e+00,\n",
       "           -1.0000e+09, -1.0000e+09],\n",
       "          [ 1.3259e+00, -2.0733e-01, -1.0000e+09,  ..., -1.4396e-01,\n",
       "           -1.0000e+09, -1.0000e+09],\n",
       "          ...,\n",
       "          [ 1.3316e+00,  2.8143e-01, -1.0000e+09,  ..., -1.7289e+00,\n",
       "           -1.0000e+09, -1.0000e+09],\n",
       "          [ 9.0345e-02,  1.1889e+00, -1.0000e+09,  ...,  1.1413e+00,\n",
       "           -1.0000e+09, -1.0000e+09],\n",
       "          [ 3.2291e-01,  6.8578e-01, -1.0000e+09,  ..., -3.4061e-01,\n",
       "           -1.0000e+09, -1.0000e+09]]],\n",
       "\n",
       "\n",
       "        ...,\n",
       "\n",
       "\n",
       "        [[[-5.7938e-01, -4.8876e-01, -1.0000e+09,  ...,  1.1796e-01,\n",
       "           -1.0000e+09, -1.0000e+09],\n",
       "          [ 5.3316e-02, -2.1812e-01, -1.0000e+09,  ..., -1.4822e+00,\n",
       "           -1.0000e+09, -1.0000e+09],\n",
       "          [-8.4102e-01,  5.8679e-01, -1.0000e+09,  ..., -2.2444e+00,\n",
       "           -1.0000e+09, -1.0000e+09],\n",
       "          ...,\n",
       "          [ 7.8362e-01, -9.7664e-02, -1.0000e+09,  ...,  3.6683e-03,\n",
       "           -1.0000e+09, -1.0000e+09],\n",
       "          [-7.9166e-01, -2.3622e-01, -1.0000e+09,  ..., -9.3369e-01,\n",
       "           -1.0000e+09, -1.0000e+09],\n",
       "          [-1.1772e+00,  7.0744e-01, -1.0000e+09,  ..., -2.5811e-01,\n",
       "           -1.0000e+09, -1.0000e+09]],\n",
       "\n",
       "         [[-5.2583e-01,  1.6693e+00, -1.0000e+09,  ..., -1.3379e+00,\n",
       "           -1.0000e+09, -1.0000e+09],\n",
       "          [ 7.5335e-01,  9.8439e-01, -1.0000e+09,  ...,  2.5213e+00,\n",
       "           -1.0000e+09, -1.0000e+09],\n",
       "          [ 1.4982e+00, -9.4035e-01, -1.0000e+09,  ..., -2.6366e-01,\n",
       "           -1.0000e+09, -1.0000e+09],\n",
       "          ...,\n",
       "          [-1.0313e+00, -1.0881e+00, -1.0000e+09,  ..., -4.8930e-01,\n",
       "           -1.0000e+09, -1.0000e+09],\n",
       "          [ 1.0885e+00, -3.4005e-01, -1.0000e+09,  ...,  2.2324e+00,\n",
       "           -1.0000e+09, -1.0000e+09],\n",
       "          [ 1.3162e-01,  1.7513e+00, -1.0000e+09,  ...,  1.6277e-01,\n",
       "           -1.0000e+09, -1.0000e+09]],\n",
       "\n",
       "         [[-1.9939e-01,  1.2880e+00, -1.0000e+09,  ...,  4.1703e-01,\n",
       "           -1.0000e+09, -1.0000e+09],\n",
       "          [-2.2030e-01,  8.4196e-01, -1.0000e+09,  ..., -4.1014e-01,\n",
       "           -1.0000e+09, -1.0000e+09],\n",
       "          [-1.3180e+00,  1.3557e+00, -1.0000e+09,  ..., -5.6432e-01,\n",
       "           -1.0000e+09, -1.0000e+09],\n",
       "          ...,\n",
       "          [-1.1052e+00,  2.0753e+00, -1.0000e+09,  ...,  3.3344e-01,\n",
       "           -1.0000e+09, -1.0000e+09],\n",
       "          [ 4.6487e-02,  2.8810e-01, -1.0000e+09,  ..., -3.5517e-01,\n",
       "           -1.0000e+09, -1.0000e+09],\n",
       "          [ 1.7492e-01,  3.5994e-04, -1.0000e+09,  ...,  2.3689e-01,\n",
       "           -1.0000e+09, -1.0000e+09]],\n",
       "\n",
       "         ...,\n",
       "\n",
       "         [[ 5.6414e-01, -8.3275e-01, -1.0000e+09,  ...,  1.4283e+00,\n",
       "           -1.0000e+09, -1.0000e+09],\n",
       "          [ 7.1395e-01, -1.5055e+00, -1.0000e+09,  ..., -3.9127e-01,\n",
       "           -1.0000e+09, -1.0000e+09],\n",
       "          [ 4.9616e-01,  1.8628e-01, -1.0000e+09,  ...,  3.9889e-01,\n",
       "           -1.0000e+09, -1.0000e+09],\n",
       "          ...,\n",
       "          [ 3.8081e-01,  2.7967e-01, -1.0000e+09,  ..., -5.5633e-01,\n",
       "           -1.0000e+09, -1.0000e+09],\n",
       "          [ 1.3405e-01,  3.6635e-01, -1.0000e+09,  ..., -1.7826e-01,\n",
       "           -1.0000e+09, -1.0000e+09],\n",
       "          [-1.3917e+00, -1.4198e+00, -1.0000e+09,  ...,  2.7213e+00,\n",
       "           -1.0000e+09, -1.0000e+09]],\n",
       "\n",
       "         [[ 1.0240e+00,  2.3748e-01, -1.0000e+09,  ...,  1.2077e+00,\n",
       "           -1.0000e+09, -1.0000e+09],\n",
       "          [-1.3091e-01, -4.6146e-01, -1.0000e+09,  ...,  5.1627e-01,\n",
       "           -1.0000e+09, -1.0000e+09],\n",
       "          [-9.3275e-02, -1.3882e+00, -1.0000e+09,  ..., -6.3843e-01,\n",
       "           -1.0000e+09, -1.0000e+09],\n",
       "          ...,\n",
       "          [-9.4853e-01, -2.3927e-01, -1.0000e+09,  ..., -7.3504e-01,\n",
       "           -1.0000e+09, -1.0000e+09],\n",
       "          [-1.5331e+00, -8.3507e-01, -1.0000e+09,  ..., -1.7061e-02,\n",
       "           -1.0000e+09, -1.0000e+09],\n",
       "          [-6.3601e-01,  1.6452e+00, -1.0000e+09,  ...,  4.7287e-01,\n",
       "           -1.0000e+09, -1.0000e+09]],\n",
       "\n",
       "         [[ 2.2957e-01, -6.3174e-01, -1.0000e+09,  ..., -1.5236e-01,\n",
       "           -1.0000e+09, -1.0000e+09],\n",
       "          [-2.9044e-01,  4.2402e-04, -1.0000e+09,  ...,  1.6856e+00,\n",
       "           -1.0000e+09, -1.0000e+09],\n",
       "          [ 8.7927e-01,  1.9564e+00, -1.0000e+09,  ...,  2.6619e+00,\n",
       "           -1.0000e+09, -1.0000e+09],\n",
       "          ...,\n",
       "          [ 3.1951e-01, -3.9584e-01, -1.0000e+09,  ...,  2.3578e+00,\n",
       "           -1.0000e+09, -1.0000e+09],\n",
       "          [ 3.3941e-01,  1.0092e+00, -1.0000e+09,  ..., -5.7857e-01,\n",
       "           -1.0000e+09, -1.0000e+09],\n",
       "          [-1.6195e-01, -2.8255e-01, -1.0000e+09,  ..., -5.6693e-01,\n",
       "           -1.0000e+09, -1.0000e+09]]],\n",
       "\n",
       "\n",
       "        [[[ 1.4930e-01,  1.2769e+00, -1.0000e+09,  ..., -5.7516e-01,\n",
       "           -1.0000e+09, -1.0000e+09],\n",
       "          [-5.0230e-02,  6.4357e-01, -1.0000e+09,  ...,  5.6249e-01,\n",
       "           -1.0000e+09, -1.0000e+09],\n",
       "          [-1.5644e+00,  6.5436e-01, -1.0000e+09,  ...,  3.9938e-01,\n",
       "           -1.0000e+09, -1.0000e+09],\n",
       "          ...,\n",
       "          [-7.6504e-01,  3.4810e-01, -1.0000e+09,  ..., -1.7441e+00,\n",
       "           -1.0000e+09, -1.0000e+09],\n",
       "          [-1.7826e+00,  6.2375e-01, -1.0000e+09,  ..., -4.6620e-01,\n",
       "           -1.0000e+09, -1.0000e+09],\n",
       "          [ 1.3078e+00,  1.3336e+00, -1.0000e+09,  ...,  9.2106e-01,\n",
       "           -1.0000e+09, -1.0000e+09]],\n",
       "\n",
       "         [[ 1.6707e+00, -1.9286e+00, -1.0000e+09,  ...,  9.8699e-01,\n",
       "           -1.0000e+09, -1.0000e+09],\n",
       "          [ 7.0168e-01,  9.1750e-01, -1.0000e+09,  ...,  1.9903e+00,\n",
       "           -1.0000e+09, -1.0000e+09],\n",
       "          [ 4.4484e-01,  1.1837e-02, -1.0000e+09,  ...,  2.4128e+00,\n",
       "           -1.0000e+09, -1.0000e+09],\n",
       "          ...,\n",
       "          [ 3.0955e-01,  9.7506e-02, -1.0000e+09,  ..., -2.0809e+00,\n",
       "           -1.0000e+09, -1.0000e+09],\n",
       "          [ 1.8684e-01, -1.3234e+00, -1.0000e+09,  ...,  7.9898e-01,\n",
       "           -1.0000e+09, -1.0000e+09],\n",
       "          [ 8.5923e-01, -9.2533e-01, -1.0000e+09,  ..., -2.4330e+00,\n",
       "           -1.0000e+09, -1.0000e+09]],\n",
       "\n",
       "         [[-2.0024e-01, -8.7637e-01, -1.0000e+09,  ..., -9.1353e-02,\n",
       "           -1.0000e+09, -1.0000e+09],\n",
       "          [-5.1480e-01,  1.4553e-01, -1.0000e+09,  ..., -5.1031e-01,\n",
       "           -1.0000e+09, -1.0000e+09],\n",
       "          [-1.7712e+00,  6.2672e-01, -1.0000e+09,  ...,  1.4031e-01,\n",
       "           -1.0000e+09, -1.0000e+09],\n",
       "          ...,\n",
       "          [-3.2234e-01, -7.1588e-01, -1.0000e+09,  ...,  2.6999e-01,\n",
       "           -1.0000e+09, -1.0000e+09],\n",
       "          [-1.8381e-01,  4.2482e-01, -1.0000e+09,  ...,  2.1291e-01,\n",
       "           -1.0000e+09, -1.0000e+09],\n",
       "          [ 6.8016e-01, -1.3539e+00, -1.0000e+09,  ...,  1.2901e+00,\n",
       "           -1.0000e+09, -1.0000e+09]],\n",
       "\n",
       "         ...,\n",
       "\n",
       "         [[ 1.4069e-01, -8.0690e-01, -1.0000e+09,  ..., -1.8796e+00,\n",
       "           -1.0000e+09, -1.0000e+09],\n",
       "          [-1.3196e+00,  1.4908e+00, -1.0000e+09,  ..., -9.8531e-01,\n",
       "           -1.0000e+09, -1.0000e+09],\n",
       "          [ 8.9052e-02, -1.7831e+00, -1.0000e+09,  ..., -1.5756e+00,\n",
       "           -1.0000e+09, -1.0000e+09],\n",
       "          ...,\n",
       "          [-1.2783e+00,  1.5673e+00, -1.0000e+09,  ..., -6.9536e-01,\n",
       "           -1.0000e+09, -1.0000e+09],\n",
       "          [-2.1714e-01,  1.4817e+00, -1.0000e+09,  ..., -1.6490e+00,\n",
       "           -1.0000e+09, -1.0000e+09],\n",
       "          [ 7.4537e-01, -1.2365e+00, -1.0000e+09,  ..., -1.3360e-01,\n",
       "           -1.0000e+09, -1.0000e+09]],\n",
       "\n",
       "         [[ 1.3300e+00,  1.0287e+00, -1.0000e+09,  ..., -2.9739e-01,\n",
       "           -1.0000e+09, -1.0000e+09],\n",
       "          [-7.4500e-03, -7.7521e-01, -1.0000e+09,  ..., -4.2864e-02,\n",
       "           -1.0000e+09, -1.0000e+09],\n",
       "          [-3.9570e-01,  1.2576e-01, -1.0000e+09,  ..., -1.4575e+00,\n",
       "           -1.0000e+09, -1.0000e+09],\n",
       "          ...,\n",
       "          [-1.2361e+00,  7.2285e-02, -1.0000e+09,  ...,  1.5027e+00,\n",
       "           -1.0000e+09, -1.0000e+09],\n",
       "          [ 1.6233e+00,  8.0623e-01, -1.0000e+09,  ..., -3.3549e-01,\n",
       "           -1.0000e+09, -1.0000e+09],\n",
       "          [ 4.2071e-01, -7.1494e-03, -1.0000e+09,  ..., -1.4016e+00,\n",
       "           -1.0000e+09, -1.0000e+09]],\n",
       "\n",
       "         [[ 1.0216e+00, -1.4441e+00, -1.0000e+09,  ...,  7.0918e-01,\n",
       "           -1.0000e+09, -1.0000e+09],\n",
       "          [ 5.8901e-01,  6.5351e-01, -1.0000e+09,  ...,  6.8690e-01,\n",
       "           -1.0000e+09, -1.0000e+09],\n",
       "          [ 9.0578e-02, -1.3533e-01, -1.0000e+09,  ...,  7.9092e-01,\n",
       "           -1.0000e+09, -1.0000e+09],\n",
       "          ...,\n",
       "          [ 6.2570e-01, -1.5634e+00, -1.0000e+09,  ..., -2.3647e-01,\n",
       "           -1.0000e+09, -1.0000e+09],\n",
       "          [ 3.5120e-01, -1.5560e+00, -1.0000e+09,  ...,  8.3663e-01,\n",
       "           -1.0000e+09, -1.0000e+09],\n",
       "          [ 2.7138e-01,  4.6682e-01, -1.0000e+09,  ...,  9.3224e-03,\n",
       "           -1.0000e+09, -1.0000e+09]]],\n",
       "\n",
       "\n",
       "        [[[ 2.4997e+00,  1.8240e-01, -1.0000e+09,  ..., -5.3652e-01,\n",
       "           -1.0000e+09, -1.0000e+09],\n",
       "          [ 8.1729e-01,  1.5395e+00, -1.0000e+09,  ...,  3.1378e+00,\n",
       "           -1.0000e+09, -1.0000e+09],\n",
       "          [-9.5641e-01,  3.3695e-01, -1.0000e+09,  ..., -4.9249e-01,\n",
       "           -1.0000e+09, -1.0000e+09],\n",
       "          ...,\n",
       "          [-7.5312e-01, -5.4193e-01, -1.0000e+09,  ..., -1.0660e-01,\n",
       "           -1.0000e+09, -1.0000e+09],\n",
       "          [-1.3460e+00,  9.6326e-01, -1.0000e+09,  ...,  6.0166e-01,\n",
       "           -1.0000e+09, -1.0000e+09],\n",
       "          [-5.9395e-01,  4.8662e-01, -1.0000e+09,  ..., -2.8969e-01,\n",
       "           -1.0000e+09, -1.0000e+09]],\n",
       "\n",
       "         [[ 1.8246e+00,  5.1993e-01, -1.0000e+09,  ..., -1.1803e+00,\n",
       "           -1.0000e+09, -1.0000e+09],\n",
       "          [-2.8228e-01,  4.5603e-01, -1.0000e+09,  ..., -5.8842e-01,\n",
       "           -1.0000e+09, -1.0000e+09],\n",
       "          [-8.9835e-01, -9.9932e-01, -1.0000e+09,  ..., -8.2823e-01,\n",
       "           -1.0000e+09, -1.0000e+09],\n",
       "          ...,\n",
       "          [-5.0542e-02, -3.4230e-01, -1.0000e+09,  ...,  7.0242e-02,\n",
       "           -1.0000e+09, -1.0000e+09],\n",
       "          [ 3.9678e-02,  2.1120e-01, -1.0000e+09,  ..., -1.7763e-01,\n",
       "           -1.0000e+09, -1.0000e+09],\n",
       "          [ 8.5569e-01, -1.0742e+00, -1.0000e+09,  ..., -4.8238e-01,\n",
       "           -1.0000e+09, -1.0000e+09]],\n",
       "\n",
       "         [[ 9.6425e-01,  1.1545e+00, -1.0000e+09,  ..., -1.2407e+00,\n",
       "           -1.0000e+09, -1.0000e+09],\n",
       "          [ 5.7622e-01, -7.1471e-01, -1.0000e+09,  ...,  5.9952e-01,\n",
       "           -1.0000e+09, -1.0000e+09],\n",
       "          [ 4.0251e-02,  1.3364e-01, -1.0000e+09,  ...,  1.4095e+00,\n",
       "           -1.0000e+09, -1.0000e+09],\n",
       "          ...,\n",
       "          [-5.3932e-01, -1.3639e+00, -1.0000e+09,  ...,  2.4377e+00,\n",
       "           -1.0000e+09, -1.0000e+09],\n",
       "          [ 1.0318e+00, -1.6232e+00, -1.0000e+09,  ...,  1.1198e+00,\n",
       "           -1.0000e+09, -1.0000e+09],\n",
       "          [-5.4599e-01, -1.2599e-01, -1.0000e+09,  ...,  7.9052e-01,\n",
       "           -1.0000e+09, -1.0000e+09]],\n",
       "\n",
       "         ...,\n",
       "\n",
       "         [[-1.1836e-01, -3.0532e-01, -1.0000e+09,  ..., -2.4780e+00,\n",
       "           -1.0000e+09, -1.0000e+09],\n",
       "          [-1.3581e+00, -1.5317e+00, -1.0000e+09,  ...,  2.5780e-01,\n",
       "           -1.0000e+09, -1.0000e+09],\n",
       "          [-7.7281e-01,  1.4676e-01, -1.0000e+09,  ...,  9.1373e-01,\n",
       "           -1.0000e+09, -1.0000e+09],\n",
       "          ...,\n",
       "          [ 1.6229e+00,  1.7764e+00, -1.0000e+09,  ...,  7.3216e-01,\n",
       "           -1.0000e+09, -1.0000e+09],\n",
       "          [ 1.2898e+00, -4.1930e-01, -1.0000e+09,  ..., -2.1633e-01,\n",
       "           -1.0000e+09, -1.0000e+09],\n",
       "          [ 1.7205e+00,  6.2670e-01, -1.0000e+09,  ...,  1.4323e-01,\n",
       "           -1.0000e+09, -1.0000e+09]],\n",
       "\n",
       "         [[ 1.7028e-01,  6.2153e-01, -1.0000e+09,  ...,  1.5294e+00,\n",
       "           -1.0000e+09, -1.0000e+09],\n",
       "          [ 1.4000e+00, -4.4952e-01, -1.0000e+09,  ..., -3.6970e-01,\n",
       "           -1.0000e+09, -1.0000e+09],\n",
       "          [ 1.1631e+00, -7.0794e-01, -1.0000e+09,  ...,  1.2398e+00,\n",
       "           -1.0000e+09, -1.0000e+09],\n",
       "          ...,\n",
       "          [ 2.7036e-01,  3.1790e-01, -1.0000e+09,  ...,  1.3092e+00,\n",
       "           -1.0000e+09, -1.0000e+09],\n",
       "          [ 8.4619e-01, -1.8632e-01, -1.0000e+09,  ...,  7.1278e-01,\n",
       "           -1.0000e+09, -1.0000e+09],\n",
       "          [-2.1709e+00,  1.2303e+00, -1.0000e+09,  ...,  1.5060e-01,\n",
       "           -1.0000e+09, -1.0000e+09]],\n",
       "\n",
       "         [[-5.6823e-02,  7.7467e-01, -1.0000e+09,  ...,  3.6854e-01,\n",
       "           -1.0000e+09, -1.0000e+09],\n",
       "          [ 4.5747e-01,  1.6177e+00, -1.0000e+09,  ...,  1.4637e+00,\n",
       "           -1.0000e+09, -1.0000e+09],\n",
       "          [ 2.8192e-01,  5.2563e-01, -1.0000e+09,  ...,  4.4447e-01,\n",
       "           -1.0000e+09, -1.0000e+09],\n",
       "          ...,\n",
       "          [ 5.8470e-02, -7.0546e-01, -1.0000e+09,  ...,  4.9503e-01,\n",
       "           -1.0000e+09, -1.0000e+09],\n",
       "          [ 6.7299e-01, -2.4407e+00, -1.0000e+09,  ...,  4.7492e-02,\n",
       "           -1.0000e+09, -1.0000e+09],\n",
       "          [ 1.1262e+00,  1.9753e-01, -1.0000e+09,  ..., -1.1154e+00,\n",
       "           -1.0000e+09, -1.0000e+09]]]])"
      ]
     },
     "execution_count": 46,
     "metadata": {},
     "output_type": "execute_result"
    }
   ],
   "source": [
    "scores = torch.randn([16,8,26,20])\n",
    "mask = torch.randint(2, [1, 20], dtype=torch.bool)\n",
    "scores.masked_fill_(mask==0, -1e9)"
   ]
  },
  {
   "cell_type": "code",
   "execution_count": 49,
   "metadata": {},
   "outputs": [],
   "source": [
    "from tqdm import tqdm\n",
    "from time import sleep"
   ]
  },
  {
   "cell_type": "code",
   "execution_count": 50,
   "metadata": {},
   "outputs": [
    {
     "name": "stderr",
     "output_type": "stream",
     "text": [
      "Processing d: 100%|████████████████████████████████████████████████████████████████████████████████████████████████████████████████████████████████████████| 4/4 [00:01<00:00,  3.94it/s]\n"
     ]
    }
   ],
   "source": [
    "pbar = tqdm([\"a\", \"b\", \"c\", \"d\"])\n",
    "for char in pbar:\n",
    "    sleep(0.25)\n",
    "    pbar.set_description(\"Processing %s\" % char)"
   ]
  },
  {
   "cell_type": "code",
   "execution_count": 55,
   "metadata": {},
   "outputs": [
    {
     "ename": "RuntimeError",
     "evalue": "mean(): could not infer output dtype. Input dtype must be either a floating point or complex dtype. Got: Long",
     "output_type": "error",
     "traceback": [
      "\u001b[0;31m---------------------------------------------------------------------------\u001b[0m",
      "\u001b[0;31mRuntimeError\u001b[0m                              Traceback (most recent call last)",
      "Cell \u001b[0;32mIn[55], line 1\u001b[0m\n\u001b[0;32m----> 1\u001b[0m \u001b[43mtorch\u001b[49m\u001b[38;5;241;43m.\u001b[39;49m\u001b[43mmean\u001b[49m\u001b[43m(\u001b[49m\u001b[43mtorch\u001b[49m\u001b[38;5;241;43m.\u001b[39;49m\u001b[43mtensor\u001b[49m\u001b[43m(\u001b[49m\u001b[43m[\u001b[49m\u001b[38;5;241;43m1\u001b[39;49m\u001b[43m,\u001b[49m\u001b[38;5;241;43m2\u001b[39;49m\u001b[43m,\u001b[49m\u001b[38;5;241;43m3\u001b[39;49m\u001b[43m]\u001b[49m\u001b[43m)\u001b[49m\u001b[43m)\u001b[49m\n",
      "\u001b[0;31mRuntimeError\u001b[0m: mean(): could not infer output dtype. Input dtype must be either a floating point or complex dtype. Got: Long"
     ]
    }
   ],
   "source": [
    "torch.mean(torch.tensor([1,2,3]))"
   ]
  },
  {
   "cell_type": "code",
   "execution_count": 56,
   "metadata": {},
   "outputs": [
    {
     "data": {
      "text/plain": [
       "2.0"
      ]
     },
     "execution_count": 56,
     "metadata": {},
     "output_type": "execute_result"
    }
   ],
   "source": [
    "a = [1,2,3]\n",
    "sum(a)/len(a)"
   ]
  },
  {
   "cell_type": "code",
   "execution_count": 2,
   "metadata": {},
   "outputs": [
    {
     "name": "stdout",
     "output_type": "stream",
     "text": [
      "/home/steven/proj/lifematrix/TransformerLM\n"
     ]
    }
   ],
   "source": [
    "%cd .."
   ]
  },
  {
   "cell_type": "code",
   "execution_count": 6,
   "metadata": {},
   "outputs": [
    {
     "name": "stdout",
     "output_type": "stream",
     "text": [
      "Collecting dotteddict\n",
      "  Using cached dotteddict-2016.3.11.tar.gz (3.1 kB)\n",
      "Building wheels for collected packages: dotteddict\n",
      "  Building wheel for dotteddict (setup.py) ... \u001b[?25ldone\n",
      "\u001b[?25h  Created wheel for dotteddict: filename=dotteddict-2016.3.11-py2.py3-none-any.whl size=3293 sha256=52a9adc8d274e9dd84300503f146a71ef68cf60f60c4156722f6097f0af972b9\n",
      "  Stored in directory: /home/steven/.cache/pip/wheels/f4/5a/14/21c36cf5a3c1996f647e7d219cf05a93746173f7d811061438\n",
      "Successfully built dotteddict\n",
      "Installing collected packages: dotteddict\n",
      "Successfully installed dotteddict-2016.3.11\n"
     ]
    }
   ],
   "source": [
    "!pip install dotteddict"
   ]
  },
  {
   "cell_type": "code",
   "execution_count": 7,
   "metadata": {},
   "outputs": [],
   "source": [
    "import torch\n",
    "from dotteddict import dotteddict"
   ]
  },
  {
   "cell_type": "code",
   "execution_count": 8,
   "metadata": {},
   "outputs": [],
   "source": [
    "state = torch.load(\"checkpoints/20240118.pt\")"
   ]
  },
  {
   "cell_type": "code",
   "execution_count": 9,
   "metadata": {},
   "outputs": [
    {
     "data": {
      "text/plain": [
       "dict_keys(['model_config', 'model', 'lanmgr', 'lans'])"
      ]
     },
     "execution_count": 9,
     "metadata": {},
     "output_type": "execute_result"
    }
   ],
   "source": [
    "state.keys()"
   ]
  },
  {
   "cell_type": "code",
   "execution_count": 11,
   "metadata": {},
   "outputs": [
    {
     "data": {
      "text/plain": [
       "512"
      ]
     },
     "execution_count": 11,
     "metadata": {},
     "output_type": "execute_result"
    }
   ],
   "source": [
    "state['model_config'].d_ff"
   ]
  },
  {
   "cell_type": "code",
   "execution_count": 14,
   "metadata": {},
   "outputs": [
    {
     "data": {
      "text/plain": [
       "{'<unk>': 0,\n",
       " '<pad>': 1,\n",
       " '<bos>': 2,\n",
       " '<eos>': 3,\n",
       " 'a': 4,\n",
       " '.': 5,\n",
       " 'A': 6,\n",
       " 'in': 7,\n",
       " 'the': 8,\n",
       " 'on': 9,\n",
       " 'is': 10,\n",
       " 'and': 11,\n",
       " 'man': 12,\n",
       " 'of': 13,\n",
       " 'with': 14,\n",
       " ',': 15,\n",
       " 'woman': 16,\n",
       " 'are': 17,\n",
       " 'to': 18,\n",
       " 'Two': 19,\n",
       " 'at': 20,\n",
       " 'wearing': 21,\n",
       " 'people': 22,\n",
       " 'shirt': 23,\n",
       " 'white': 24,\n",
       " 'young': 25,\n",
       " 'black': 26,\n",
       " 'his': 27,\n",
       " 'an': 28,\n",
       " 'while': 29,\n",
       " 'blue': 30,\n",
       " 'red': 31,\n",
       " 'sitting': 32,\n",
       " 'girl': 33,\n",
       " 'dog': 34,\n",
       " 'boy': 35,\n",
       " 'men': 36,\n",
       " 'standing': 37,\n",
       " 'playing': 38,\n",
       " 'group': 39,\n",
       " 'street': 40,\n",
       " 'down': 41,\n",
       " 'walking': 42,\n",
       " '-': 43,\n",
       " 'front': 44,\n",
       " 'her': 45,\n",
       " 'holding': 46,\n",
       " 'water': 47,\n",
       " 'by': 48,\n",
       " 'The': 49,\n",
       " 'up': 50,\n",
       " 'green': 51,\n",
       " 'women': 52,\n",
       " 'An': 53,\n",
       " 'one': 54,\n",
       " 'for': 55,\n",
       " 'looking': 56,\n",
       " 'outside': 57,\n",
       " 'child': 58,\n",
       " 'Three': 59,\n",
       " 'as': 60,\n",
       " 'little': 61,\n",
       " 'large': 62,\n",
       " 'through': 63,\n",
       " 'yellow': 64,\n",
       " 'brown': 65,\n",
       " 'two': 66,\n",
       " 'from': 67,\n",
       " 'hat': 68,\n",
       " 'ball': 69,\n",
       " 'their': 70,\n",
       " 'into': 71,\n",
       " 'person': 72,\n",
       " 'children': 73,\n",
       " 'next': 74,\n",
       " 'other': 75,\n",
       " 'dressed': 76,\n",
       " 'small': 77,\n",
       " 'out': 78,\n",
       " 'over': 79,\n",
       " 'building': 80,\n",
       " 'riding': 81,\n",
       " 'running': 82,\n",
       " 'People': 83,\n",
       " 'near': 84,\n",
       " 'jacket': 85,\n",
       " 'another': 86,\n",
       " 'around': 87,\n",
       " 'some': 88,\n",
       " 'sidewalk': 89,\n",
       " 'field': 90,\n",
       " 'orange': 91,\n",
       " 'beach': 92,\n",
       " 'crowd': 93,\n",
       " 'stands': 94,\n",
       " 'pink': 95,\n",
       " 'sits': 96,\n",
       " 'jumping': 97,\n",
       " 'behind': 98,\n",
       " 'table': 99,\n",
       " 'snow': 100,\n",
       " 'grass': 101,\n",
       " 'hair': 102,\n",
       " 'background': 103,\n",
       " 'stand': 104,\n",
       " 'bike': 105,\n",
       " \"'s\": 106,\n",
       " 'air': 107,\n",
       " 'city': 108,\n",
       " 'player': 109,\n",
       " 'girls': 110,\n",
       " 'Man': 111,\n",
       " 'looks': 112,\n",
       " 'top': 113,\n",
       " 'wall': 114,\n",
       " 'off': 115,\n",
       " 'that': 116,\n",
       " 'dogs': 117,\n",
       " 'camera': 118,\n",
       " 'dress': 119,\n",
       " 'park': 120,\n",
       " 'talking': 121,\n",
       " 'something': 122,\n",
       " 'older': 123,\n",
       " 'along': 124,\n",
       " 'walks': 125,\n",
       " 'guitar': 126,\n",
       " 'play': 127,\n",
       " 'lady': 128,\n",
       " 'soccer': 129,\n",
       " 'together': 130,\n",
       " 'working': 131,\n",
       " 'blond': 132,\n",
       " 'boys': 133,\n",
       " 'food': 134,\n",
       " 'gray': 135,\n",
       " 'smiling': 136,\n",
       " 'game': 137,\n",
       " 'has': 138,\n",
       " 'picture': 139,\n",
       " 'plays': 140,\n",
       " 'Asian': 141,\n",
       " 'hand': 142,\n",
       " 'car': 143,\n",
       " 'holds': 144,\n",
       " 'Four': 145,\n",
       " 'him': 146,\n",
       " 'road': 147,\n",
       " 'bench': 148,\n",
       " 'it': 149,\n",
       " 'glasses': 150,\n",
       " 'pants': 151,\n",
       " 'stage': 152,\n",
       " 'shorts': 153,\n",
       " 'sit': 154,\n",
       " 'carrying': 155,\n",
       " 'walk': 156,\n",
       " 'baby': 157,\n",
       " 'couple': 158,\n",
       " 'them': 159,\n",
       " 'bicycle': 160,\n",
       " 'face': 161,\n",
       " 'side': 162,\n",
       " 'tree': 163,\n",
       " '\"': 164,\n",
       " 'Several': 165,\n",
       " 'old': 166,\n",
       " 'pool': 167,\n",
       " 'taking': 168,\n",
       " 'rock': 169,\n",
       " 'each': 170,\n",
       " 'long': 171,\n",
       " 'race': 172,\n",
       " 'doing': 173,\n",
       " 'across': 174,\n",
       " 'watching': 175,\n",
       " 'head': 176,\n",
       " 'jeans': 177,\n",
       " 'area': 178,\n",
       " 'dirt': 179,\n",
       " 'male': 180,\n",
       " 'middle': 181,\n",
       " 'dark': 182,\n",
       " 'jumps': 183,\n",
       " 'boat': 184,\n",
       " 'hands': 185,\n",
       " 'back': 186,\n",
       " 'ground': 187,\n",
       " 'performing': 188,\n",
       " 'room': 189,\n",
       " 'day': 190,\n",
       " 'who': 191,\n",
       " 'eating': 192,\n",
       " 'female': 193,\n",
       " 'being': 194,\n",
       " 'baseball': 195,\n",
       " 'guy': 196,\n",
       " 'coat': 197,\n",
       " 'striped': 198,\n",
       " 'using': 199,\n",
       " 'suit': 200,\n",
       " 'under': 201,\n",
       " 'football': 202,\n",
       " 'horse': 203,\n",
       " 'watch': 204,\n",
       " 'mouth': 205,\n",
       " 'purple': 206,\n",
       " 'sign': 207,\n",
       " 'store': 208,\n",
       " 'haired': 209,\n",
       " 'he': 210,\n",
       " 'sand': 211,\n",
       " 'band': 212,\n",
       " 'runs': 213,\n",
       " 'look': 214,\n",
       " 'tennis': 215,\n",
       " 'Young': 216,\n",
       " 'reading': 217,\n",
       " 'sunglasses': 218,\n",
       " 'clothing': 219,\n",
       " 'microphone': 220,\n",
       " 'players': 221,\n",
       " 'three': 222,\n",
       " 'There': 223,\n",
       " 'covered': 224,\n",
       " 'mountain': 225,\n",
       " 't': 226,\n",
       " 'toy': 227,\n",
       " 'its': 228,\n",
       " 'ocean': 229,\n",
       " 'watches': 230,\n",
       " 'basketball': 231,\n",
       " 'climbing': 232,\n",
       " 'during': 233,\n",
       " 'uniform': 234,\n",
       " 'kids': 235,\n",
       " 'past': 236,\n",
       " 'helmet': 237,\n",
       " 'restaurant': 238,\n",
       " 'against': 239,\n",
       " 'train': 240,\n",
       " 'dancing': 241,\n",
       " 'window': 242,\n",
       " 'rides': 243,\n",
       " 'team': 244,\n",
       " 'elderly': 245,\n",
       " 'shirts': 246,\n",
       " 'chair': 247,\n",
       " 'work': 248,\n",
       " 'be': 249,\n",
       " 'One': 250,\n",
       " 'posing': 251,\n",
       " 'trees': 252,\n",
       " 'wooden': 253,\n",
       " 'about': 254,\n",
       " 'having': 255,\n",
       " 'outdoor': 256,\n",
       " 'they': 257,\n",
       " 'waiting': 258,\n",
       " 'swimming': 259,\n",
       " 'getting': 260,\n",
       " 'all': 261,\n",
       " 'floor': 262,\n",
       " 'or': 263,\n",
       " 'construction': 264,\n",
       " 'trying': 265,\n",
       " 'workers': 266,\n",
       " 'skateboard': 267,\n",
       " 'very': 268,\n",
       " 'bag': 269,\n",
       " 'busy': 270,\n",
       " 'colorful': 271,\n",
       " 'ice': 272,\n",
       " 'singing': 273,\n",
       " 'fence': 274,\n",
       " 'Woman': 275,\n",
       " 'high': 276,\n",
       " 'jump': 277,\n",
       " 'This': 278,\n",
       " 'cart': 279,\n",
       " 'line': 280,\n",
       " 'laying': 281,\n",
       " 'truck': 282,\n",
       " 'hill': 283,\n",
       " 'Men': 284,\n",
       " 'book': 285,\n",
       " 'bright': 286,\n",
       " 'hats': 287,\n",
       " 'ride': 288,\n",
       " 'cap': 289,\n",
       " 'inside': 290,\n",
       " 'kitchen': 291,\n",
       " 'market': 292,\n",
       " 'others': 293,\n",
       " 'tan': 294,\n",
       " 'cellphone': 295,\n",
       " 'grassy': 296,\n",
       " 'path': 297,\n",
       " 'making': 298,\n",
       " 'bus': 299,\n",
       " 'clothes': 300,\n",
       " 'brick': 301,\n",
       " 'takes': 302,\n",
       " 'umbrella': 303,\n",
       " 'big': 304,\n",
       " 'full': 305,\n",
       " 'light': 306,\n",
       " 'motorcycle': 307,\n",
       " 'outfit': 308,\n",
       " 'towards': 309,\n",
       " 'track': 310,\n",
       " 'body': 311,\n",
       " 'night': 312,\n",
       " 'enjoying': 313,\n",
       " 'metal': 314,\n",
       " 'swing': 315,\n",
       " 'colored': 316,\n",
       " 'river': 317,\n",
       " 'open': 318,\n",
       " 'paper': 319,\n",
       " 'ready': 320,\n",
       " 'tank': 321,\n",
       " 'piece': 322,\n",
       " 'Five': 323,\n",
       " 'sweater': 324,\n",
       " 'lake': 325,\n",
       " 'she': 326,\n",
       " 'shop': 327,\n",
       " 'trick': 328,\n",
       " 'above': 329,\n",
       " 'painting': 330,\n",
       " 'several': 331,\n",
       " 'going': 332,\n",
       " 'run': 333,\n",
       " 'dance': 334,\n",
       " 'hard': 335,\n",
       " 'many': 336,\n",
       " 'snowy': 337,\n",
       " 'shopping': 338,\n",
       " 'stone': 339,\n",
       " 'wave': 340,\n",
       " 'music': 341,\n",
       " 'onto': 342,\n",
       " 'stick': 343,\n",
       " 'surrounded': 344,\n",
       " 'uniforms': 345,\n",
       " 'vest': 346,\n",
       " 'like': 347,\n",
       " 'worker': 348,\n",
       " 'backpack': 349,\n",
       " 'crowded': 350,\n",
       " 'smiles': 351,\n",
       " 'beside': 352,\n",
       " 'board': 353,\n",
       " 'outdoors': 354,\n",
       " 'photo': 355,\n",
       " 'adults': 356,\n",
       " 'pole': 357,\n",
       " 'drinking': 358,\n",
       " 'gear': 359,\n",
       " 'phone': 360,\n",
       " 'house': 361,\n",
       " 'kid': 362,\n",
       " 'gathered': 363,\n",
       " 'event': 364,\n",
       " 'hanging': 365,\n",
       " 'set': 366,\n",
       " 'bridge': 367,\n",
       " 'catch': 368,\n",
       " 'subway': 369,\n",
       " 'African': 370,\n",
       " 'arms': 371,\n",
       " 'away': 372,\n",
       " 'family': 373,\n",
       " 'flowers': 374,\n",
       " 'preparing': 375,\n",
       " 'costume': 376,\n",
       " 'hockey': 377,\n",
       " 'leaning': 378,\n",
       " 'object': 379,\n",
       " 'toddler': 380,\n",
       " 'Many': 381,\n",
       " 'fishing': 382,\n",
       " 'sleeping': 383,\n",
       " 'steps': 384,\n",
       " 'bar': 385,\n",
       " 'does': 386,\n",
       " 'fire': 387,\n",
       " 'guys': 388,\n",
       " 'Children': 389,\n",
       " 'after': 390,\n",
       " 'fountain': 391,\n",
       " 'lot': 392,\n",
       " 'machine': 393,\n",
       " 'plaid': 394,\n",
       " 'rope': 395,\n",
       " 'short': 396,\n",
       " 'beautiful': 397,\n",
       " 'American': 398,\n",
       " 'take': 399,\n",
       " 'adult': 400,\n",
       " 'asian': 401,\n",
       " 'graffiti': 402,\n",
       " 'stairs': 403,\n",
       " 'police': 404,\n",
       " 'shoes': 405,\n",
       " 'arm': 406,\n",
       " 'selling': 407,\n",
       " 'shirtless': 408,\n",
       " 'forest': 409,\n",
       " 'sunny': 410,\n",
       " 'rocks': 411,\n",
       " 'setting': 412,\n",
       " 'four': 413,\n",
       " 'pose': 414,\n",
       " 'both': 415,\n",
       " 'chairs': 416,\n",
       " 'corner': 417,\n",
       " 'putting': 418,\n",
       " 'racing': 419,\n",
       " 'glass': 420,\n",
       " 'pushing': 421,\n",
       " 'tall': 422,\n",
       " 'throwing': 423,\n",
       " 'between': 424,\n",
       " 'drink': 425,\n",
       " 'have': 426,\n",
       " 'parade': 427,\n",
       " 'slide': 428,\n",
       " 'volleyball': 429,\n",
       " '2': 430,\n",
       " 'Some': 431,\n",
       " 'ladies': 432,\n",
       " 'laughing': 433,\n",
       " 'public': 434,\n",
       " 'computer': 435,\n",
       " 'equipment': 436,\n",
       " 'instruments': 437,\n",
       " 'someone': 438,\n",
       " 'couch': 439,\n",
       " 'wood': 440,\n",
       " 'flag': 441,\n",
       " 'pictures': 442,\n",
       " 'plastic': 443,\n",
       " 'ramp': 444,\n",
       " 'sun': 445,\n",
       " 'aged': 446,\n",
       " 'concrete': 447,\n",
       " 'party': 448,\n",
       " 'playground': 449,\n",
       " 'poses': 450,\n",
       " 'sweatshirt': 451,\n",
       " 'trail': 452,\n",
       " 'which': 453,\n",
       " 'woods': 454,\n",
       " 'beard': 455,\n",
       " 'fish': 456,\n",
       " 'statue': 457,\n",
       " 'view': 458,\n",
       " 'dock': 459,\n",
       " 'midair': 460,\n",
       " 'winter': 461,\n",
       " 'yard': 462,\n",
       " 'bikes': 463,\n",
       " 'cowboy': 464,\n",
       " 'number': 465,\n",
       " 'skirt': 466,\n",
       " 'distance': 467,\n",
       " 'attire': 468,\n",
       " 'just': 469,\n",
       " 'reads': 470,\n",
       " 'seated': 471,\n",
       " 'toward': 472,\n",
       " 'get': 473,\n",
       " 'left': 474,\n",
       " 'what': 475,\n",
       " 'works': 476,\n",
       " 'beer': 477,\n",
       " 'cooking': 478,\n",
       " 'cutting': 479,\n",
       " 'sky': 480,\n",
       " 'vests': 481,\n",
       " 'bags': 482,\n",
       " 'buildings': 483,\n",
       " 'cross': 484,\n",
       " 'filled': 485,\n",
       " 'lined': 486,\n",
       " 'pulling': 487,\n",
       " 'Little': 488,\n",
       " 'cream': 489,\n",
       " 'rider': 490,\n",
       " 'where': 491,\n",
       " 'appears': 492,\n",
       " 'bed': 493,\n",
       " 'cliff': 494,\n",
       " 'crossing': 495,\n",
       " 'edge': 496,\n",
       " 'instrument': 497,\n",
       " 'mountains': 498,\n",
       " 'showing': 499,\n",
       " 'tent': 500,\n",
       " 'court': 501,\n",
       " 'Women': 502,\n",
       " 'jersey': 503,\n",
       " 'nearby': 504,\n",
       " 'performs': 505,\n",
       " 'scarf': 506,\n",
       " 'Frisbee': 507,\n",
       " 'apron': 508,\n",
       " 'carries': 509,\n",
       " 'driving': 510,\n",
       " 'few': 511,\n",
       " 'horses': 512,\n",
       " 'make': 513,\n",
       " 'perform': 514,\n",
       " 'right': 515,\n",
       " 'school': 516,\n",
       " 'station': 517,\n",
       " 'art': 518,\n",
       " 'bowling': 519,\n",
       " 'friends': 520,\n",
       " 'grill': 521,\n",
       " 'leaves': 522,\n",
       " 'shore': 523,\n",
       " 'show': 524,\n",
       " 'boots': 525,\n",
       " 'cars': 526,\n",
       " 'cigarette': 527,\n",
       " 'cup': 528,\n",
       " 'fruit': 529,\n",
       " 'parked': 530,\n",
       " 'structure': 531,\n",
       " 'goggles': 532,\n",
       " 'painted': 533,\n",
       " 'smile': 534,\n",
       " 'snowboarder': 535,\n",
       " 'vendor': 536,\n",
       " 'Person': 537,\n",
       " 'bottle': 538,\n",
       " 'door': 539,\n",
       " 'dresses': 540,\n",
       " 'drums': 541,\n",
       " 'flower': 542,\n",
       " 'flying': 543,\n",
       " 'martial': 544,\n",
       " 'net': 545,\n",
       " 'skateboarder': 546,\n",
       " 'smoking': 547,\n",
       " 'talks': 548,\n",
       " 'vehicle': 549,\n",
       " 'bathing': 550,\n",
       " 'coffee': 551,\n",
       " 'concert': 552,\n",
       " 'eyes': 553,\n",
       " 'hit': 554,\n",
       " 'home': 555,\n",
       " 'lying': 556,\n",
       " 'rocky': 557,\n",
       " 'shot': 558,\n",
       " 'time': 559,\n",
       " 'Group': 560,\n",
       " 'arts': 561,\n",
       " 'flags': 562,\n",
       " 'jackets': 563,\n",
       " 'kicking': 564,\n",
       " 'mother': 565,\n",
       " 'newspaper': 566,\n",
       " 'paint': 567,\n",
       " 'prepares': 568,\n",
       " 'rain': 569,\n",
       " 'safety': 570,\n",
       " 'swinging': 571,\n",
       " 'waves': 572,\n",
       " 'younger': 573,\n",
       " 'box': 574,\n",
       " 'bucket': 575,\n",
       " 'conversation': 576,\n",
       " 'costumes': 577,\n",
       " 'gather': 578,\n",
       " 'gentleman': 579,\n",
       " 'gloves': 580,\n",
       " 'practicing': 581,\n",
       " 'spectators': 582,\n",
       " 'Boy': 583,\n",
       " 'bearded': 584,\n",
       " 'bunch': 585,\n",
       " 'cleaning': 586,\n",
       " 'competition': 587,\n",
       " 'different': 588,\n",
       " 'ladder': 589,\n",
       " 'listening': 590,\n",
       " 'no': 591,\n",
       " 'parking': 592,\n",
       " 'roof': 593,\n",
       " 'this': 594,\n",
       " 'uses': 595,\n",
       " 'blanket': 596,\n",
       " 'items': 597,\n",
       " 'scene': 598,\n",
       " 'skateboarding': 599,\n",
       " 'staring': 600,\n",
       " 'there': 601,\n",
       " 'audience': 602,\n",
       " 'balloon': 603,\n",
       " 'bicycles': 604,\n",
       " 'bikini': 605,\n",
       " 'desk': 606,\n",
       " 'empty': 607,\n",
       " 'giving': 608,\n",
       " 'lawn': 609,\n",
       " 'meal': 610,\n",
       " 'pile': 611,\n",
       " 'railing': 612,\n",
       " 'surfer': 613,\n",
       " 'various': 614,\n",
       " 'Someone': 615,\n",
       " 'drinks': 616,\n",
       " 'leaps': 617,\n",
       " 'onlookers': 618,\n",
       " 'rodeo': 619,\n",
       " 'Girl': 620,\n",
       " 'cake': 621,\n",
       " 'display': 622,\n",
       " 'gathering': 623,\n",
       " 'go': 624,\n",
       " 'hold': 625,\n",
       " 'hot': 626,\n",
       " 'pointing': 627,\n",
       " 'sliding': 628,\n",
       " 'vegetables': 629,\n",
       " 'Indian': 630,\n",
       " 'basket': 631,\n",
       " 'bowl': 632,\n",
       " 'bull': 633,\n",
       " 'class': 634,\n",
       " 'facing': 635,\n",
       " 'feet': 636,\n",
       " 'gold': 637,\n",
       " 'streets': 638,\n",
       " 'suits': 639,\n",
       " 'wet': 640,\n",
       " 'before': 641,\n",
       " 'biker': 642,\n",
       " 'cement': 643,\n",
       " 'competing': 644,\n",
       " 'flip': 645,\n",
       " 'helmets': 646,\n",
       " 'mask': 647,\n",
       " 'platform': 648,\n",
       " 'silver': 649,\n",
       " 'speaking': 650,\n",
       " 'sports': 651,\n",
       " 'wedding': 652,\n",
       " 'Six': 653,\n",
       " 'classroom': 654,\n",
       " 'coming': 655,\n",
       " 'gets': 656,\n",
       " 'huge': 657,\n",
       " 'lit': 658,\n",
       " 'match': 659,\n",
       " 'stop': 660,\n",
       " 'teams': 661,\n",
       " 'tie': 662,\n",
       " 'bird': 663,\n",
       " 'climbs': 664,\n",
       " 'purse': 665,\n",
       " 'sings': 666,\n",
       " 'students': 667,\n",
       " 'surfboard': 668,\n",
       " 'surfing': 669,\n",
       " 'traditional': 670,\n",
       " 'tries': 671,\n",
       " 'wait': 672,\n",
       " 'alley': 673,\n",
       " 'animal': 674,\n",
       " 'bride': 675,\n",
       " 'can': 676,\n",
       " 'chasing': 677,\n",
       " 'counter': 678,\n",
       " 'fighting': 679,\n",
       " 'kissing': 680,\n",
       " 'military': 681,\n",
       " 'rail': 682,\n",
       " 'screen': 683,\n",
       " 'ski': 684,\n",
       " 'break': 685,\n",
       " 'same': 686,\n",
       " 'skating': 687,\n",
       " 'stroller': 688,\n",
       " 'country': 689,\n",
       " 'females': 690,\n",
       " 'kneeling': 691,\n",
       " 'lap': 692,\n",
       " 'pass': 693,\n",
       " 'shoulder': 694,\n",
       " 'skier': 695,\n",
       " 'sunset': 696,\n",
       " 'throw': 697,\n",
       " 'waits': 698,\n",
       " 'walkway': 699,\n",
       " 'writing': 700,\n",
       " '3': 701,\n",
       " 'attempting': 702,\n",
       " 'runner': 703,\n",
       " 'scooter': 704,\n",
       " 'sort': 705,\n",
       " 'talk': 706,\n",
       " 'waving': 707,\n",
       " 'marathon': 708,\n",
       " 'outfits': 709,\n",
       " 'place': 710,\n",
       " 'seen': 711,\n",
       " 'signs': 712,\n",
       " 'violin': 713,\n",
       " 'bald': 714,\n",
       " 'blowing': 715,\n",
       " 'bubbles': 716,\n",
       " 'business': 717,\n",
       " 'close': 718,\n",
       " 'course': 719,\n",
       " 'five': 720,\n",
       " 'hole': 721,\n",
       " 'mirror': 722,\n",
       " 'officer': 723,\n",
       " 'overlooking': 724,\n",
       " 'says': 725,\n",
       " 'son': 726,\n",
       " 'tables': 727,\n",
       " 'way': 728,\n",
       " 'balloons': 729,\n",
       " 'base': 730,\n",
       " 'fixing': 731,\n",
       " 'happy': 732,\n",
       " 'leans': 733,\n",
       " 'lights': 734,\n",
       " 'urban': 735,\n",
       " 'Construction': 736,\n",
       " 'alone': 737,\n",
       " 'artist': 738,\n",
       " 'brightly': 739,\n",
       " 'collar': 740,\n",
       " 'faces': 741,\n",
       " 'father': 742,\n",
       " 'foreground': 743,\n",
       " 'gym': 744,\n",
       " 'helping': 745,\n",
       " 'leather': 746,\n",
       " 'leg': 747,\n",
       " 'life': 748,\n",
       " 'made': 749,\n",
       " 'musicians': 750,\n",
       " 'swim': 751,\n",
       " 'umbrellas': 752,\n",
       " 'asleep': 753,\n",
       " 'clown': 754,\n",
       " 'do': 755,\n",
       " 'electric': 756,\n",
       " 'enjoy': 757,\n",
       " 'giant': 758,\n",
       " 'headphones': 759,\n",
       " 'legs': 760,\n",
       " 'meat': 761,\n",
       " 'plate': 762,\n",
       " 'site': 763,\n",
       " 'skate': 764,\n",
       " 'among': 765,\n",
       " 'diving': 766,\n",
       " 'end': 767,\n",
       " 'falling': 768,\n",
       " 'golf': 769,\n",
       " 'makes': 770,\n",
       " 'mud': 771,\n",
       " 'office': 772,\n",
       " 'passing': 773,\n",
       " 'sandals': 774,\n",
       " 'stadium': 775,\n",
       " 'sticks': 776,\n",
       " 'swings': 777,\n",
       " 'washing': 778,\n",
       " 'wears': 779,\n",
       " 'canoe': 780,\n",
       " 'doorway': 781,\n",
       " 'goal': 782,\n",
       " 'heads': 783,\n",
       " 'multicolored': 784,\n",
       " 'musical': 785,\n",
       " 'officers': 786,\n",
       " 'roller': 787,\n",
       " 'skiing': 788,\n",
       " 'toys': 789,\n",
       " 'well': 790,\n",
       " 'accordion': 791,\n",
       " 'barefoot': 792,\n",
       " 'church': 793,\n",
       " 'dirty': 794,\n",
       " 'drawing': 795,\n",
       " 'laptop': 796,\n",
       " 'leash': 797,\n",
       " 'photographer': 798,\n",
       " 'picking': 799,\n",
       " 'reaching': 800,\n",
       " 'teenage': 801,\n",
       " 'throws': 802,\n",
       " 'video': 803,\n",
       " 'In': 804,\n",
       " 'below': 805,\n",
       " 'digging': 806,\n",
       " 'hiking': 807,\n",
       " 'males': 808,\n",
       " 'performance': 809,\n",
       " 'shallow': 810,\n",
       " 'traffic': 811,\n",
       " 'atop': 812,\n",
       " 'cat': 813,\n",
       " 'catches': 814,\n",
       " 'catching': 815,\n",
       " 'foot': 816,\n",
       " 'gives': 817,\n",
       " 'hugging': 818,\n",
       " 'microscope': 819,\n",
       " 'new': 820,\n",
       " 'passes': 821,\n",
       " 'relaxing': 822,\n",
       " 'row': 823,\n",
       " 'shovel': 824,\n",
       " 'tunnel': 825,\n",
       " 'upside': 826,\n",
       " 'van': 827,\n",
       " 'wheel': 828,\n",
       " 'Chinese': 829,\n",
       " 'Christmas': 830,\n",
       " 'balls': 831,\n",
       " 'beige': 832,\n",
       " 'brunette': 833,\n",
       " 'climb': 834,\n",
       " 'cut': 835,\n",
       " 'dancers': 836,\n",
       " 'deep': 837,\n",
       " 'drum': 838,\n",
       " 'fun': 839,\n",
       " 'kick': 840,\n",
       " 'leaping': 841,\n",
       " 'prepare': 842,\n",
       " 'shows': 843,\n",
       " 'sleeps': 844,\n",
       " 'stunt': 845,\n",
       " 'sweeping': 846,\n",
       " 'tattoo': 847,\n",
       " 'cafe': 848,\n",
       " 'chef': 849,\n",
       " 'coats': 850,\n",
       " 'conversing': 851,\n",
       " 'daughter': 852,\n",
       " 'desert': 853,\n",
       " 'flies': 854,\n",
       " 'garden': 855,\n",
       " 'hoodie': 856,\n",
       " 'hose': 857,\n",
       " 'move': 858,\n",
       " 'photograph': 859,\n",
       " 'pond': 860,\n",
       " 'resting': 861,\n",
       " 'sculpture': 862,\n",
       " 'singer': 863,\n",
       " 'teeth': 864,\n",
       " 'trunks': 865,\n",
       " ';': 866,\n",
       " 'bat': 867,\n",
       " 'cold': 868,\n",
       " 'friend': 869,\n",
       " 'held': 870,\n",
       " 'jogging': 871,\n",
       " 'karate': 872,\n",
       " 'pier': 873,\n",
       " 'plants': 874,\n",
       " 'points': 875,\n",
       " 'sled': 876,\n",
       " 'splashing': 877,\n",
       " 'telescope': 878,\n",
       " 'tire': 879,\n",
       " 'town': 880,\n",
       " 'underneath': 881,\n",
       " 'wrestling': 882,\n",
       " 'Black': 883,\n",
       " 'Kids': 884,\n",
       " 'block': 885,\n",
       " 'cane': 886,\n",
       " 'curly': 887,\n",
       " 'eat': 888,\n",
       " 'how': 889,\n",
       " 'including': 890,\n",
       " 'moving': 891,\n",
       " 'project': 892,\n",
       " 'shoulders': 893,\n",
       " 'themselves': 894,\n",
       " 'waters': 895,\n",
       " 'without': 896,\n",
       " 'Old': 897,\n",
       " 'Small': 898,\n",
       " 'Workers': 899,\n",
       " 'bicyclist': 900,\n",
       " 'carnival': 901,\n",
       " 'circle': 902,\n",
       " 'cloth': 903,\n",
       " 'crosswalk': 904,\n",
       " 'crying': 905,\n",
       " 'cyclist': 906,\n",
       " 'dinner': 907,\n",
       " 'gun': 908,\n",
       " 'hiker': 909,\n",
       " 'hula': 910,\n",
       " 'individuals': 911,\n",
       " 'makeup': 912,\n",
       " 'matching': 913,\n",
       " 'mural': 914,\n",
       " 'opposing': 915,\n",
       " 'paved': 916,\n",
       " 'produce': 917,\n",
       " 'pulled': 918,\n",
       " 'racket': 919,\n",
       " 'shoe': 920,\n",
       " 'straw': 921,\n",
       " 'taken': 922,\n",
       " 'trampoline': 923,\n",
       " 'tricks': 924,\n",
       " 'wooded': 925,\n",
       " 'attempts': 926,\n",
       " 'closed': 927,\n",
       " 'dances': 928,\n",
       " 'formal': 929,\n",
       " 'infant': 930,\n",
       " 'knee': 931,\n",
       " 'lab': 932,\n",
       " 'lone': 933,\n",
       " 'mat': 934,\n",
       " 'members': 935,\n",
       " 'nose': 936,\n",
       " 'performer': 937,\n",
       " 'picnic': 938,\n",
       " 'rolling': 939,\n",
       " 'sewing': 940,\n",
       " 'stuffed': 941,\n",
       " 'surface': 942,\n",
       " 'trash': 943,\n",
       " \"'\": 944,\n",
       " 'These': 945,\n",
       " 'balcony': 946,\n",
       " 'blouse': 947,\n",
       " 'booth': 948,\n",
       " 'center': 949,\n",
       " 'cow': 950,\n",
       " 'fight': 951,\n",
       " 'goes': 952,\n",
       " 'help': 953,\n",
       " 'himself': 954,\n",
       " 'lays': 955,\n",
       " 'neck': 956,\n",
       " 'opening': 957,\n",
       " 'pushes': 958,\n",
       " 'ring': 959,\n",
       " 'round': 960,\n",
       " 'slope': 961,\n",
       " 'softball': 962,\n",
       " 'square': 963,\n",
       " 'third': 964,\n",
       " 'wear': 965,\n",
       " 'athlete': 966,\n",
       " 'bent': 967,\n",
       " 'boxes': 968,\n",
       " 'button': 969,\n",
       " 'chases': 970,\n",
       " 'deck': 971,\n",
       " 'device': 972,\n",
       " 'hoop': 973,\n",
       " 'indoor': 974,\n",
       " 'kind': 975,\n",
       " 'log': 976,\n",
       " 'lunch': 977,\n",
       " 'not': 978,\n",
       " 'pulls': 979,\n",
       " 'puts': 980,\n",
       " 'sandy': 981,\n",
       " 'skis': 982,\n",
       " 'speaks': 983,\n",
       " 'staircase': 984,\n",
       " 'turn': 985,\n",
       " 'Guy': 986,\n",
       " 'books': 987,\n",
       " 'covering': 988,\n",
       " 'drives': 989,\n",
       " 'enjoys': 990,\n",
       " 'fallen': 991,\n",
       " 'festival': 992,\n",
       " 'grocery': 993,\n",
       " 'gymnast': 994,\n",
       " 'overalls': 995,\n",
       " 'robe': 996,\n",
       " 'shaking': 997,\n",
       " 'swims': 998,\n",
       " 'wetsuit': 999,\n",
       " ...}"
      ]
     },
     "execution_count": 14,
     "metadata": {},
     "output_type": "execute_result"
    }
   ],
   "source": [
    "state['lanmgr']['vocabs']['en']['idx_map']"
   ]
  },
  {
   "cell_type": "code",
   "execution_count": null,
   "metadata": {},
   "outputs": [],
   "source": []
  }
 ],
 "metadata": {
  "kernelspec": {
   "display_name": "Python 3",
   "language": "python",
   "name": "python3"
  },
  "language_info": {
   "codemirror_mode": {
    "name": "ipython",
    "version": 3
   },
   "file_extension": ".py",
   "mimetype": "text/x-python",
   "name": "python",
   "nbconvert_exporter": "python",
   "pygments_lexer": "ipython3",
   "version": "3.8.10"
  }
 },
 "nbformat": 4,
 "nbformat_minor": 5
}
