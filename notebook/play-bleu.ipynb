{
 "cells": [
  {
   "cell_type": "code",
   "execution_count": 1,
   "id": "38795809",
   "metadata": {},
   "outputs": [],
   "source": [
    "import numpy as np\n",
    "from collections import Counter\n",
    "import math"
   ]
  },
  {
   "cell_type": "code",
   "execution_count": 2,
   "id": "21afe967",
   "metadata": {},
   "outputs": [],
   "source": [
    "class BLEU:\n",
    "    @classmethod\n",
    "    def unigram_naive(cls, can_text, refs_text, modified=False):\n",
    "        \"\"\"can_sen: candidate text/sentence\n",
    "        ref_text: reference text/sentence, or ground truth\n",
    "        \"\"\"\n",
    "        def count_words(text):\n",
    "            text = text.strip()\n",
    "            if text[-1] == \".\":\n",
    "                text = text[:-1]\n",
    "            words = text.lower().split()\n",
    "            words = sorted(words)\n",
    "            \n",
    "            return Counter(words)\n",
    "        \n",
    "        can_cnt = count_words(can_text)\n",
    "        refs_cnt = [count_words(ref_text) for ref_text in refs_text]\n",
    "        \n",
    "        can_len = sum(can_cnt.values())\n",
    "        print(can_cnt, can_len)\n",
    "        \n",
    "        n_shares = 0\n",
    "        for k in can_cnt:\n",
    "            n_hits = sum(ref_cnt.get(k, 0) for ref_cnt in refs_cnt)\n",
    "            if n_hits > 0:\n",
    "                cur_shares = can_cnt[k]\n",
    "                cur_max_ref = 0\n",
    "                if modified:\n",
    "                    cur_max_ref = max(ref_cnt[k] for ref_cnt in refs_cnt)\n",
    "                    cur_shares = min(cur_shares, cur_max_ref)\n",
    "                n_shares += cur_shares\n",
    "                print(k, cur_shares, n_shares, cur_max_ref)\n",
    "        \n",
    "        return n_shares, can_len, n_shares/can_len\n",
    "    \n",
    "    @classmethod\n",
    "    def count_ngrams(cls, text, ngrams):\n",
    "        text = text.strip()\n",
    "        if text[-1] == \".\":\n",
    "            text = text[:-1]\n",
    "        words = text.lower().split()\n",
    "        ngram_segments = [tuple(words[i:i+ngrams]) for i in range(len(words)-ngrams+1)]\n",
    "\n",
    "        return Counter(ngram_segments)\n",
    "        \n",
    "    @classmethod\n",
    "    def calc_ngram(cls, can_text, refs_text, ngrams=1, modified=False):\n",
    "        \"\"\"can_sen: candidate text/sentence\n",
    "        ref_text: reference text/sentence, or ground truth\n",
    "        \"\"\"\n",
    "        \n",
    "        can_cnt = cls.count_ngrams(can_text, ngrams=ngrams)\n",
    "        refs_cnt = [cls.count_ngrams(ref_text, ngrams=ngrams) for ref_text in refs_text]\n",
    "        \n",
    "        can_len = sum(can_cnt.values())\n",
    "        \n",
    "        n_shares = 0\n",
    "        for k in can_cnt:\n",
    "            n_hits = sum(ref_cnt.get(k, 0) for ref_cnt in refs_cnt)\n",
    "            if n_hits > 0:\n",
    "                cur_shares = can_cnt[k]\n",
    "                cur_max_ref = 0\n",
    "                if modified:\n",
    "                    cur_max_ref = max(ref_cnt[k] for ref_cnt in refs_cnt)\n",
    "                    cur_shares = min(cur_shares, cur_max_ref)\n",
    "                n_shares += cur_shares\n",
    "                print(k, cur_shares, n_shares, cur_max_ref)\n",
    "        \n",
    "        return n_shares, can_len, n_shares/can_len\n",
    "    \n",
    "    @classmethod\n",
    "    def BP(cls, can_len, refs_len):\n",
    "        \"\"\"calculate brevity penalty\n",
    "        \"\"\"\n",
    "        refs_len = list(set(refs_len))  #de-duplicate\n",
    "        sorted_refs_len = sorted(refs_len, key=lambda x: (abs(can_len-x), x))\n",
    "        r = sorted_refs_len[0]\n",
    "        print(sorted_refs_len, r)\n",
    "        \n",
    "        c = can_len\n",
    "        bp = 1 if c >= r else math.exp(1-r/c)\n",
    "        \n",
    "        return bp\n",
    "    \n",
    "    @classmethod\n",
    "    def bleu4(cls, can_text, refs_text, n_max=4):\n",
    "        ps = [cls.calc_ngram(can_text, refs_text, ngrams=i, modified=True)[2] for i in range(1,n_max+1)]\n",
    "        print(\"ps: \", ps)\n",
    "        can_len = sum(cls.count_ngrams(can_text, ngrams=1).values())\n",
    "        refs_len = [sum(cls.count_ngrams(ref_text, ngrams=1).values()) for ref_text in refs_text]\n",
    "        bp = cls.BP(can_len, refs_len)\n",
    "        print(\"bp: \", bp)\n",
    "        \n",
    "        wsum_log_ps = sum([math.log(p)*1/n_max if p > 0 else 0 for p in ps])\n",
    "        print(\"wsum_log_ps: \", wsum_log_ps)\n",
    "        bleu = bp*math.exp(wsum_log_ps)\n",
    "\n",
    "        return bleu"
   ]
  },
  {
   "cell_type": "code",
   "execution_count": 3,
   "id": "1d06f476",
   "metadata": {},
   "outputs": [],
   "source": [
    "example_1 = {\n",
    "    \"Candidate\": \n",
    "        [\n",
    "            \"It is a guide to action which ensures that the military always obeys the commands of the party.\",\n",
    "            \"It is to insure the troops forever hearing the activity guidebook that party direct.\"\n",
    "        ],\n",
    "    \"Reference\": \n",
    "        [   \"It is a guide to action that ensures that the military will forever heed Party commands.\",\n",
    "            \"It is the guiding principle which guarantees the military forces always being under the command of the Party.\"\n",
    "        ]\n",
    "}\n",
    "example_2 = {\n",
    "    \"Candidate\":\n",
    "        [\n",
    "            \"the the the the the the the.\"\n",
    "        ],\n",
    "    \"Reference\":\n",
    "        [\n",
    "            \"The cat is on the mat.\",\n",
    "            \"There is a cat on the mat.\"      \n",
    "        ]\n",
    "}\n",
    "\n",
    "example_3 = {\n",
    "    \"Candidate\":\n",
    "        [\n",
    "            \"of the\"\n",
    "        ],\n",
    "    \"Reference\":\n",
    "        [\n",
    "            \"It is a guide to action that ensures that the military will forever heed Party commands.\",\n",
    "            \"It is the guiding principle which guarantees the military forces always being under the command of the Party.\",\n",
    "            \"It is the practical guide for the army always to heed the directions of the party\"\n",
    "        ]   \n",
    "}\n"
   ]
  },
  {
   "cell_type": "code",
   "execution_count": 67,
   "id": "98b680e2",
   "metadata": {},
   "outputs": [
    {
     "name": "stdout",
     "output_type": "stream",
     "text": [
      "Counter({'the': 3, 'a': 1, 'action': 1, 'always': 1, 'commands': 1, 'ensures': 1, 'guide': 1, 'is': 1, 'it': 1, 'military': 1, 'obeys': 1, 'of': 1, 'party': 1, 'that': 1, 'to': 1, 'which': 1}) 18\n",
      "a 1 1 0\n",
      "action 1 2 0\n",
      "always 1 3 0\n",
      "commands 1 4 0\n",
      "ensures 1 5 0\n",
      "guide 1 6 0\n",
      "is 1 7 0\n",
      "it 1 8 0\n",
      "military 1 9 0\n",
      "of 1 10 0\n",
      "party 1 11 0\n",
      "that 1 12 0\n",
      "the 3 15 0\n",
      "to 1 16 0\n",
      "which 1 17 0\n",
      "(17, 18, 0.9444444444444444)\n",
      "Counter({'the': 2, 'activity': 1, 'direct': 1, 'forever': 1, 'guidebook': 1, 'hearing': 1, 'insure': 1, 'is': 1, 'it': 1, 'party': 1, 'that': 1, 'to': 1, 'troops': 1}) 14\n",
      "forever 1 1 0\n",
      "is 1 2 0\n",
      "it 1 3 0\n",
      "party 1 4 0\n",
      "that 1 5 0\n",
      "the 2 7 0\n",
      "to 1 8 0\n",
      "(8, 14, 0.5714285714285714)\n"
     ]
    }
   ],
   "source": [
    "for can in example_1['Candidate']:\n",
    "    print(BLEU.unigram_naive(can, example_1['Reference'], modified=False))\n",
    "    "
   ]
  },
  {
   "cell_type": "code",
   "execution_count": 94,
   "id": "51abab1c",
   "metadata": {},
   "outputs": [
    {
     "name": "stdout",
     "output_type": "stream",
     "text": [
      "[('a', 'guide'), ('action', 'which'), ('always', 'obeys'), ('commands', 'of'), ('ensures', 'that'), ('guide', 'to'), ('is', 'a'), ('it', 'is'), ('military', 'always'), ('obeys', 'the'), ('of', 'the'), ('that', 'the'), ('the', 'commands'), ('the', 'military'), ('the', 'party'), ('to', 'action'), ('which', 'ensures')]\n",
      "[('a', 'guide'), ('action', 'that'), ('ensures', 'that'), ('forever', 'heed'), ('guide', 'to'), ('heed', 'party'), ('is', 'a'), ('it', 'is'), ('military', 'will'), ('party', 'commands'), ('that', 'ensures'), ('that', 'the'), ('the', 'military'), ('to', 'action'), ('will', 'forever')]\n",
      "[('always', 'being'), ('being', 'under'), ('command', 'of'), ('forces', 'always'), ('guarantees', 'the'), ('guiding', 'principle'), ('is', 'the'), ('it', 'is'), ('military', 'forces'), ('of', 'the'), ('principle', 'which'), ('the', 'command'), ('the', 'guiding'), ('the', 'military'), ('the', 'party'), ('under', 'the'), ('which', 'guarantees')]\n",
      "Counter({('it', 'is'): 1, ('is', 'a'): 1, ('a', 'guide'): 1, ('guide', 'to'): 1, ('to', 'action'): 1, ('action', 'which'): 1, ('which', 'ensures'): 1, ('ensures', 'that'): 1, ('that', 'the'): 1, ('the', 'military'): 1, ('military', 'always'): 1, ('always', 'obeys'): 1, ('obeys', 'the'): 1, ('the', 'commands'): 1, ('commands', 'of'): 1, ('of', 'the'): 1, ('the', 'party'): 1}) 17\n",
      "('it', 'is') 1 1 1\n",
      "('is', 'a') 1 2 1\n",
      "('a', 'guide') 1 3 1\n",
      "('guide', 'to') 1 4 1\n",
      "('to', 'action') 1 5 1\n",
      "('ensures', 'that') 1 6 1\n",
      "('that', 'the') 1 7 1\n",
      "('the', 'military') 1 8 1\n",
      "('of', 'the') 1 9 1\n",
      "('the', 'party') 1 10 1\n",
      "(10, 17, 0.5882352941176471)\n",
      "[('activity', 'guidebook'), ('forever', 'hearing'), ('guidebook', 'that'), ('hearing', 'the'), ('insure', 'the'), ('is', 'to'), ('it', 'is'), ('party', 'direct'), ('that', 'party'), ('the', 'activity'), ('the', 'troops'), ('to', 'insure'), ('troops', 'forever')]\n",
      "[('a', 'guide'), ('action', 'that'), ('ensures', 'that'), ('forever', 'heed'), ('guide', 'to'), ('heed', 'party'), ('is', 'a'), ('it', 'is'), ('military', 'will'), ('party', 'commands'), ('that', 'ensures'), ('that', 'the'), ('the', 'military'), ('to', 'action'), ('will', 'forever')]\n",
      "[('always', 'being'), ('being', 'under'), ('command', 'of'), ('forces', 'always'), ('guarantees', 'the'), ('guiding', 'principle'), ('is', 'the'), ('it', 'is'), ('military', 'forces'), ('of', 'the'), ('principle', 'which'), ('the', 'command'), ('the', 'guiding'), ('the', 'military'), ('the', 'party'), ('under', 'the'), ('which', 'guarantees')]\n",
      "Counter({('it', 'is'): 1, ('is', 'to'): 1, ('to', 'insure'): 1, ('insure', 'the'): 1, ('the', 'troops'): 1, ('troops', 'forever'): 1, ('forever', 'hearing'): 1, ('hearing', 'the'): 1, ('the', 'activity'): 1, ('activity', 'guidebook'): 1, ('guidebook', 'that'): 1, ('that', 'party'): 1, ('party', 'direct'): 1}) 13\n",
      "('it', 'is') 1 1 1\n",
      "(1, 13, 0.07692307692307693)\n"
     ]
    }
   ],
   "source": [
    "for can in example_1['Candidate']:\n",
    "    print(BLEU.calc_ngram(can, example_1['Reference'], ngrams=2, modified=True))"
   ]
  },
  {
   "cell_type": "code",
   "execution_count": 100,
   "id": "092c9883",
   "metadata": {},
   "outputs": [
    {
     "name": "stdout",
     "output_type": "stream",
     "text": [
      "[]\n",
      "[('a', 'guide', 'to'), ('action', 'that', 'ensures'), ('ensures', 'that', 'the'), ('forever', 'heed', 'party'), ('guide', 'to', 'action'), ('heed', 'party', 'commands'), ('is', 'a', 'guide'), ('it', 'is', 'a'), ('military', 'will', 'forever'), ('that', 'ensures', 'that'), ('that', 'the', 'military'), ('the', 'military', 'will'), ('to', 'action', 'that'), ('will', 'forever', 'heed')]\n",
      "[('always', 'being', 'under'), ('being', 'under', 'the'), ('command', 'of', 'the'), ('forces', 'always', 'being'), ('guarantees', 'the', 'military'), ('guiding', 'principle', 'which'), ('is', 'the', 'guiding'), ('it', 'is', 'the'), ('military', 'forces', 'always'), ('of', 'the', 'party'), ('principle', 'which', 'guarantees'), ('the', 'command', 'of'), ('the', 'guiding', 'principle'), ('the', 'military', 'forces'), ('under', 'the', 'command'), ('which', 'guarantees', 'the')]\n",
      "[('always', 'to', 'heed'), ('army', 'always', 'to'), ('directions', 'of', 'the'), ('for', 'the', 'army'), ('guide', 'for', 'the'), ('heed', 'the', 'directions'), ('is', 'the', 'practical'), ('it', 'is', 'the'), ('of', 'the', 'party'), ('practical', 'guide', 'for'), ('the', 'army', 'always'), ('the', 'directions', 'of'), ('the', 'practical', 'guide'), ('to', 'heed', 'the')]\n",
      "Counter() 0\n"
     ]
    },
    {
     "ename": "ZeroDivisionError",
     "evalue": "division by zero",
     "output_type": "error",
     "traceback": [
      "\u001b[0;31m---------------------------------------------------------------------------\u001b[0m",
      "\u001b[0;31mZeroDivisionError\u001b[0m                         Traceback (most recent call last)",
      "Cell \u001b[0;32mIn[100], line 2\u001b[0m\n\u001b[1;32m      1\u001b[0m \u001b[38;5;28;01mfor\u001b[39;00m can \u001b[38;5;129;01min\u001b[39;00m example_3[\u001b[38;5;124m'\u001b[39m\u001b[38;5;124mCandidate\u001b[39m\u001b[38;5;124m'\u001b[39m]:\n\u001b[0;32m----> 2\u001b[0m     \u001b[38;5;28mprint\u001b[39m(\u001b[43mBLEU\u001b[49m\u001b[38;5;241;43m.\u001b[39;49m\u001b[43mcalc_ngram\u001b[49m\u001b[43m(\u001b[49m\u001b[43mcan\u001b[49m\u001b[43m,\u001b[49m\u001b[43m \u001b[49m\u001b[43mexample_3\u001b[49m\u001b[43m[\u001b[49m\u001b[38;5;124;43m'\u001b[39;49m\u001b[38;5;124;43mReference\u001b[39;49m\u001b[38;5;124;43m'\u001b[39;49m\u001b[43m]\u001b[49m\u001b[43m,\u001b[49m\u001b[43m \u001b[49m\u001b[43mngrams\u001b[49m\u001b[38;5;241;43m=\u001b[39;49m\u001b[38;5;241;43m3\u001b[39;49m\u001b[43m,\u001b[49m\u001b[43m \u001b[49m\u001b[43mmodified\u001b[49m\u001b[38;5;241;43m=\u001b[39;49m\u001b[38;5;28;43;01mTrue\u001b[39;49;00m\u001b[43m)\u001b[49m)\n",
      "Cell \u001b[0;32mIn[89], line 71\u001b[0m, in \u001b[0;36mBLEU.calc_ngram\u001b[0;34m(cls, can_text, refs_text, ngrams, modified)\u001b[0m\n\u001b[1;32m     68\u001b[0m         n_shares \u001b[38;5;241m+\u001b[39m\u001b[38;5;241m=\u001b[39m cur_shares\n\u001b[1;32m     69\u001b[0m         \u001b[38;5;28mprint\u001b[39m(k, cur_shares, n_shares, cur_max_ref)\n\u001b[0;32m---> 71\u001b[0m \u001b[38;5;28;01mreturn\u001b[39;00m n_shares, can_len, \u001b[43mn_shares\u001b[49m\u001b[38;5;241;43m/\u001b[39;49m\u001b[43mcan_len\u001b[49m\n",
      "\u001b[0;31mZeroDivisionError\u001b[0m: division by zero"
     ]
    }
   ],
   "source": [
    "for can in example_3['Candidate']:\n",
    "    print(BLEU.calc_ngram(can, example_3['Reference'], ngrams=3, modified=True))"
   ]
  },
  {
   "cell_type": "code",
   "execution_count": 56,
   "id": "1834b092",
   "metadata": {},
   "outputs": [
    {
     "name": "stdout",
     "output_type": "stream",
     "text": [
      "Counter({'the': 7}) 7\n",
      "the 2 2 2\n",
      "(2, 7, 0.2857142857142857)\n"
     ]
    }
   ],
   "source": [
    "for can in example_2['Candidate']:\n",
    "    print(BLEU.unigram_naive(can, example_2['Reference'], modified=True))\n",
    "    "
   ]
  },
  {
   "cell_type": "code",
   "execution_count": 60,
   "id": "65020805",
   "metadata": {},
   "outputs": [
    {
     "data": {
      "text/plain": [
       "['abc', 'cd', 'xy']"
      ]
     },
     "execution_count": 60,
     "metadata": {},
     "output_type": "execute_result"
    }
   ],
   "source": [
    "sorted(['xy', 'abc', 'cd'])"
   ]
  },
  {
   "cell_type": "code",
   "execution_count": 78,
   "id": "7bb86b96",
   "metadata": {},
   "outputs": [
    {
     "name": "stdout",
     "output_type": "stream",
     "text": [
      "[('a', 'guide'), ('action', 'which'), ('always', 'obeys'), ('commands', 'of'), ('ensures', 'that'), ('guide', 'to'), ('is', 'a'), ('it', 'is'), ('military', 'always'), ('obeys', 'the'), ('of', 'the'), ('that', 'the'), ('the', 'commands'), ('the', 'military'), ('the', 'party'), ('to', 'action'), ('which', 'ensures')]\n"
     ]
    },
    {
     "data": {
      "text/plain": [
       "Counter({('it', 'is'): 1,\n",
       "         ('is', 'a'): 1,\n",
       "         ('a', 'guide'): 1,\n",
       "         ('guide', 'to'): 1,\n",
       "         ('to', 'action'): 1,\n",
       "         ('action', 'which'): 1,\n",
       "         ('which', 'ensures'): 1,\n",
       "         ('ensures', 'that'): 1,\n",
       "         ('that', 'the'): 1,\n",
       "         ('the', 'military'): 1,\n",
       "         ('military', 'always'): 1,\n",
       "         ('always', 'obeys'): 1,\n",
       "         ('obeys', 'the'): 1,\n",
       "         ('the', 'commands'): 1,\n",
       "         ('commands', 'of'): 1,\n",
       "         ('of', 'the'): 1,\n",
       "         ('the', 'party'): 1})"
      ]
     },
     "execution_count": 78,
     "metadata": {},
     "output_type": "execute_result"
    }
   ],
   "source": [
    "BLEU.count_ngrams(example_1[\"Candidate\"][0], 2)"
   ]
  },
  {
   "cell_type": "code",
   "execution_count": 97,
   "id": "181d476e",
   "metadata": {},
   "outputs": [
    {
     "name": "stdout",
     "output_type": "stream",
     "text": [
      "[('of',), ('the',)]\n"
     ]
    },
    {
     "data": {
      "text/plain": [
       "Counter({('of',): 1, ('the',): 1})"
      ]
     },
     "execution_count": 97,
     "metadata": {},
     "output_type": "execute_result"
    }
   ],
   "source": [
    "(example_3[\"Candidate\"][0], 1)"
   ]
  },
  {
   "cell_type": "code",
   "execution_count": 114,
   "id": "84edcaaa",
   "metadata": {},
   "outputs": [
    {
     "name": "stdout",
     "output_type": "stream",
     "text": [
      "[10, 7, 12, 15] 10\n"
     ]
    },
    {
     "data": {
      "text/plain": [
       "0.8948393168143697"
      ]
     },
     "execution_count": 114,
     "metadata": {},
     "output_type": "execute_result"
    }
   ],
   "source": [
    "BLEU.BP(9, [7,10,12,15])"
   ]
  },
  {
   "cell_type": "code",
   "execution_count": 116,
   "id": "cae442fe",
   "metadata": {},
   "outputs": [
    {
     "data": {
      "text/plain": [
       "0.8948393168143697"
      ]
     },
     "execution_count": 116,
     "metadata": {},
     "output_type": "execute_result"
    }
   ],
   "source": [
    "math.exp(1-10/9)"
   ]
  },
  {
   "cell_type": "code",
   "execution_count": 127,
   "id": "2ad25afd",
   "metadata": {},
   "outputs": [
    {
     "name": "stdout",
     "output_type": "stream",
     "text": [
      "('it',) 1 1 1\n",
      "('is',) 1 2 1\n",
      "('a',) 1 3 1\n",
      "('guide',) 1 4 1\n",
      "('to',) 1 5 1\n",
      "('action',) 1 6 1\n",
      "('which',) 1 7 1\n",
      "('ensures',) 1 8 1\n",
      "('that',) 1 9 2\n",
      "('the',) 3 12 4\n",
      "('military',) 1 13 1\n",
      "('always',) 1 14 1\n",
      "('commands',) 1 15 1\n",
      "('of',) 1 16 1\n",
      "('party',) 1 17 1\n",
      "('it', 'is') 1 1 1\n",
      "('is', 'a') 1 2 1\n",
      "('a', 'guide') 1 3 1\n",
      "('guide', 'to') 1 4 1\n",
      "('to', 'action') 1 5 1\n",
      "('ensures', 'that') 1 6 1\n",
      "('that', 'the') 1 7 1\n",
      "('the', 'military') 1 8 1\n",
      "('of', 'the') 1 9 1\n",
      "('the', 'party') 1 10 1\n",
      "('it', 'is', 'a') 1 1 1\n",
      "('is', 'a', 'guide') 1 2 1\n",
      "('a', 'guide', 'to') 1 3 1\n",
      "('guide', 'to', 'action') 1 4 1\n",
      "('ensures', 'that', 'the') 1 5 1\n",
      "('that', 'the', 'military') 1 6 1\n",
      "('of', 'the', 'party') 1 7 1\n",
      "('it', 'is', 'a', 'guide') 1 1 1\n",
      "('is', 'a', 'guide', 'to') 1 2 1\n",
      "('a', 'guide', 'to', 'action') 1 3 1\n",
      "('ensures', 'that', 'the', 'military') 1 4 1\n",
      "ps:  [0.9444444444444444, 0.5882352941176471, 0.4375, 0.26666666666666666]\n",
      "[18, 16] 18\n",
      "bp:  1\n",
      "wsum_log_ps:  -0.6840552695172266\n",
      "0.5045666840058485\n",
      "('it',) 1 1 1\n",
      "('is',) 1 2 1\n",
      "('to',) 1 3 1\n",
      "('the',) 2 5 4\n",
      "('forever',) 1 6 1\n",
      "('that',) 1 7 2\n",
      "('party',) 1 8 1\n",
      "('it', 'is') 1 1 1\n",
      "ps:  [0.5714285714285714, 0.07692307692307693, 0.0, 0.0]\n",
      "[16, 18] 16\n",
      "bp:  0.8668778997501817\n",
      "wsum_log_ps:  -0.7811412863492398\n",
      "0.39692877231857493\n"
     ]
    }
   ],
   "source": [
    "for can in example_1['Candidate']:\n",
    "    print(BLEU.bleu4(can, example_1['Reference']))"
   ]
  },
  {
   "cell_type": "code",
   "execution_count": 125,
   "id": "cb12f4ba",
   "metadata": {},
   "outputs": [
    {
     "data": {
      "text/plain": [
       "0.5045666840058485"
      ]
     },
     "execution_count": 125,
     "metadata": {},
     "output_type": "execute_result"
    }
   ],
   "source": [
    "np.prod([0.9444444444444444, 0.5882352941176471, 0.4375, 0.26666666666666666])**(1/4)"
   ]
  },
  {
   "cell_type": "markdown",
   "id": "821b06b4",
   "metadata": {},
   "source": [
    "### Test ScareBlue"
   ]
  },
  {
   "cell_type": "code",
   "execution_count": 4,
   "id": "4f65d6f1",
   "metadata": {},
   "outputs": [],
   "source": [
    "from sacrebleu.metrics import BLEU, CHRF, TER"
   ]
  },
  {
   "cell_type": "code",
   "execution_count": 5,
   "id": "37f283c7",
   "metadata": {},
   "outputs": [],
   "source": [
    "refs = [ # First set of references\n",
    "         ['The dog bit the man.', 'It was not unexpected.', 'The man bit him first.'],\n",
    "         # Second set of references\n",
    "         ['The dog had bit the man.', 'No one was surprised.', 'The man had bitten the dog.'],\n",
    "       ]\n",
    "sys = ['The dog bit the man.', \"It wasn't surprising.\", 'The man had just bitten him.']"
   ]
  },
  {
   "cell_type": "code",
   "execution_count": 6,
   "id": "95e32622",
   "metadata": {},
   "outputs": [
    {
     "name": "stdout",
     "output_type": "stream",
     "text": [
      "ref_lens, ref_ngrams: \n",
      " [6, 7] \n",
      " Counter({('The',): 1, ('dog',): 1, ('bit',): 1, ('the',): 1, ('man',): 1, ('.',): 1, ('The', 'dog'): 1, ('dog', 'bit'): 1, ('bit', 'the'): 1, ('the', 'man'): 1, ('man', '.'): 1, ('The', 'dog', 'bit'): 1, ('dog', 'bit', 'the'): 1, ('bit', 'the', 'man'): 1, ('the', 'man', '.'): 1, ('The', 'dog', 'bit', 'the'): 1, ('dog', 'bit', 'the', 'man'): 1, ('bit', 'the', 'man', '.'): 1, ('had',): 1, ('dog', 'had'): 1, ('had', 'bit'): 1, ('The', 'dog', 'had'): 1, ('dog', 'had', 'bit'): 1, ('had', 'bit', 'the'): 1, ('The', 'dog', 'had', 'bit'): 1, ('dog', 'had', 'bit', 'the'): 1, ('had', 'bit', 'the', 'man'): 1})\n",
      "hyp_len, hyp_ngrams: \n",
      " 6 \n",
      " Counter({('The',): 1, ('dog',): 1, ('bit',): 1, ('the',): 1, ('man',): 1, ('.',): 1, ('The', 'dog'): 1, ('dog', 'bit'): 1, ('bit', 'the'): 1, ('the', 'man'): 1, ('man', '.'): 1, ('The', 'dog', 'bit'): 1, ('dog', 'bit', 'the'): 1, ('bit', 'the', 'man'): 1, ('the', 'man', '.'): 1, ('The', 'dog', 'bit', 'the'): 1, ('dog', 'bit', 'the', 'man'): 1, ('bit', 'the', 'man', '.'): 1})\n",
      "[Debug] correct, total:  [6, 5, 4, 3] [6, 5, 4, 3]\n",
      "ref_lens, ref_ngrams: \n",
      " [5, 5] \n",
      " Counter({('It',): 1, ('was',): 1, ('not',): 1, ('unexpected',): 1, ('.',): 1, ('It', 'was'): 1, ('was', 'not'): 1, ('not', 'unexpected'): 1, ('unexpected', '.'): 1, ('It', 'was', 'not'): 1, ('was', 'not', 'unexpected'): 1, ('not', 'unexpected', '.'): 1, ('It', 'was', 'not', 'unexpected'): 1, ('was', 'not', 'unexpected', '.'): 1, ('No',): 1, ('one',): 1, ('surprised',): 1, ('No', 'one'): 1, ('one', 'was'): 1, ('was', 'surprised'): 1, ('surprised', '.'): 1, ('No', 'one', 'was'): 1, ('one', 'was', 'surprised'): 1, ('was', 'surprised', '.'): 1, ('No', 'one', 'was', 'surprised'): 1, ('one', 'was', 'surprised', '.'): 1})\n",
      "hyp_len, hyp_ngrams: \n",
      " 4 \n",
      " Counter({('It',): 1, (\"wasn't\",): 1, ('surprising',): 1, ('.',): 1, ('It', \"wasn't\"): 1, (\"wasn't\", 'surprising'): 1, ('surprising', '.'): 1, ('It', \"wasn't\", 'surprising'): 1, (\"wasn't\", 'surprising', '.'): 1, ('It', \"wasn't\", 'surprising', '.'): 1})\n",
      "[Debug] correct, total:  [2, 0, 0, 0] [4, 3, 2, 1]\n",
      "ref_lens, ref_ngrams: \n",
      " [6, 7] \n",
      " Counter({('The',): 1, ('man',): 1, ('bit',): 1, ('him',): 1, ('first',): 1, ('.',): 1, ('The', 'man'): 1, ('man', 'bit'): 1, ('bit', 'him'): 1, ('him', 'first'): 1, ('first', '.'): 1, ('The', 'man', 'bit'): 1, ('man', 'bit', 'him'): 1, ('bit', 'him', 'first'): 1, ('him', 'first', '.'): 1, ('The', 'man', 'bit', 'him'): 1, ('man', 'bit', 'him', 'first'): 1, ('bit', 'him', 'first', '.'): 1, ('had',): 1, ('bitten',): 1, ('the',): 1, ('dog',): 1, ('man', 'had'): 1, ('had', 'bitten'): 1, ('bitten', 'the'): 1, ('the', 'dog'): 1, ('dog', '.'): 1, ('The', 'man', 'had'): 1, ('man', 'had', 'bitten'): 1, ('had', 'bitten', 'the'): 1, ('bitten', 'the', 'dog'): 1, ('the', 'dog', '.'): 1, ('The', 'man', 'had', 'bitten'): 1, ('man', 'had', 'bitten', 'the'): 1, ('had', 'bitten', 'the', 'dog'): 1, ('bitten', 'the', 'dog', '.'): 1})\n",
      "hyp_len, hyp_ngrams: \n",
      " 7 \n",
      " Counter({('The',): 1, ('man',): 1, ('had',): 1, ('just',): 1, ('bitten',): 1, ('him',): 1, ('.',): 1, ('The', 'man'): 1, ('man', 'had'): 1, ('had', 'just'): 1, ('just', 'bitten'): 1, ('bitten', 'him'): 1, ('him', '.'): 1, ('The', 'man', 'had'): 1, ('man', 'had', 'just'): 1, ('had', 'just', 'bitten'): 1, ('just', 'bitten', 'him'): 1, ('bitten', 'him', '.'): 1, ('The', 'man', 'had', 'just'): 1, ('man', 'had', 'just', 'bitten'): 1, ('had', 'just', 'bitten', 'him'): 1, ('just', 'bitten', 'him', '.'): 1})\n",
      "[Debug] correct, total:  [6, 2, 1, 0] [7, 6, 5, 4]\n"
     ]
    },
    {
     "data": {
      "text/plain": [
       "BLEU = 48.53 82.4/50.0/45.5/37.5 (BP = 0.943 ratio = 0.944 hyp_len = 17 ref_len = 18)"
      ]
     },
     "execution_count": 6,
     "metadata": {},
     "output_type": "execute_result"
    }
   ],
   "source": [
    "bleu = BLEU(effective_order=True)\n",
    "bleu.corpus_score(sys, refs)"
   ]
  },
  {
   "cell_type": "code",
   "execution_count": 149,
   "id": "c555bfaa",
   "metadata": {},
   "outputs": [
    {
     "data": {
      "text/plain": [
       "BLEU = 100.00 100.0/100.0/100.0/100.0 (BP = 1.000 ratio = 1.000 hyp_len = 6 ref_len = 6)"
      ]
     },
     "execution_count": 149,
     "metadata": {},
     "output_type": "execute_result"
    }
   ],
   "source": [
    "bleu.sentence_score(sys[0], [refs[0][0], refs[1][0]])"
   ]
  },
  {
   "cell_type": "code",
   "execution_count": 140,
   "id": "cbbb4b97",
   "metadata": {},
   "outputs": [],
   "source": [
    "?bleu.sentence_score"
   ]
  },
  {
   "cell_type": "code",
   "execution_count": 150,
   "id": "bcf2e0ad",
   "metadata": {},
   "outputs": [
    {
     "name": "stdout",
     "output_type": "stream",
     "text": [
      "It is a guide to action which ensures that the military always obeys the commands of the party.\n",
      "['It is a guide to action that ensures that the military will forever heed Party commands.', 'It is the guiding principle which guarantees the military forces always being under the command of the Party.']\n",
      "BLEU = 44.57 89.5/50.0/35.3/25.0 (BP = 1.000 ratio = 1.000 hyp_len = 19 ref_len = 19)\n",
      "It is to insure the troops forever hearing the activity guidebook that party direct.\n",
      "['It is a guide to action that ensures that the military will forever heed Party commands.', 'It is the guiding principle which guarantees the military forces always being under the command of the Party.']\n",
      "BLEU = 6.51 53.3/7.1/3.8/2.1 (BP = 0.875 ratio = 0.882 hyp_len = 15 ref_len = 17)\n"
     ]
    }
   ],
   "source": [
    "for can in example_1['Candidate']:\n",
    "    print(can)\n",
    "    print(example_1['Reference'])\n",
    "    print(bleu.sentence_score(can, example_1['Reference']))"
   ]
  },
  {
   "cell_type": "code",
   "execution_count": 146,
   "id": "40b1a340",
   "metadata": {},
   "outputs": [
    {
     "data": {
      "text/plain": [
       "17"
      ]
     },
     "execution_count": 146,
     "metadata": {},
     "output_type": "execute_result"
    }
   ],
   "source": [
    "\"It is a guide to action that ensures that the military will forever heed Party commands .\".split().__len__()"
   ]
  },
  {
   "cell_type": "code",
   "execution_count": 147,
   "id": "8d600630",
   "metadata": {},
   "outputs": [
    {
     "data": {
      "text/plain": [
       "19"
      ]
     },
     "execution_count": 147,
     "metadata": {},
     "output_type": "execute_result"
    }
   ],
   "source": [
    "'It is the guiding principle which guarantees the military forces always being under the command of the Party .'.split().__len__()"
   ]
  },
  {
   "cell_type": "code",
   "execution_count": 152,
   "id": "b8d6fffd",
   "metadata": {},
   "outputs": [],
   "source": [
    "import sacrebleu"
   ]
  },
  {
   "cell_type": "code",
   "execution_count": 154,
   "id": "26da3c45",
   "metadata": {},
   "outputs": [],
   "source": [
    "tokenizer = sacrebleu.tokenizers.tokenizer_13a.Tokenizer13a()"
   ]
  },
  {
   "cell_type": "code",
   "execution_count": 155,
   "id": "078d5421",
   "metadata": {},
   "outputs": [
    {
     "data": {
      "text/plain": [
       "'It is a guide to action which ensures that the military always obeys the commands of the party .'"
      ]
     },
     "execution_count": 155,
     "metadata": {},
     "output_type": "execute_result"
    }
   ],
   "source": [
    "tokenizer(example_1[\"Candidate\"][0])"
   ]
  },
  {
   "cell_type": "code",
   "execution_count": 156,
   "id": "22b71a01",
   "metadata": {},
   "outputs": [],
   "source": [
    "import re"
   ]
  },
  {
   "cell_type": "code",
   "execution_count": 158,
   "id": "2bb64648",
   "metadata": {},
   "outputs": [
    {
     "data": {
      "text/plain": [
       "'abc . '"
      ]
     },
     "execution_count": 158,
     "metadata": {},
     "output_type": "execute_result"
    }
   ],
   "source": [
    "re.sub(r'([^0-9])([\\.,])', r'\\1 \\2 ', \"abc.\")"
   ]
  },
  {
   "cell_type": "code",
   "execution_count": 159,
   "id": "ddc657e2",
   "metadata": {},
   "outputs": [],
   "source": [
    "class TestTokenizer13a:\n",
    "    def __call__(self, line):\n",
    "        \"\"\"Tokenizes an input line using a relatively minimal tokenization\n",
    "        that is however equivalent to mteval-v13a, used by WMT.\n",
    "\n",
    "        :param line: a segment to tokenize\n",
    "        :return: the tokenized line\n",
    "        \"\"\"\n",
    "\n",
    "        # language-independent part:\n",
    "        line = line.replace('<skipped>', '')\n",
    "        line = line.replace('-\\n', '')\n",
    "        line = line.replace('\\n', ' ')\n",
    "\n",
    "        if '&' in line:\n",
    "            line = line.replace('&quot;', '\"')\n",
    "            line = line.replace('&amp;', '&')\n",
    "            line = line.replace('&lt;', '<')\n",
    "            line = line.replace('&gt;', '>')\n",
    "        \n",
    "        return f' {line} '\n"
   ]
  },
  {
   "cell_type": "code",
   "execution_count": 161,
   "id": "8cab233f",
   "metadata": {},
   "outputs": [
    {
     "data": {
      "text/plain": [
       "' It is a guide to action which ensures that the military always obeys the commands of the party. '"
      ]
     },
     "execution_count": 161,
     "metadata": {},
     "output_type": "execute_result"
    }
   ],
   "source": [
    "TestTokenizer13a()(example_1[\"Candidate\"][0])"
   ]
  },
  {
   "cell_type": "code",
   "execution_count": 162,
   "id": "0966ebc8",
   "metadata": {},
   "outputs": [],
   "source": [
    "post_tokenizer = sacrebleu.tokenizers.tokenizer_re.TokenizerRegexp()"
   ]
  },
  {
   "cell_type": "code",
   "execution_count": 164,
   "id": "925ab860",
   "metadata": {},
   "outputs": [
    {
     "data": {
      "text/plain": [
       "['It',\n",
       " 'is',\n",
       " 'a',\n",
       " 'guide',\n",
       " 'to',\n",
       " 'action',\n",
       " 'which',\n",
       " 'ensures',\n",
       " 'that',\n",
       " 'the',\n",
       " 'military',\n",
       " 'always',\n",
       " 'obeys',\n",
       " 'the',\n",
       " 'commands',\n",
       " 'of',\n",
       " 'the',\n",
       " 'party',\n",
       " '.']"
      ]
     },
     "execution_count": 164,
     "metadata": {},
     "output_type": "execute_result"
    }
   ],
   "source": [
    "post_tokenizer(TestTokenizer13a()(example_1[\"Candidate\"][0])).split()"
   ]
  },
  {
   "cell_type": "code",
   "execution_count": 165,
   "id": "08c0eba6",
   "metadata": {},
   "outputs": [
    {
     "data": {
      "text/plain": [
       "['a', 'b', 'c']"
      ]
     },
     "execution_count": 165,
     "metadata": {},
     "output_type": "execute_result"
    }
   ],
   "source": [
    "\" a b c \".split()"
   ]
  },
  {
   "cell_type": "code",
   "execution_count": 46,
   "id": "7f22a272",
   "metadata": {},
   "outputs": [],
   "source": [
    "import sacrebleu\n",
    "\n",
    "class BLEUEx:\n",
    "    default_tokenizer = sacrebleu.tokenizers.tokenizer_13a.Tokenizer13a()\n",
    "    \n",
    "    @classmethod\n",
    "    def tokenize(cls, line):\n",
    "        return cls.default_tokenizer(line)\n",
    "    \n",
    "    @classmethod\n",
    "    def count_ngrams(cls, text, ngrams):\n",
    "        text = cls.tokenize(text)\n",
    "        words = text.lower().split()\n",
    "        # \\print(' '.join(words))\n",
    "        ngram_segments = [tuple(words[i:i+ngrams]) for i in range(len(words)-ngrams+1)]\n",
    "\n",
    "        return Counter(ngram_segments)\n",
    "        \n",
    "    @classmethod\n",
    "    def match_ngram(cls, hyp_text, refs_text, ngrams=1):\n",
    "        \"\"\"can_sen: candidate text/sentence\n",
    "        ref_text: reference text/sentence, or ground truth\n",
    "        \"\"\"\n",
    "        \n",
    "        hyp_cnt = cls.count_ngrams(hyp_text, ngrams=ngrams)\n",
    "        #print(hyp_cnt)\n",
    "        refs_cnt = [cls.count_ngrams(ref_text, ngrams=ngrams) for ref_text in refs_text]\n",
    "        #print(refs_cnt)\n",
    "        \n",
    "        hyp_len = sum(hyp_cnt.values())\n",
    "        \n",
    "        n_shares = 0\n",
    "        for k in hyp_cnt:\n",
    "            n_hits = sum(ref_cnt.get(k, 0) for ref_cnt in refs_cnt)\n",
    "            cur_shares = min(hyp_cnt[k], n_hits)\n",
    "            n_shares += cur_shares\n",
    "            #print(k, hyp_cnt[k], n_hits, cur_shares)\n",
    "        \n",
    "        print(n_shares, hyp_len, n_shares/hyp_len)\n",
    "        return n_shares, hyp_len, n_shares/hyp_len\n",
    "    \n",
    "    @classmethod\n",
    "    def BP(cls, can_len, refs_len):\n",
    "        \"\"\"calculate brevity penalty\n",
    "        \"\"\"\n",
    "        refs_len = list(set(refs_len))  #de-duplicate\n",
    "        sorted_refs_len = sorted(refs_len, key=lambda x: (abs(can_len-x), x))\n",
    "        r = sorted_refs_len[0]\n",
    "        # print(sorted_refs_len, r)\n",
    "        \n",
    "        c = can_len\n",
    "        bp = 1 if c >= r else math.exp(1-r/c)\n",
    "        \n",
    "        return bp\n",
    "    \n",
    "    @classmethod\n",
    "    def sentence_score(cls, can_text, refs_text, n_max=4):\n",
    "        ps = [cls.match_ngram(can_text, refs_text, ngrams=i)[2] for i in range(1,n_max+1)]\n",
    "        print(\"ps: \", ps)\n",
    "        can_len = sum(cls.count_ngrams(can_text, ngrams=1).values())\n",
    "        refs_len = [sum(cls.count_ngrams(ref_text, ngrams=1).values()) for ref_text in refs_text]\n",
    "        bp = cls.BP(can_len, refs_len)\n",
    "        print(\"bp: \", bp)\n",
    "        \n",
    "        wsum_log_ps = sum([math.log(p)*1/n_max if p > 0 else 0 for p in ps])\n",
    "        print(\"wsum_log_ps: \", wsum_log_ps)\n",
    "        bleu = bp*math.exp(wsum_log_ps)*100\n",
    "\n",
    "        return bleu"
   ]
  },
  {
   "cell_type": "code",
   "execution_count": 47,
   "id": "5476e77b",
   "metadata": {},
   "outputs": [
    {
     "name": "stdout",
     "output_type": "stream",
     "text": [
      "18 19 0.9473684210526315\n",
      "11 18 0.6111111111111112\n",
      "8 17 0.47058823529411764\n",
      "5 16 0.3125\n",
      "ps:  [0.9473684210526315, 0.6111111111111112, 0.47058823529411764, 0.3125]\n",
      "bp:  1\n",
      "wsum_log_ps:  -0.6158665796375327\n",
      "54.01725898595141\n",
      "9 15 0.6\n",
      "1 14 0.07142857142857142\n",
      "0 13 0.0\n",
      "0 12 0.0\n",
      "ps:  [0.6, 0.07142857142857142, 0.0, 0.0]\n",
      "bp:  0.8751733190429475\n",
      "wsum_log_ps:  -0.7874707383453123\n",
      "39.81987320031649\n"
     ]
    }
   ],
   "source": [
    "for can in example_1['Candidate']:\n",
    "    print(BLEUEx.sentence_score(can, example_1['Reference']))"
   ]
  },
  {
   "cell_type": "code",
   "execution_count": 17,
   "id": "6a80db52",
   "metadata": {},
   "outputs": [
    {
     "name": "stdout",
     "output_type": "stream",
     "text": [
      "it is a guide to action which ensures that the military always obeys the commands of the party .\n",
      "it is a guide to action which ensures that the military always obeys the commands of the party .\n",
      "Counter({('the',): 3, ('it',): 1, ('is',): 1, ('a',): 1, ('guide',): 1, ('to',): 1, ('action',): 1, ('which',): 1, ('ensures',): 1, ('that',): 1, ('military',): 1, ('always',): 1, ('obeys',): 1, ('commands',): 1, ('of',): 1, ('party',): 1, ('.',): 1})\n",
      "it is a guide to action that ensures that the military will forever heed party commands .\n",
      "it is the guiding principle which guarantees the military forces always being under the command of the party .\n",
      "[Counter({('that',): 2, ('it',): 1, ('is',): 1, ('a',): 1, ('guide',): 1, ('to',): 1, ('action',): 1, ('ensures',): 1, ('the',): 1, ('military',): 1, ('will',): 1, ('forever',): 1, ('heed',): 1, ('party',): 1, ('commands',): 1, ('.',): 1}), Counter({('the',): 4, ('it',): 1, ('is',): 1, ('guiding',): 1, ('principle',): 1, ('which',): 1, ('guarantees',): 1, ('military',): 1, ('forces',): 1, ('always',): 1, ('being',): 1, ('under',): 1, ('command',): 1, ('of',): 1, ('party',): 1, ('.',): 1})]\n",
      "('it',) 1 2 1\n",
      "('is',) 1 2 1\n",
      "('a',) 1 1 1\n",
      "('guide',) 1 1 1\n",
      "('to',) 1 1 1\n",
      "('action',) 1 1 1\n",
      "('which',) 1 1 1\n",
      "('ensures',) 1 1 1\n",
      "('that',) 1 2 1\n",
      "('the',) 3 5 3\n",
      "('military',) 1 2 1\n",
      "('always',) 1 1 1\n",
      "('obeys',) 1 0 0\n",
      "('commands',) 1 1 1\n",
      "('of',) 1 1 1\n",
      "('party',) 1 2 1\n",
      "('.',) 1 2 1\n",
      "18 19 0.9473684210526315\n"
     ]
    },
    {
     "data": {
      "text/plain": [
       "(18, 19, 0.9473684210526315)"
      ]
     },
     "execution_count": 17,
     "metadata": {},
     "output_type": "execute_result"
    }
   ],
   "source": [
    "BLEUEx.count_ngrams(example_1['Candidate'][0], 1)\n",
    "BLEUEx.match_ngram(example_1['Candidate'][0], example_1['Reference'], 1)"
   ]
  },
  {
   "cell_type": "code",
   "execution_count": 49,
   "id": "b4469aea",
   "metadata": {},
   "outputs": [
    {
     "name": "stdout",
     "output_type": "stream",
     "text": [
      "ref_lens, ref_ngrams: \n",
      " [17, 19] \n",
      " Counter({('the',): 4, ('that',): 2, ('it',): 1, ('is',): 1, ('a',): 1, ('guide',): 1, ('to',): 1, ('action',): 1, ('ensures',): 1, ('military',): 1, ('will',): 1, ('forever',): 1, ('heed',): 1, ('party',): 1, ('commands',): 1, ('.',): 1, ('it', 'is'): 1, ('is', 'a'): 1, ('a', 'guide'): 1, ('guide', 'to'): 1, ('to', 'action'): 1, ('action', 'that'): 1, ('that', 'ensures'): 1, ('ensures', 'that'): 1, ('that', 'the'): 1, ('the', 'military'): 1, ('military', 'will'): 1, ('will', 'forever'): 1, ('forever', 'heed'): 1, ('heed', 'party'): 1, ('party', 'commands'): 1, ('commands', '.'): 1, ('it', 'is', 'a'): 1, ('is', 'a', 'guide'): 1, ('a', 'guide', 'to'): 1, ('guide', 'to', 'action'): 1, ('to', 'action', 'that'): 1, ('action', 'that', 'ensures'): 1, ('that', 'ensures', 'that'): 1, ('ensures', 'that', 'the'): 1, ('that', 'the', 'military'): 1, ('the', 'military', 'will'): 1, ('military', 'will', 'forever'): 1, ('will', 'forever', 'heed'): 1, ('forever', 'heed', 'party'): 1, ('heed', 'party', 'commands'): 1, ('party', 'commands', '.'): 1, ('it', 'is', 'a', 'guide'): 1, ('is', 'a', 'guide', 'to'): 1, ('a', 'guide', 'to', 'action'): 1, ('guide', 'to', 'action', 'that'): 1, ('to', 'action', 'that', 'ensures'): 1, ('action', 'that', 'ensures', 'that'): 1, ('that', 'ensures', 'that', 'the'): 1, ('ensures', 'that', 'the', 'military'): 1, ('that', 'the', 'military', 'will'): 1, ('the', 'military', 'will', 'forever'): 1, ('military', 'will', 'forever', 'heed'): 1, ('will', 'forever', 'heed', 'party'): 1, ('forever', 'heed', 'party', 'commands'): 1, ('heed', 'party', 'commands', '.'): 1, ('guiding',): 1, ('principle',): 1, ('which',): 1, ('guarantees',): 1, ('forces',): 1, ('always',): 1, ('being',): 1, ('under',): 1, ('command',): 1, ('of',): 1, ('is', 'the'): 1, ('the', 'guiding'): 1, ('guiding', 'principle'): 1, ('principle', 'which'): 1, ('which', 'guarantees'): 1, ('guarantees', 'the'): 1, ('military', 'forces'): 1, ('forces', 'always'): 1, ('always', 'being'): 1, ('being', 'under'): 1, ('under', 'the'): 1, ('the', 'command'): 1, ('command', 'of'): 1, ('of', 'the'): 1, ('the', 'party'): 1, ('party', '.'): 1, ('it', 'is', 'the'): 1, ('is', 'the', 'guiding'): 1, ('the', 'guiding', 'principle'): 1, ('guiding', 'principle', 'which'): 1, ('principle', 'which', 'guarantees'): 1, ('which', 'guarantees', 'the'): 1, ('guarantees', 'the', 'military'): 1, ('the', 'military', 'forces'): 1, ('military', 'forces', 'always'): 1, ('forces', 'always', 'being'): 1, ('always', 'being', 'under'): 1, ('being', 'under', 'the'): 1, ('under', 'the', 'command'): 1, ('the', 'command', 'of'): 1, ('command', 'of', 'the'): 1, ('of', 'the', 'party'): 1, ('the', 'party', '.'): 1, ('it', 'is', 'the', 'guiding'): 1, ('is', 'the', 'guiding', 'principle'): 1, ('the', 'guiding', 'principle', 'which'): 1, ('guiding', 'principle', 'which', 'guarantees'): 1, ('principle', 'which', 'guarantees', 'the'): 1, ('which', 'guarantees', 'the', 'military'): 1, ('guarantees', 'the', 'military', 'forces'): 1, ('the', 'military', 'forces', 'always'): 1, ('military', 'forces', 'always', 'being'): 1, ('forces', 'always', 'being', 'under'): 1, ('always', 'being', 'under', 'the'): 1, ('being', 'under', 'the', 'command'): 1, ('under', 'the', 'command', 'of'): 1, ('the', 'command', 'of', 'the'): 1, ('command', 'of', 'the', 'party'): 1, ('of', 'the', 'party', '.'): 1})\n",
      "hyp_len, hyp_ngrams: \n",
      " 19 \n",
      " Counter({('the',): 3, ('it',): 1, ('is',): 1, ('a',): 1, ('guide',): 1, ('to',): 1, ('action',): 1, ('which',): 1, ('ensures',): 1, ('that',): 1, ('military',): 1, ('always',): 1, ('obeys',): 1, ('commands',): 1, ('of',): 1, ('party',): 1, ('.',): 1, ('it', 'is'): 1, ('is', 'a'): 1, ('a', 'guide'): 1, ('guide', 'to'): 1, ('to', 'action'): 1, ('action', 'which'): 1, ('which', 'ensures'): 1, ('ensures', 'that'): 1, ('that', 'the'): 1, ('the', 'military'): 1, ('military', 'always'): 1, ('always', 'obeys'): 1, ('obeys', 'the'): 1, ('the', 'commands'): 1, ('commands', 'of'): 1, ('of', 'the'): 1, ('the', 'party'): 1, ('party', '.'): 1, ('it', 'is', 'a'): 1, ('is', 'a', 'guide'): 1, ('a', 'guide', 'to'): 1, ('guide', 'to', 'action'): 1, ('to', 'action', 'which'): 1, ('action', 'which', 'ensures'): 1, ('which', 'ensures', 'that'): 1, ('ensures', 'that', 'the'): 1, ('that', 'the', 'military'): 1, ('the', 'military', 'always'): 1, ('military', 'always', 'obeys'): 1, ('always', 'obeys', 'the'): 1, ('obeys', 'the', 'commands'): 1, ('the', 'commands', 'of'): 1, ('commands', 'of', 'the'): 1, ('of', 'the', 'party'): 1, ('the', 'party', '.'): 1, ('it', 'is', 'a', 'guide'): 1, ('is', 'a', 'guide', 'to'): 1, ('a', 'guide', 'to', 'action'): 1, ('guide', 'to', 'action', 'which'): 1, ('to', 'action', 'which', 'ensures'): 1, ('action', 'which', 'ensures', 'that'): 1, ('which', 'ensures', 'that', 'the'): 1, ('ensures', 'that', 'the', 'military'): 1, ('that', 'the', 'military', 'always'): 1, ('the', 'military', 'always', 'obeys'): 1, ('military', 'always', 'obeys', 'the'): 1, ('always', 'obeys', 'the', 'commands'): 1, ('obeys', 'the', 'commands', 'of'): 1, ('the', 'commands', 'of', 'the'): 1, ('commands', 'of', 'the', 'party'): 1, ('of', 'the', 'party', '.'): 1})\n",
      "[Debug] correct, total:  [18, 11, 8, 5] [19, 18, 17, 16]\n"
     ]
    }
   ],
   "source": [
    "s = bleu.sentence_score(example_1['Candidate'][0].lower(), [x.lower() for x in example_1['Reference']])"
   ]
  },
  {
   "cell_type": "code",
   "execution_count": 50,
   "id": "aec02a98",
   "metadata": {},
   "outputs": [
    {
     "data": {
      "text/plain": [
       "([18, 11, 8, 5],\n",
       " [19, 18, 17, 16],\n",
       " 19,\n",
       " 19,\n",
       " BLEU = 54.02 94.7/61.1/47.1/31.2 (BP = 1.000 ratio = 1.000 hyp_len = 19 ref_len = 19))"
      ]
     },
     "execution_count": 50,
     "metadata": {},
     "output_type": "execute_result"
    }
   ],
   "source": [
    "s.counts, s.totals, s.sys_len, s.ref_len, s"
   ]
  },
  {
   "cell_type": "code",
   "execution_count": 18,
   "id": "2e43aedb",
   "metadata": {},
   "outputs": [],
   "source": [
    "ref_cnt_sacre = Counter({('the',): 4, ('that',): 2, ('It',): 1, ('is',): 1, ('a',): 1, ('guide',): 1, ('to',): 1, ('action',): 1, ('ensures',): 1, ('military',): 1, ('will',): 1, ('forever',): 1, ('heed',): 1, ('Party',): 1, ('commands',): 1, ('.',): 1, ('It', 'is'): 1, ('is', 'a'): 1, ('a', 'guide'): 1, ('guide', 'to'): 1, ('to', 'action'): 1, ('action', 'that'): 1, ('that', 'ensures'): 1, ('ensures', 'that'): 1, ('that', 'the'): 1, ('the', 'military'): 1, ('military', 'will'): 1, ('will', 'forever'): 1, ('forever', 'heed'): 1, ('heed', 'Party'): 1, ('Party', 'commands'): 1, ('commands', '.'): 1, ('It', 'is', 'a'): 1, ('is', 'a', 'guide'): 1, ('a', 'guide', 'to'): 1, ('guide', 'to', 'action'): 1, ('to', 'action', 'that'): 1, ('action', 'that', 'ensures'): 1, ('that', 'ensures', 'that'): 1, ('ensures', 'that', 'the'): 1, ('that', 'the', 'military'): 1, ('the', 'military', 'will'): 1, ('military', 'will', 'forever'): 1, ('will', 'forever', 'heed'): 1, ('forever', 'heed', 'Party'): 1, ('heed', 'Party', 'commands'): 1, ('Party', 'commands', '.'): 1, ('It', 'is', 'a', 'guide'): 1, ('is', 'a', 'guide', 'to'): 1, ('a', 'guide', 'to', 'action'): 1, ('guide', 'to', 'action', 'that'): 1, ('to', 'action', 'that', 'ensures'): 1, ('action', 'that', 'ensures', 'that'): 1, ('that', 'ensures', 'that', 'the'): 1, ('ensures', 'that', 'the', 'military'): 1, ('that', 'the', 'military', 'will'): 1, ('the', 'military', 'will', 'forever'): 1, ('military', 'will', 'forever', 'heed'): 1, ('will', 'forever', 'heed', 'Party'): 1, ('forever', 'heed', 'Party', 'commands'): 1, ('heed', 'Party', 'commands', '.'): 1, ('guiding',): 1, ('principle',): 1, ('which',): 1, ('guarantees',): 1, ('forces',): 1, ('always',): 1, ('being',): 1, ('under',): 1, ('command',): 1, ('of',): 1, ('is', 'the'): 1, ('the', 'guiding'): 1, ('guiding', 'principle'): 1, ('principle', 'which'): 1, ('which', 'guarantees'): 1, ('guarantees', 'the'): 1, ('military', 'forces'): 1, ('forces', 'always'): 1, ('always', 'being'): 1, ('being', 'under'): 1, ('under', 'the'): 1, ('the', 'command'): 1, ('command', 'of'): 1, ('of', 'the'): 1, ('the', 'Party'): 1, ('Party', '.'): 1, ('It', 'is', 'the'): 1, ('is', 'the', 'guiding'): 1, ('the', 'guiding', 'principle'): 1, ('guiding', 'principle', 'which'): 1, ('principle', 'which', 'guarantees'): 1, ('which', 'guarantees', 'the'): 1, ('guarantees', 'the', 'military'): 1, ('the', 'military', 'forces'): 1, ('military', 'forces', 'always'): 1, ('forces', 'always', 'being'): 1, ('always', 'being', 'under'): 1, ('being', 'under', 'the'): 1, ('under', 'the', 'command'): 1, ('the', 'command', 'of'): 1, ('command', 'of', 'the'): 1, ('of', 'the', 'Party'): 1, ('the', 'Party', '.'): 1, ('It', 'is', 'the', 'guiding'): 1, ('is', 'the', 'guiding', 'principle'): 1, ('the', 'guiding', 'principle', 'which'): 1, ('guiding', 'principle', 'which', 'guarantees'): 1, ('principle', 'which', 'guarantees', 'the'): 1, ('which', 'guarantees', 'the', 'military'): 1, ('guarantees', 'the', 'military', 'forces'): 1, ('the', 'military', 'forces', 'always'): 1, ('military', 'forces', 'always', 'being'): 1, ('forces', 'always', 'being', 'under'): 1, ('always', 'being', 'under', 'the'): 1, ('being', 'under', 'the', 'command'): 1, ('under', 'the', 'command', 'of'): 1, ('the', 'command', 'of', 'the'): 1, ('command', 'of', 'the', 'Party'): 1, ('of', 'the', 'Party', '.'): 1})\n",
    "hyp_cnt_sacre =  Counter({('the',): 3, ('It',): 1, ('is',): 1, ('a',): 1, ('guide',): 1, ('to',): 1, ('action',): 1, ('which',): 1, ('ensures',): 1, ('that',): 1, ('military',): 1, ('always',): 1, ('obeys',): 1, ('commands',): 1, ('of',): 1, ('party',): 1, ('.',): 1, ('It', 'is'): 1, ('is', 'a'): 1, ('a', 'guide'): 1, ('guide', 'to'): 1, ('to', 'action'): 1, ('action', 'which'): 1, ('which', 'ensures'): 1, ('ensures', 'that'): 1, ('that', 'the'): 1, ('the', 'military'): 1, ('military', 'always'): 1, ('always', 'obeys'): 1, ('obeys', 'the'): 1, ('the', 'commands'): 1, ('commands', 'of'): 1, ('of', 'the'): 1, ('the', 'party'): 1, ('party', '.'): 1, ('It', 'is', 'a'): 1, ('is', 'a', 'guide'): 1, ('a', 'guide', 'to'): 1, ('guide', 'to', 'action'): 1, ('to', 'action', 'which'): 1, ('action', 'which', 'ensures'): 1, ('which', 'ensures', 'that'): 1, ('ensures', 'that', 'the'): 1, ('that', 'the', 'military'): 1, ('the', 'military', 'always'): 1, ('military', 'always', 'obeys'): 1, ('always', 'obeys', 'the'): 1, ('obeys', 'the', 'commands'): 1, ('the', 'commands', 'of'): 1, ('commands', 'of', 'the'): 1, ('of', 'the', 'party'): 1, ('the', 'party', '.'): 1, ('It', 'is', 'a', 'guide'): 1, ('is', 'a', 'guide', 'to'): 1, ('a', 'guide', 'to', 'action'): 1, ('guide', 'to', 'action', 'which'): 1, ('to', 'action', 'which', 'ensures'): 1, ('action', 'which', 'ensures', 'that'): 1, ('which', 'ensures', 'that', 'the'): 1, ('ensures', 'that', 'the', 'military'): 1, ('that', 'the', 'military', 'always'): 1, ('the', 'military', 'always', 'obeys'): 1, ('military', 'always', 'obeys', 'the'): 1, ('always', 'obeys', 'the', 'commands'): 1, ('obeys', 'the', 'commands', 'of'): 1, ('the', 'commands', 'of', 'the'): 1, ('commands', 'of', 'the', 'party'): 1, ('of', 'the', 'party', '.'): 1})"
   ]
  },
  {
   "cell_type": "code",
   "execution_count": 19,
   "id": "a1502f0c",
   "metadata": {},
   "outputs": [
    {
     "data": {
      "text/plain": [
       "(Counter({('the',): 4,\n",
       "          ('that',): 2,\n",
       "          ('It',): 1,\n",
       "          ('is',): 1,\n",
       "          ('a',): 1,\n",
       "          ('guide',): 1,\n",
       "          ('to',): 1,\n",
       "          ('action',): 1,\n",
       "          ('ensures',): 1,\n",
       "          ('military',): 1,\n",
       "          ('will',): 1,\n",
       "          ('forever',): 1,\n",
       "          ('heed',): 1,\n",
       "          ('Party',): 1,\n",
       "          ('commands',): 1,\n",
       "          ('.',): 1,\n",
       "          ('It', 'is'): 1,\n",
       "          ('is', 'a'): 1,\n",
       "          ('a', 'guide'): 1,\n",
       "          ('guide', 'to'): 1,\n",
       "          ('to', 'action'): 1,\n",
       "          ('action', 'that'): 1,\n",
       "          ('that', 'ensures'): 1,\n",
       "          ('ensures', 'that'): 1,\n",
       "          ('that', 'the'): 1,\n",
       "          ('the', 'military'): 1,\n",
       "          ('military', 'will'): 1,\n",
       "          ('will', 'forever'): 1,\n",
       "          ('forever', 'heed'): 1,\n",
       "          ('heed', 'Party'): 1,\n",
       "          ('Party', 'commands'): 1,\n",
       "          ('commands', '.'): 1,\n",
       "          ('It', 'is', 'a'): 1,\n",
       "          ('is', 'a', 'guide'): 1,\n",
       "          ('a', 'guide', 'to'): 1,\n",
       "          ('guide', 'to', 'action'): 1,\n",
       "          ('to', 'action', 'that'): 1,\n",
       "          ('action', 'that', 'ensures'): 1,\n",
       "          ('that', 'ensures', 'that'): 1,\n",
       "          ('ensures', 'that', 'the'): 1,\n",
       "          ('that', 'the', 'military'): 1,\n",
       "          ('the', 'military', 'will'): 1,\n",
       "          ('military', 'will', 'forever'): 1,\n",
       "          ('will', 'forever', 'heed'): 1,\n",
       "          ('forever', 'heed', 'Party'): 1,\n",
       "          ('heed', 'Party', 'commands'): 1,\n",
       "          ('Party', 'commands', '.'): 1,\n",
       "          ('It', 'is', 'a', 'guide'): 1,\n",
       "          ('is', 'a', 'guide', 'to'): 1,\n",
       "          ('a', 'guide', 'to', 'action'): 1,\n",
       "          ('guide', 'to', 'action', 'that'): 1,\n",
       "          ('to', 'action', 'that', 'ensures'): 1,\n",
       "          ('action', 'that', 'ensures', 'that'): 1,\n",
       "          ('that', 'ensures', 'that', 'the'): 1,\n",
       "          ('ensures', 'that', 'the', 'military'): 1,\n",
       "          ('that', 'the', 'military', 'will'): 1,\n",
       "          ('the', 'military', 'will', 'forever'): 1,\n",
       "          ('military', 'will', 'forever', 'heed'): 1,\n",
       "          ('will', 'forever', 'heed', 'Party'): 1,\n",
       "          ('forever', 'heed', 'Party', 'commands'): 1,\n",
       "          ('heed', 'Party', 'commands', '.'): 1,\n",
       "          ('guiding',): 1,\n",
       "          ('principle',): 1,\n",
       "          ('which',): 1,\n",
       "          ('guarantees',): 1,\n",
       "          ('forces',): 1,\n",
       "          ('always',): 1,\n",
       "          ('being',): 1,\n",
       "          ('under',): 1,\n",
       "          ('command',): 1,\n",
       "          ('of',): 1,\n",
       "          ('is', 'the'): 1,\n",
       "          ('the', 'guiding'): 1,\n",
       "          ('guiding', 'principle'): 1,\n",
       "          ('principle', 'which'): 1,\n",
       "          ('which', 'guarantees'): 1,\n",
       "          ('guarantees', 'the'): 1,\n",
       "          ('military', 'forces'): 1,\n",
       "          ('forces', 'always'): 1,\n",
       "          ('always', 'being'): 1,\n",
       "          ('being', 'under'): 1,\n",
       "          ('under', 'the'): 1,\n",
       "          ('the', 'command'): 1,\n",
       "          ('command', 'of'): 1,\n",
       "          ('of', 'the'): 1,\n",
       "          ('the', 'Party'): 1,\n",
       "          ('Party', '.'): 1,\n",
       "          ('It', 'is', 'the'): 1,\n",
       "          ('is', 'the', 'guiding'): 1,\n",
       "          ('the', 'guiding', 'principle'): 1,\n",
       "          ('guiding', 'principle', 'which'): 1,\n",
       "          ('principle', 'which', 'guarantees'): 1,\n",
       "          ('which', 'guarantees', 'the'): 1,\n",
       "          ('guarantees', 'the', 'military'): 1,\n",
       "          ('the', 'military', 'forces'): 1,\n",
       "          ('military', 'forces', 'always'): 1,\n",
       "          ('forces', 'always', 'being'): 1,\n",
       "          ('always', 'being', 'under'): 1,\n",
       "          ('being', 'under', 'the'): 1,\n",
       "          ('under', 'the', 'command'): 1,\n",
       "          ('the', 'command', 'of'): 1,\n",
       "          ('command', 'of', 'the'): 1,\n",
       "          ('of', 'the', 'Party'): 1,\n",
       "          ('the', 'Party', '.'): 1,\n",
       "          ('It', 'is', 'the', 'guiding'): 1,\n",
       "          ('is', 'the', 'guiding', 'principle'): 1,\n",
       "          ('the', 'guiding', 'principle', 'which'): 1,\n",
       "          ('guiding', 'principle', 'which', 'guarantees'): 1,\n",
       "          ('principle', 'which', 'guarantees', 'the'): 1,\n",
       "          ('which', 'guarantees', 'the', 'military'): 1,\n",
       "          ('guarantees', 'the', 'military', 'forces'): 1,\n",
       "          ('the', 'military', 'forces', 'always'): 1,\n",
       "          ('military', 'forces', 'always', 'being'): 1,\n",
       "          ('forces', 'always', 'being', 'under'): 1,\n",
       "          ('always', 'being', 'under', 'the'): 1,\n",
       "          ('being', 'under', 'the', 'command'): 1,\n",
       "          ('under', 'the', 'command', 'of'): 1,\n",
       "          ('the', 'command', 'of', 'the'): 1,\n",
       "          ('command', 'of', 'the', 'Party'): 1,\n",
       "          ('of', 'the', 'Party', '.'): 1}),\n",
       " Counter({('the',): 3,\n",
       "          ('It',): 1,\n",
       "          ('is',): 1,\n",
       "          ('a',): 1,\n",
       "          ('guide',): 1,\n",
       "          ('to',): 1,\n",
       "          ('action',): 1,\n",
       "          ('which',): 1,\n",
       "          ('ensures',): 1,\n",
       "          ('that',): 1,\n",
       "          ('military',): 1,\n",
       "          ('always',): 1,\n",
       "          ('obeys',): 1,\n",
       "          ('commands',): 1,\n",
       "          ('of',): 1,\n",
       "          ('party',): 1,\n",
       "          ('.',): 1,\n",
       "          ('It', 'is'): 1,\n",
       "          ('is', 'a'): 1,\n",
       "          ('a', 'guide'): 1,\n",
       "          ('guide', 'to'): 1,\n",
       "          ('to', 'action'): 1,\n",
       "          ('action', 'which'): 1,\n",
       "          ('which', 'ensures'): 1,\n",
       "          ('ensures', 'that'): 1,\n",
       "          ('that', 'the'): 1,\n",
       "          ('the', 'military'): 1,\n",
       "          ('military', 'always'): 1,\n",
       "          ('always', 'obeys'): 1,\n",
       "          ('obeys', 'the'): 1,\n",
       "          ('the', 'commands'): 1,\n",
       "          ('commands', 'of'): 1,\n",
       "          ('of', 'the'): 1,\n",
       "          ('the', 'party'): 1,\n",
       "          ('party', '.'): 1,\n",
       "          ('It', 'is', 'a'): 1,\n",
       "          ('is', 'a', 'guide'): 1,\n",
       "          ('a', 'guide', 'to'): 1,\n",
       "          ('guide', 'to', 'action'): 1,\n",
       "          ('to', 'action', 'which'): 1,\n",
       "          ('action', 'which', 'ensures'): 1,\n",
       "          ('which', 'ensures', 'that'): 1,\n",
       "          ('ensures', 'that', 'the'): 1,\n",
       "          ('that', 'the', 'military'): 1,\n",
       "          ('the', 'military', 'always'): 1,\n",
       "          ('military', 'always', 'obeys'): 1,\n",
       "          ('always', 'obeys', 'the'): 1,\n",
       "          ('obeys', 'the', 'commands'): 1,\n",
       "          ('the', 'commands', 'of'): 1,\n",
       "          ('commands', 'of', 'the'): 1,\n",
       "          ('of', 'the', 'party'): 1,\n",
       "          ('the', 'party', '.'): 1,\n",
       "          ('It', 'is', 'a', 'guide'): 1,\n",
       "          ('is', 'a', 'guide', 'to'): 1,\n",
       "          ('a', 'guide', 'to', 'action'): 1,\n",
       "          ('guide', 'to', 'action', 'which'): 1,\n",
       "          ('to', 'action', 'which', 'ensures'): 1,\n",
       "          ('action', 'which', 'ensures', 'that'): 1,\n",
       "          ('which', 'ensures', 'that', 'the'): 1,\n",
       "          ('ensures', 'that', 'the', 'military'): 1,\n",
       "          ('that', 'the', 'military', 'always'): 1,\n",
       "          ('the', 'military', 'always', 'obeys'): 1,\n",
       "          ('military', 'always', 'obeys', 'the'): 1,\n",
       "          ('always', 'obeys', 'the', 'commands'): 1,\n",
       "          ('obeys', 'the', 'commands', 'of'): 1,\n",
       "          ('the', 'commands', 'of', 'the'): 1,\n",
       "          ('commands', 'of', 'the', 'party'): 1,\n",
       "          ('of', 'the', 'party', '.'): 1}))"
      ]
     },
     "execution_count": 19,
     "metadata": {},
     "output_type": "execute_result"
    }
   ],
   "source": [
    "ref_cnt_sacre, hyp_cnt_sacre"
   ]
  },
  {
   "cell_type": "code",
   "execution_count": 21,
   "id": "38ca2fa5",
   "metadata": {},
   "outputs": [],
   "source": [
    "hyp_cnt_debug = Counter({('the',): 3, ('it',): 1, ('is',): 1, ('a',): 1, ('guide',): 1, ('to',): 1, ('action',): 1, ('which',): 1, ('ensures',): 1, ('that',): 1, ('military',): 1, ('always',): 1, ('obeys',): 1, ('commands',): 1, ('of',): 1, ('party',): 1, ('.',): 1})\n",
    "refs_cnt_debug = [Counter({('that',): 2, ('it',): 1, ('is',): 1, ('a',): 1, ('guide',): 1, ('to',): 1, ('action',): 1, ('ensures',): 1, ('the',): 1, ('military',): 1, ('will',): 1, ('forever',): 1, ('heed',): 1, ('party',): 1, ('commands',): 1, ('.',): 1}), Counter({('the',): 4, ('it',): 1, ('is',): 1, ('guiding',): 1, ('principle',): 1, ('which',): 1, ('guarantees',): 1, ('military',): 1, ('forces',): 1, ('always',): 1, ('being',): 1, ('under',): 1, ('command',): 1, ('of',): 1, ('party',): 1, ('.',): 1})]"
   ]
  },
  {
   "cell_type": "code",
   "execution_count": 24,
   "id": "4471a339",
   "metadata": {},
   "outputs": [
    {
     "data": {
      "text/plain": [
       "([(('the',), 3),\n",
       "  (('It',), 1),\n",
       "  (('is',), 1),\n",
       "  (('a',), 1),\n",
       "  (('guide',), 1),\n",
       "  (('to',), 1),\n",
       "  (('action',), 1),\n",
       "  (('which',), 1),\n",
       "  (('ensures',), 1),\n",
       "  (('that',), 1),\n",
       "  (('military',), 1),\n",
       "  (('always',), 1),\n",
       "  (('obeys',), 1),\n",
       "  (('commands',), 1),\n",
       "  (('of',), 1),\n",
       "  (('party',), 1),\n",
       "  (('.',), 1)],\n",
       " Counter({('the',): 3,\n",
       "          ('it',): 1,\n",
       "          ('is',): 1,\n",
       "          ('a',): 1,\n",
       "          ('guide',): 1,\n",
       "          ('to',): 1,\n",
       "          ('action',): 1,\n",
       "          ('which',): 1,\n",
       "          ('ensures',): 1,\n",
       "          ('that',): 1,\n",
       "          ('military',): 1,\n",
       "          ('always',): 1,\n",
       "          ('obeys',): 1,\n",
       "          ('commands',): 1,\n",
       "          ('of',): 1,\n",
       "          ('party',): 1,\n",
       "          ('.',): 1}))"
      ]
     },
     "execution_count": 24,
     "metadata": {},
     "output_type": "execute_result"
    }
   ],
   "source": [
    "[(k, v) for k, v in hyp_cnt_sacre.items() if len(k) ==1] , hyp_cnt_debug"
   ]
  },
  {
   "cell_type": "code",
   "execution_count": 25,
   "id": "0841ba93",
   "metadata": {},
   "outputs": [],
   "source": [
    "ref_cnt_debug = refs_cnt_debug[0] + refs_cnt_debug[1]"
   ]
  },
  {
   "cell_type": "code",
   "execution_count": 37,
   "id": "441fe302",
   "metadata": {},
   "outputs": [
    {
     "name": "stdout",
     "output_type": "stream",
     "text": [
      "('the',) 4 5 -1 | 3 3  |  3 3 0\n",
      "('It',) 1 0 1 | 1 0  |  1 0 1\n",
      "('is',) 1 2 -1 | 1 1  |  1 1 0\n",
      "('a',) 1 1 0 | 1 1  |  1 1 0\n",
      "('guide',) 1 1 0 | 1 1  |  1 1 0\n",
      "('to',) 1 1 0 | 1 1  |  1 1 0\n",
      "('action',) 1 1 0 | 1 1  |  1 1 0\n",
      "('which',) 1 1 0 | 1 1  |  1 1 0\n",
      "('ensures',) 1 1 0 | 1 1  |  1 1 0\n",
      "('that',) 2 2 0 | 1 1  |  1 1 0\n",
      "('military',) 1 2 -1 | 1 1  |  1 1 0\n",
      "('always',) 1 1 0 | 1 1  |  1 1 0\n",
      "('obeys',) 0 0 0 | 1 1  |  0 0 0\n",
      "('commands',) 1 1 0 | 1 1  |  1 1 0\n",
      "('of',) 1 1 0 | 1 1  |  1 1 0\n",
      "('party',) 0 2 -2 | 1 1  |  0 1 -1\n",
      "('.',) 1 2 -1 | 1 1  |  1 1 0\n",
      "('It', 'is') 0 0 0 | 1 0  |  0 0 0\n",
      "('is', 'a') 0 0 0 | 1 0  |  0 0 0\n",
      "('a', 'guide') 0 0 0 | 1 0  |  0 0 0\n",
      "('guide', 'to') 0 0 0 | 1 0  |  0 0 0\n",
      "('to', 'action') 0 0 0 | 1 0  |  0 0 0\n",
      "('action', 'which') 0 0 0 | 1 0  |  0 0 0\n",
      "('which', 'ensures') 0 0 0 | 1 0  |  0 0 0\n",
      "('ensures', 'that') 0 0 0 | 1 0  |  0 0 0\n",
      "('that', 'the') 0 0 0 | 1 0  |  0 0 0\n",
      "('the', 'military') 0 0 0 | 1 0  |  0 0 0\n",
      "('military', 'always') 0 0 0 | 1 0  |  0 0 0\n",
      "('always', 'obeys') 0 0 0 | 1 0  |  0 0 0\n",
      "('obeys', 'the') 0 0 0 | 1 0  |  0 0 0\n",
      "('the', 'commands') 0 0 0 | 1 0  |  0 0 0\n",
      "('commands', 'of') 0 0 0 | 1 0  |  0 0 0\n",
      "('of', 'the') 0 0 0 | 1 0  |  0 0 0\n",
      "('the', 'party') 0 0 0 | 1 0  |  0 0 0\n",
      "('party', '.') 0 0 0 | 1 0  |  0 0 0\n",
      "('It', 'is', 'a') 0 0 0 | 1 0  |  0 0 0\n",
      "('is', 'a', 'guide') 0 0 0 | 1 0  |  0 0 0\n",
      "('a', 'guide', 'to') 0 0 0 | 1 0  |  0 0 0\n",
      "('guide', 'to', 'action') 0 0 0 | 1 0  |  0 0 0\n",
      "('to', 'action', 'which') 0 0 0 | 1 0  |  0 0 0\n",
      "('action', 'which', 'ensures') 0 0 0 | 1 0  |  0 0 0\n",
      "('which', 'ensures', 'that') 0 0 0 | 1 0  |  0 0 0\n",
      "('ensures', 'that', 'the') 0 0 0 | 1 0  |  0 0 0\n",
      "('that', 'the', 'military') 0 0 0 | 1 0  |  0 0 0\n",
      "('the', 'military', 'always') 0 0 0 | 1 0  |  0 0 0\n",
      "('military', 'always', 'obeys') 0 0 0 | 1 0  |  0 0 0\n",
      "('always', 'obeys', 'the') 0 0 0 | 1 0  |  0 0 0\n",
      "('obeys', 'the', 'commands') 0 0 0 | 1 0  |  0 0 0\n",
      "('the', 'commands', 'of') 0 0 0 | 1 0  |  0 0 0\n",
      "('commands', 'of', 'the') 0 0 0 | 1 0  |  0 0 0\n",
      "('of', 'the', 'party') 0 0 0 | 1 0  |  0 0 0\n",
      "('the', 'party', '.') 0 0 0 | 1 0  |  0 0 0\n",
      "('It', 'is', 'a', 'guide') 0 0 0 | 1 0  |  0 0 0\n",
      "('is', 'a', 'guide', 'to') 0 0 0 | 1 0  |  0 0 0\n",
      "('a', 'guide', 'to', 'action') 0 0 0 | 1 0  |  0 0 0\n",
      "('guide', 'to', 'action', 'which') 0 0 0 | 1 0  |  0 0 0\n",
      "('to', 'action', 'which', 'ensures') 0 0 0 | 1 0  |  0 0 0\n",
      "('action', 'which', 'ensures', 'that') 0 0 0 | 1 0  |  0 0 0\n",
      "('which', 'ensures', 'that', 'the') 0 0 0 | 1 0  |  0 0 0\n",
      "('ensures', 'that', 'the', 'military') 0 0 0 | 1 0  |  0 0 0\n",
      "('that', 'the', 'military', 'always') 0 0 0 | 1 0  |  0 0 0\n",
      "('the', 'military', 'always', 'obeys') 0 0 0 | 1 0  |  0 0 0\n",
      "('military', 'always', 'obeys', 'the') 0 0 0 | 1 0  |  0 0 0\n",
      "('always', 'obeys', 'the', 'commands') 0 0 0 | 1 0  |  0 0 0\n",
      "('obeys', 'the', 'commands', 'of') 0 0 0 | 1 0  |  0 0 0\n",
      "('the', 'commands', 'of', 'the') 0 0 0 | 1 0  |  0 0 0\n",
      "('commands', 'of', 'the', 'party') 0 0 0 | 1 0  |  0 0 0\n",
      "('of', 'the', 'party', '.') 0 0 0 | 1 0  |  0 0 0\n"
     ]
    }
   ],
   "source": [
    "ref_cnt_sacre_uni = dict([(k, v) for k, v in ref_cnt_sacre.items() if len(k) ==1])\n",
    "\n",
    "for k in hyp_cnt_sacre:\n",
    "    v1 = ref_cnt_sacre_uni.get(k,0); v2 = ref_cnt_debug.get(k, 0)\n",
    "    c_sacre = min(v1, hyp_cnt_sacre.get(k, 0))\n",
    "    c_debug = min(v2, hyp_cnt_debug.get(k, 0))\n",
    "    print(k, v1, v2, v1-v2, \"|\", hyp_cnt_sacre.get(k, 0), hyp_cnt_debug.get(k,0), \" | \",\n",
    "         c_sacre, c_debug, c_sacre-c_debug )\n"
   ]
  },
  {
   "cell_type": "markdown",
   "id": "a4cf3441",
   "metadata": {},
   "source": [
    "## Smoothing"
   ]
  },
  {
   "cell_type": "code",
   "execution_count": 55,
   "id": "a4a388ad",
   "metadata": {},
   "outputs": [],
   "source": [
    "import sacrebleu\n",
    "\n",
    "class BLEUV2:\n",
    "    default_tokenizer = sacrebleu.tokenizers.tokenizer_13a.Tokenizer13a()\n",
    "    \n",
    "    @classmethod\n",
    "    def tokenize(cls, line):\n",
    "        return cls.default_tokenizer(line)\n",
    "    \n",
    "    @classmethod\n",
    "    def count_ngrams(cls, text, ngrams):\n",
    "        text = cls.tokenize(text)\n",
    "        words = text.lower().split()\n",
    "        ngram_segments = [tuple(words[i:i+ngrams]) for i in range(len(words)-ngrams+1)]\n",
    "\n",
    "        return Counter(ngram_segments)\n",
    "        \n",
    "    @classmethod\n",
    "    def match_ngram(cls, hyp_text, refs_text, ngrams=1):\n",
    "        \"\"\"can_sen: candidate text/sentence\n",
    "        ref_text: reference text/sentence, or ground truth\n",
    "        \"\"\"\n",
    "        \n",
    "        hyp_cnt = cls.count_ngrams(hyp_text, ngrams=ngrams)\n",
    "        #print(hyp_cnt)\n",
    "        refs_cnt = [cls.count_ngrams(ref_text, ngrams=ngrams) for ref_text in refs_text]\n",
    "        #print(refs_cnt)\n",
    "        \n",
    "        hyp_len = sum(hyp_cnt.values())\n",
    "        \n",
    "        n_shares = 0\n",
    "        for k in hyp_cnt:\n",
    "            n_hits = max(ref_cnt.get(k, 0) for ref_cnt in refs_cnt)\n",
    "            cur_shares = min(hyp_cnt[k], n_hits)\n",
    "            n_shares += cur_shares\n",
    "            #print(k, hyp_cnt[k], n_hits, cur_shares)\n",
    "        \n",
    "        print(n_shares, hyp_len, n_shares/hyp_len)\n",
    "        return n_shares, hyp_len, n_shares/hyp_len\n",
    "    \n",
    "    @classmethod\n",
    "    def BP(cls, can_len, refs_len):\n",
    "        \"\"\"calculate brevity penalty\n",
    "        \"\"\"\n",
    "        refs_len = list(set(refs_len))  #de-duplicate\n",
    "        sorted_refs_len = sorted(refs_len, key=lambda x: (abs(can_len-x), x))\n",
    "        r = sorted_refs_len[0]\n",
    "        # print(sorted_refs_len, r)\n",
    "        \n",
    "        c = can_len\n",
    "        bp = 1 if c >= r else math.exp(1-r/c)\n",
    "        \n",
    "        return bp\n",
    "    \n",
    "    @classmethod\n",
    "    def sentence_score(cls, can_text, refs_text, max_ngram_order=4):\n",
    "        ps = [cls.match_ngram(can_text, refs_text, ngrams=i)[2] for i in range(1, max_ngram_order+1)]\n",
    "        print(\"ps: \", ps)\n",
    "        can_len = sum(cls.count_ngrams(can_text, ngrams=1).values())\n",
    "        refs_len = [sum(cls.count_ngrams(ref_text, ngrams=1).values()) for ref_text in refs_text]\n",
    "        bp = cls.BP(can_len, refs_len)\n",
    "        print(\"bp: \", bp)\n",
    "        \n",
    "        wsum_log_ps = sum([math.log(p)*1/max_ngram_order if p > 0 else 0 for p in ps])\n",
    "        print(\"wsum_log_ps: \", wsum_log_ps)\n",
    "        bleu = bp*math.exp(wsum_log_ps)*100\n",
    "\n",
    "        return bleu"
   ]
  },
  {
   "cell_type": "code",
   "execution_count": 56,
   "id": "57181376",
   "metadata": {},
   "outputs": [
    {
     "name": "stdout",
     "output_type": "stream",
     "text": [
      "3 8 0.375\n",
      "0 7 0.0\n",
      "0 6 0.0\n",
      "0 5 0.0\n",
      "ps:  [0.375, 0.0, 0.0, 0.0]\n",
      "bp:  1\n",
      "wsum_log_ps:  -0.24520731325293155\n",
      "78.25422900366436\n"
     ]
    }
   ],
   "source": [
    "for can in example_2['Candidate']:\n",
    "    print(BLEUV2.sentence_score(can, example_2['Reference']))"
   ]
  },
  {
   "cell_type": "code",
   "execution_count": 57,
   "id": "a46a9aca",
   "metadata": {},
   "outputs": [
    {
     "name": "stdout",
     "output_type": "stream",
     "text": [
      "ref_lens, ref_ngrams: \n",
      " [7, 8] \n",
      " Counter({('the',): 2, ('cat',): 1, ('is',): 1, ('on',): 1, ('mat',): 1, ('.',): 1, ('the', 'cat'): 1, ('cat', 'is'): 1, ('is', 'on'): 1, ('on', 'the'): 1, ('the', 'mat'): 1, ('mat', '.'): 1, ('the', 'cat', 'is'): 1, ('cat', 'is', 'on'): 1, ('is', 'on', 'the'): 1, ('on', 'the', 'mat'): 1, ('the', 'mat', '.'): 1, ('the', 'cat', 'is', 'on'): 1, ('cat', 'is', 'on', 'the'): 1, ('is', 'on', 'the', 'mat'): 1, ('on', 'the', 'mat', '.'): 1, ('there',): 1, ('a',): 1, ('there', 'is'): 1, ('is', 'a'): 1, ('a', 'cat'): 1, ('cat', 'on'): 1, ('there', 'is', 'a'): 1, ('is', 'a', 'cat'): 1, ('a', 'cat', 'on'): 1, ('cat', 'on', 'the'): 1, ('there', 'is', 'a', 'cat'): 1, ('is', 'a', 'cat', 'on'): 1, ('a', 'cat', 'on', 'the'): 1, ('cat', 'on', 'the', 'mat'): 1})\n",
      "hyp_len, hyp_ngrams: \n",
      " 8 \n",
      " Counter({('the',): 7, ('the', 'the'): 6, ('the', 'the', 'the'): 5, ('the', 'the', 'the', 'the'): 4, ('.',): 1, ('the', '.'): 1, ('the', 'the', '.'): 1, ('the', 'the', 'the', '.'): 1})\n",
      "[Debug] correct, total:  [3, 0, 0, 0] [8, 7, 6, 5]\n"
     ]
    },
    {
     "data": {
      "text/plain": [
       "BLEU = 7.27 37.5/7.1/4.2/2.5 (BP = 1.000 ratio = 1.000 hyp_len = 8 ref_len = 8)"
      ]
     },
     "execution_count": 57,
     "metadata": {},
     "output_type": "execute_result"
    }
   ],
   "source": [
    "bleu.sentence_score(example_2['Candidate'][0].lower(), [x.lower() for x in example_2['Reference']])"
   ]
  },
  {
   "cell_type": "code",
   "execution_count": 58,
   "id": "be6975a7",
   "metadata": {},
   "outputs": [
    {
     "data": {
      "text/plain": [
       "'exp'"
      ]
     },
     "execution_count": 58,
     "metadata": {},
     "output_type": "execute_result"
    }
   ],
   "source": [
    "bleu.smooth_method"
   ]
  },
  {
   "cell_type": "code",
   "execution_count": 61,
   "id": "0afa4c4c",
   "metadata": {},
   "outputs": [],
   "source": [
    "bleu.smooth_value"
   ]
  },
  {
   "cell_type": "code",
   "execution_count": 65,
   "id": "b3c76119",
   "metadata": {},
   "outputs": [
    {
     "data": {
      "text/plain": [
       "0.025"
      ]
     },
     "execution_count": 65,
     "metadata": {},
     "output_type": "execute_result"
    }
   ],
   "source": [
    "1/40"
   ]
  },
  {
   "cell_type": "code",
   "execution_count": 69,
   "id": "57995c5a",
   "metadata": {},
   "outputs": [
    {
     "data": {
      "text/plain": [
       "[('a,', 'b', 'c'), (1, 2, 3)]"
      ]
     },
     "execution_count": 69,
     "metadata": {},
     "output_type": "execute_result"
    }
   ],
   "source": [
    "list(zip(*[['a,', 1], ['b', 2], ['c', 3]]))"
   ]
  },
  {
   "cell_type": "code",
   "execution_count": 70,
   "id": "a175cbb3",
   "metadata": {},
   "outputs": [],
   "source": [
    "from collections import Counter"
   ]
  },
  {
   "cell_type": "code",
   "execution_count": 71,
   "id": "c251e313",
   "metadata": {},
   "outputs": [],
   "source": [
    "c = Counter()"
   ]
  },
  {
   "cell_type": "code",
   "execution_count": 72,
   "id": "12690310",
   "metadata": {},
   "outputs": [],
   "source": [
    "c.update(['a', 'b'])"
   ]
  },
  {
   "cell_type": "code",
   "execution_count": 73,
   "id": "437b126c",
   "metadata": {},
   "outputs": [
    {
     "data": {
      "text/plain": [
       "Counter({'a': 1, 'b': 1})"
      ]
     },
     "execution_count": 73,
     "metadata": {},
     "output_type": "execute_result"
    }
   ],
   "source": [
    "c"
   ]
  },
  {
   "cell_type": "code",
   "execution_count": 74,
   "id": "7df7a824",
   "metadata": {},
   "outputs": [],
   "source": [
    "c.update(['a', 'b'])"
   ]
  },
  {
   "cell_type": "code",
   "execution_count": 75,
   "id": "d51ca173",
   "metadata": {},
   "outputs": [
    {
     "data": {
      "text/plain": [
       "Counter({'a': 2, 'b': 2})"
      ]
     },
     "execution_count": 75,
     "metadata": {},
     "output_type": "execute_result"
    }
   ],
   "source": [
    "c"
   ]
  },
  {
   "cell_type": "code",
   "execution_count": 76,
   "id": "5f88f2d1",
   "metadata": {},
   "outputs": [],
   "source": [
    "c['a']= 3"
   ]
  },
  {
   "cell_type": "code",
   "execution_count": 77,
   "id": "6cb0ac40",
   "metadata": {},
   "outputs": [
    {
     "data": {
      "text/plain": [
       "Counter({'a': 3, 'b': 2})"
      ]
     },
     "execution_count": 77,
     "metadata": {},
     "output_type": "execute_result"
    }
   ],
   "source": [
    "c"
   ]
  },
  {
   "cell_type": "code",
   "execution_count": 78,
   "id": "e464ceed",
   "metadata": {},
   "outputs": [
    {
     "data": {
      "text/plain": [
       "0"
      ]
     },
     "execution_count": 78,
     "metadata": {},
     "output_type": "execute_result"
    }
   ],
   "source": [
    "c['f']"
   ]
  },
  {
   "cell_type": "code",
   "execution_count": null,
   "id": "cf4c5535",
   "metadata": {},
   "outputs": [],
   "source": [
    "### Test for transfomerLM blue"
   ]
  }
 ],
 "metadata": {
  "kernelspec": {
   "display_name": "Python 3",
   "language": "python",
   "name": "python3"
  },
  "language_info": {
   "codemirror_mode": {
    "name": "ipython",
    "version": 3
   },
   "file_extension": ".py",
   "mimetype": "text/x-python",
   "name": "python",
   "nbconvert_exporter": "python",
   "pygments_lexer": "ipython3",
   "version": "3.9.15"
  }
 },
 "nbformat": 4,
 "nbformat_minor": 5
}
