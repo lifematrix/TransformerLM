{
 "cells": [
  {
   "cell_type": "code",
   "execution_count": 2,
   "id": "68ce3b51",
   "metadata": {},
   "outputs": [
    {
     "name": "stdout",
     "output_type": "stream",
     "text": [
      "t-statistic: -1.25717453238524\n",
      "Degrees of freedom: 36.25312145289444\n",
      "p-value: 0.21672960209199663\n"
     ]
    }
   ],
   "source": [
    "from scipy.stats import t\n",
    "import math\n",
    "\n",
    "# Sample data\n",
    "mean_a = 0.081 # mean of sample a\n",
    "mean_b = 0.090 # mean of sample b\n",
    "var_a = 0.025**2 # variance of sample a\n",
    "var_b = 0.020**2 # variance of sample b\n",
    "n_a = 20  # size of sample a\n",
    "n_b = 20  # size of sample b\n",
    "\n",
    "# Calculate t-statistic\n",
    "t_stat = (mean_a - mean_b) / math.sqrt(var_a/n_a + var_b/n_b)\n",
    "\n",
    "# Calculate degrees of freedom\n",
    "df = (var_a/n_a + var_b/n_b)**2 / ((var_a/n_a)**2/(n_a-1) + (var_b/n_b)**2/(n_b-1))\n",
    "\n",
    "# Calculate two-tailed p-value\n",
    "p_value = 2 * t.cdf(-abs(t_stat), df)\n",
    "\n",
    "print(\"t-statistic:\", t_stat)\n",
    "print(\"Degrees of freedom:\", df)\n",
    "print(\"p-value:\", p_value)"
   ]
  },
  {
   "cell_type": "code",
   "execution_count": 3,
   "id": "d4af5cde",
   "metadata": {},
   "outputs": [
    {
     "name": "stdout",
     "output_type": "stream",
     "text": [
      "T-statistic: 0.5631544666616728\n",
      "P-value: 0.5766782043055354\n"
     ]
    }
   ],
   "source": [
    "from scipy import stats\n",
    "import numpy as np\n",
    "\n",
    "# Sample sizes\n",
    "n_a = 20\n",
    "n_b = 20\n",
    "\n",
    "# Means and standard deviations\n",
    "mean_a = 0.081 # your value for mean_a\n",
    "mean_b = 0.090 # your value for mean_b\n",
    "stddev_a = 0.025 # your value for stddev_a\n",
    "stddev_b = 0.020 # your value for stddev_b\n",
    "\n",
    "# Generate sample data assuming normal distribution\n",
    "np.random.seed(0)  # For reproducible results\n",
    "data_a = np.random.normal(mean_a, stddev_a, n_a)\n",
    "data_b = np.random.normal(mean_b, stddev_b, n_b)\n",
    "\n",
    "# Perform the t-test\n",
    "t_stat, p_value = stats.ttest_ind(data_a, data_b, equal_var=False)\n",
    "\n",
    "print(f'T-statistic: {t_stat}')\n",
    "print(f'P-value: {p_value}')"
   ]
  },
  {
   "cell_type": "code",
   "execution_count": 4,
   "id": "c91bd0fd",
   "metadata": {},
   "outputs": [
    {
     "ename": "TypeError",
     "evalue": "tstd() got an unexpected keyword argument 'n_a'",
     "output_type": "error",
     "traceback": [
      "\u001b[0;31m---------------------------------------------------------------------------\u001b[0m",
      "\u001b[0;31mTypeError\u001b[0m                                 Traceback (most recent call last)",
      "Cell \u001b[0;32mIn[4], line 12\u001b[0m\n\u001b[1;32m      9\u001b[0m n \u001b[38;5;241m=\u001b[39m \u001b[38;5;241m20\u001b[39m  \u001b[38;5;66;03m# Sample size for both sets\u001b[39;00m\n\u001b[1;32m     11\u001b[0m \u001b[38;5;66;03m# Calculate pooled standard deviation\u001b[39;00m\n\u001b[0;32m---> 12\u001b[0m pooled_sd \u001b[38;5;241m=\u001b[39m \u001b[43mstats\u001b[49m\u001b[38;5;241;43m.\u001b[39;49m\u001b[43mtstd\u001b[49m\u001b[43m(\u001b[49m\u001b[43mstddev_a\u001b[49m\u001b[43m,\u001b[49m\u001b[43m \u001b[49m\u001b[43mstddev_b\u001b[49m\u001b[43m,\u001b[49m\u001b[43m \u001b[49m\u001b[43mn_a\u001b[49m\u001b[38;5;241;43m=\u001b[39;49m\u001b[43mn\u001b[49m\u001b[43m,\u001b[49m\u001b[43m \u001b[49m\u001b[43mn_b\u001b[49m\u001b[38;5;241;43m=\u001b[39;49m\u001b[43mn\u001b[49m\u001b[43m)\u001b[49m\n\u001b[1;32m     14\u001b[0m \u001b[38;5;66;03m# Calculate t-statistic\u001b[39;00m\n\u001b[1;32m     15\u001b[0m t_statistic \u001b[38;5;241m=\u001b[39m (mean_a \u001b[38;5;241m-\u001b[39m mean_b) \u001b[38;5;241m/\u001b[39m pooled_sd\n",
      "\u001b[0;31mTypeError\u001b[0m: tstd() got an unexpected keyword argument 'n_a'"
     ]
    }
   ],
   "source": [
    "import scipy.stats as stats\n",
    "\n",
    "# Define variables (replace with your actual values)\n",
    "# Means and standard deviations\n",
    "mean_a = 0.081 # your value for mean_a\n",
    "mean_b = 0.090 # your value for mean_b\n",
    "stddev_a = 0.025 # your value for stddev_a\n",
    "stddev_b = 0.020 # your value for stddev_b\n",
    "n = 20  # Sample size for both sets\n",
    "\n",
    "# Calculate pooled standard deviation\n",
    "pooled_sd = stats.tstd(stddev_a, stddev_b, n_a=n, n_b=n)\n",
    "\n",
    "# Calculate t-statistic\n",
    "t_statistic = (mean_a - mean_b) / pooled_sd\n",
    "\n",
    "# Calculate degrees of freedom\n",
    "df = n * n / (n + n - 2)\n",
    "\n",
    "# Calculate p-value (replace ellipses with actual data)\n",
    "p_value = stats.ttest_ind(a=..., b=..., equal_var=False, t=t_statistic, df=df)\n",
    "\n",
    "# Print results\n",
    "print(\"t-statistic:\", t_statistic)\n",
    "print(\"p-value:\", p_value)\n"
   ]
  },
  {
   "cell_type": "code",
   "execution_count": 5,
   "id": "59ed177f",
   "metadata": {},
   "outputs": [],
   "source": [
    "?stats.tstd"
   ]
  },
  {
   "cell_type": "code",
   "execution_count": null,
   "id": "4edcbb1d",
   "metadata": {},
   "outputs": [],
   "source": []
  }
 ],
 "metadata": {
  "kernelspec": {
   "display_name": "Python 3",
   "language": "python",
   "name": "python3"
  },
  "language_info": {
   "codemirror_mode": {
    "name": "ipython",
    "version": 3
   },
   "file_extension": ".py",
   "mimetype": "text/x-python",
   "name": "python",
   "nbconvert_exporter": "python",
   "pygments_lexer": "ipython3",
   "version": "3.9.15"
  }
 },
 "nbformat": 4,
 "nbformat_minor": 5
}
