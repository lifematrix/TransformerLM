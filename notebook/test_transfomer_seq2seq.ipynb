{
 "cells": [
  {
   "cell_type": "code",
   "execution_count": 1,
   "id": "554ea4d5",
   "metadata": {
    "scrolled": true
   },
   "outputs": [
    {
     "name": "stdout",
     "output_type": "stream",
     "text": [
      "/home/steven/proj/lifematrix/TransformerLM\n"
     ]
    }
   ],
   "source": [
    "%cd .."
   ]
  },
  {
   "cell_type": "code",
   "execution_count": 2,
   "id": "f7ec200f",
   "metadata": {
    "scrolled": true
   },
   "outputs": [],
   "source": [
    "import sys\n",
    "sys.path.insert(0, \"src/python\")"
   ]
  },
  {
   "cell_type": "code",
   "execution_count": 3,
   "id": "7ca29419",
   "metadata": {
    "scrolled": true
   },
   "outputs": [],
   "source": [
    "from dotteddict import dotteddict\n",
    "from transformerlm.train_multi30k_de2en import Trainer\n",
    "import yaml"
   ]
  },
  {
   "cell_type": "code",
   "execution_count": 4,
   "id": "5c448ed3",
   "metadata": {
    "scrolled": true
   },
   "outputs": [],
   "source": [
    "\n",
    "config_yaml = \"\"\"\n",
    "    batch_size: 128 \n",
    "    device: \"cuda:0\"\n",
    "    n_encoder_layers: 3\n",
    "    n_decoder_layers: 3  \n",
    "    dropout: 0.1\n",
    "    n_epochs: 100\n",
    "    torch_seed: 12345\n",
    "    d_model: 512\n",
    "    d_ff: 2048\n",
    "\"\"\"\n",
    "\n",
    "cfg = dotteddict(yaml.load(config_yaml, yaml.SafeLoader))"
   ]
  },
  {
   "cell_type": "code",
   "execution_count": 5,
   "id": "1d295b52",
   "metadata": {},
   "outputs": [
    {
     "name": "stdout",
     "output_type": "stream",
     "text": [
      "Set torch manual seed 12345\n",
      "OrderedDict([('train', ['https://raw.githubusercontent.com/multi30k/dataset/master/data/task1/raw/train.de.gz', 'https://raw.githubusercontent.com/multi30k/dataset/master/data/task1/raw/train.en.gz']), ('val', ['https://raw.githubusercontent.com/multi30k/dataset/master/data/task1/raw/val.de.gz', 'https://raw.githubusercontent.com/multi30k/dataset/master/data/task1/raw/val.en.gz']), ('test', ['https://raw.githubusercontent.com/multi30k/dataset/master/data/task1/raw/test_2016_flickr.de.gz', 'https://raw.githubusercontent.com/multi30k/dataset/master/data/task1/raw/test_2016_flickr.en.gz'])])\n",
      "OrderedDict([('train', ['/home/steven/proj/lifematrix/TransformerLM/.data/train.de', '/home/steven/proj/lifematrix/TransformerLM/.data/train.en']), ('val', ['/home/steven/proj/lifematrix/TransformerLM/.data/val.de', '/home/steven/proj/lifematrix/TransformerLM/.data/val.en']), ('test', ['/home/steven/proj/lifematrix/TransformerLM/.data/test_2016_flickr.de', '/home/steven/proj/lifematrix/TransformerLM/.data/test_2016_flickr.en'])])\n",
      "read OrderedDict([('train', ['/home/steven/proj/lifematrix/TransformerLM/.data/train.de', '/home/steven/proj/lifematrix/TransformerLM/.data/train.en']), ('val', ['/home/steven/proj/lifematrix/TransformerLM/.data/val.de', '/home/steven/proj/lifematrix/TransformerLM/.data/val.en']), ('test', ['/home/steven/proj/lifematrix/TransformerLM/.data/test_2016_flickr.de', '/home/steven/proj/lifematrix/TransformerLM/.data/test_2016_flickr.en'])]) The number of lines: 29000\n",
      "read OrderedDict([('train', ['/home/steven/proj/lifematrix/TransformerLM/.data/train.de', '/home/steven/proj/lifematrix/TransformerLM/.data/train.en']), ('val', ['/home/steven/proj/lifematrix/TransformerLM/.data/val.de', '/home/steven/proj/lifematrix/TransformerLM/.data/val.en']), ('test', ['/home/steven/proj/lifematrix/TransformerLM/.data/test_2016_flickr.de', '/home/steven/proj/lifematrix/TransformerLM/.data/test_2016_flickr.en'])]) The number of lines: 1014\n",
      "read OrderedDict([('train', ['/home/steven/proj/lifematrix/TransformerLM/.data/train.de', '/home/steven/proj/lifematrix/TransformerLM/.data/train.en']), ('val', ['/home/steven/proj/lifematrix/TransformerLM/.data/val.de', '/home/steven/proj/lifematrix/TransformerLM/.data/val.en']), ('test', ['/home/steven/proj/lifematrix/TransformerLM/.data/test_2016_flickr.de', '/home/steven/proj/lifematrix/TransformerLM/.data/test_2016_flickr.en'])]) The number of lines: 1000\n",
      "+----------------------------------------------------------+--------------+------------+\n",
      "|                         Modules                          |     size     | Parameters |\n",
      "+----------------------------------------------------------+--------------+------------+\n",
      "|                src_embedding.0.lut.weight                | [19214, 512] |  9837568   |\n",
      "|          encoder.encoder_layers.0.norm_1.weight          |    [512]     |    512     |\n",
      "|           encoder.encoder_layers.0.norm_1.bias           |    [512]     |    512     |\n",
      "|          encoder.encoder_layers.0.norm_2.weight          |    [512]     |    512     |\n",
      "|           encoder.encoder_layers.0.norm_2.bias           |    [512]     |    512     |\n",
      "| encoder.encoder_layers.0.self_attn.proj_linears.0.weight |  [512, 512]  |   262144   |\n",
      "|  encoder.encoder_layers.0.self_attn.proj_linears.0.bias  |    [512]     |    512     |\n",
      "| encoder.encoder_layers.0.self_attn.proj_linears.1.weight |  [512, 512]  |   262144   |\n",
      "|  encoder.encoder_layers.0.self_attn.proj_linears.1.bias  |    [512]     |    512     |\n",
      "| encoder.encoder_layers.0.self_attn.proj_linears.2.weight |  [512, 512]  |   262144   |\n",
      "|  encoder.encoder_layers.0.self_attn.proj_linears.2.bias  |    [512]     |    512     |\n",
      "| encoder.encoder_layers.0.self_attn.proj_linears.3.weight |  [512, 512]  |   262144   |\n",
      "|  encoder.encoder_layers.0.self_attn.proj_linears.3.bias  |    [512]     |    512     |\n",
      "|         encoder.encoder_layers.0.ff.ff.0.weight          | [2048, 512]  |  1048576   |\n",
      "|          encoder.encoder_layers.0.ff.ff.0.bias           |    [2048]    |    2048    |\n",
      "|         encoder.encoder_layers.0.ff.ff.3.weight          | [512, 2048]  |  1048576   |\n",
      "|          encoder.encoder_layers.0.ff.ff.3.bias           |    [512]     |    512     |\n",
      "|          encoder.encoder_layers.1.norm_1.weight          |    [512]     |    512     |\n",
      "|           encoder.encoder_layers.1.norm_1.bias           |    [512]     |    512     |\n",
      "|          encoder.encoder_layers.1.norm_2.weight          |    [512]     |    512     |\n",
      "|           encoder.encoder_layers.1.norm_2.bias           |    [512]     |    512     |\n",
      "| encoder.encoder_layers.1.self_attn.proj_linears.0.weight |  [512, 512]  |   262144   |\n",
      "|  encoder.encoder_layers.1.self_attn.proj_linears.0.bias  |    [512]     |    512     |\n",
      "| encoder.encoder_layers.1.self_attn.proj_linears.1.weight |  [512, 512]  |   262144   |\n",
      "|  encoder.encoder_layers.1.self_attn.proj_linears.1.bias  |    [512]     |    512     |\n",
      "| encoder.encoder_layers.1.self_attn.proj_linears.2.weight |  [512, 512]  |   262144   |\n",
      "|  encoder.encoder_layers.1.self_attn.proj_linears.2.bias  |    [512]     |    512     |\n",
      "| encoder.encoder_layers.1.self_attn.proj_linears.3.weight |  [512, 512]  |   262144   |\n",
      "|  encoder.encoder_layers.1.self_attn.proj_linears.3.bias  |    [512]     |    512     |\n",
      "|         encoder.encoder_layers.1.ff.ff.0.weight          | [2048, 512]  |  1048576   |\n",
      "|          encoder.encoder_layers.1.ff.ff.0.bias           |    [2048]    |    2048    |\n",
      "|         encoder.encoder_layers.1.ff.ff.3.weight          | [512, 2048]  |  1048576   |\n",
      "|          encoder.encoder_layers.1.ff.ff.3.bias           |    [512]     |    512     |\n",
      "|          encoder.encoder_layers.2.norm_1.weight          |    [512]     |    512     |\n",
      "|           encoder.encoder_layers.2.norm_1.bias           |    [512]     |    512     |\n",
      "|          encoder.encoder_layers.2.norm_2.weight          |    [512]     |    512     |\n",
      "|           encoder.encoder_layers.2.norm_2.bias           |    [512]     |    512     |\n",
      "| encoder.encoder_layers.2.self_attn.proj_linears.0.weight |  [512, 512]  |   262144   |\n",
      "|  encoder.encoder_layers.2.self_attn.proj_linears.0.bias  |    [512]     |    512     |\n",
      "| encoder.encoder_layers.2.self_attn.proj_linears.1.weight |  [512, 512]  |   262144   |\n",
      "|  encoder.encoder_layers.2.self_attn.proj_linears.1.bias  |    [512]     |    512     |\n",
      "| encoder.encoder_layers.2.self_attn.proj_linears.2.weight |  [512, 512]  |   262144   |\n",
      "|  encoder.encoder_layers.2.self_attn.proj_linears.2.bias  |    [512]     |    512     |\n",
      "| encoder.encoder_layers.2.self_attn.proj_linears.3.weight |  [512, 512]  |   262144   |\n",
      "|  encoder.encoder_layers.2.self_attn.proj_linears.3.bias  |    [512]     |    512     |\n",
      "|         encoder.encoder_layers.2.ff.ff.0.weight          | [2048, 512]  |  1048576   |\n",
      "|          encoder.encoder_layers.2.ff.ff.0.bias           |    [2048]    |    2048    |\n",
      "|         encoder.encoder_layers.2.ff.ff.3.weight          | [512, 2048]  |  1048576   |\n",
      "|          encoder.encoder_layers.2.ff.ff.3.bias           |    [512]     |    512     |\n",
      "|                   encoder.norm.weight                    |    [512]     |    512     |\n",
      "|                    encoder.norm.bias                     |    [512]     |    512     |\n",
      "|                tgt_embedding.0.lut.weight                | [10837, 512] |  5548544   |\n",
      "|          decoder.decoder_layers.0.norm_1.weight          |    [512]     |    512     |\n",
      "|           decoder.decoder_layers.0.norm_1.bias           |    [512]     |    512     |\n",
      "|          decoder.decoder_layers.0.norm_2.weight          |    [512]     |    512     |\n",
      "|           decoder.decoder_layers.0.norm_2.bias           |    [512]     |    512     |\n",
      "|          decoder.decoder_layers.0.norm_3.weight          |    [512]     |    512     |\n",
      "|           decoder.decoder_layers.0.norm_3.bias           |    [512]     |    512     |\n",
      "| decoder.decoder_layers.0.self_attn.proj_linears.0.weight |  [512, 512]  |   262144   |\n",
      "|  decoder.decoder_layers.0.self_attn.proj_linears.0.bias  |    [512]     |    512     |\n",
      "| decoder.decoder_layers.0.self_attn.proj_linears.1.weight |  [512, 512]  |   262144   |\n",
      "|  decoder.decoder_layers.0.self_attn.proj_linears.1.bias  |    [512]     |    512     |\n",
      "| decoder.decoder_layers.0.self_attn.proj_linears.2.weight |  [512, 512]  |   262144   |\n",
      "|  decoder.decoder_layers.0.self_attn.proj_linears.2.bias  |    [512]     |    512     |\n",
      "| decoder.decoder_layers.0.self_attn.proj_linears.3.weight |  [512, 512]  |   262144   |\n",
      "|  decoder.decoder_layers.0.self_attn.proj_linears.3.bias  |    [512]     |    512     |\n",
      "| decoder.decoder_layers.0.src_attn.proj_linears.0.weight  |  [512, 512]  |   262144   |\n",
      "|  decoder.decoder_layers.0.src_attn.proj_linears.0.bias   |    [512]     |    512     |\n",
      "| decoder.decoder_layers.0.src_attn.proj_linears.1.weight  |  [512, 512]  |   262144   |\n",
      "|  decoder.decoder_layers.0.src_attn.proj_linears.1.bias   |    [512]     |    512     |\n",
      "| decoder.decoder_layers.0.src_attn.proj_linears.2.weight  |  [512, 512]  |   262144   |\n",
      "|  decoder.decoder_layers.0.src_attn.proj_linears.2.bias   |    [512]     |    512     |\n",
      "| decoder.decoder_layers.0.src_attn.proj_linears.3.weight  |  [512, 512]  |   262144   |\n",
      "|  decoder.decoder_layers.0.src_attn.proj_linears.3.bias   |    [512]     |    512     |\n",
      "|         decoder.decoder_layers.0.ff.ff.0.weight          | [2048, 512]  |  1048576   |\n",
      "|          decoder.decoder_layers.0.ff.ff.0.bias           |    [2048]    |    2048    |\n",
      "|         decoder.decoder_layers.0.ff.ff.3.weight          | [512, 2048]  |  1048576   |\n",
      "|          decoder.decoder_layers.0.ff.ff.3.bias           |    [512]     |    512     |\n",
      "|          decoder.decoder_layers.1.norm_1.weight          |    [512]     |    512     |\n",
      "|           decoder.decoder_layers.1.norm_1.bias           |    [512]     |    512     |\n",
      "|          decoder.decoder_layers.1.norm_2.weight          |    [512]     |    512     |\n",
      "|           decoder.decoder_layers.1.norm_2.bias           |    [512]     |    512     |\n",
      "|          decoder.decoder_layers.1.norm_3.weight          |    [512]     |    512     |\n",
      "|           decoder.decoder_layers.1.norm_3.bias           |    [512]     |    512     |\n",
      "| decoder.decoder_layers.1.self_attn.proj_linears.0.weight |  [512, 512]  |   262144   |\n",
      "|  decoder.decoder_layers.1.self_attn.proj_linears.0.bias  |    [512]     |    512     |\n",
      "| decoder.decoder_layers.1.self_attn.proj_linears.1.weight |  [512, 512]  |   262144   |\n",
      "|  decoder.decoder_layers.1.self_attn.proj_linears.1.bias  |    [512]     |    512     |\n",
      "| decoder.decoder_layers.1.self_attn.proj_linears.2.weight |  [512, 512]  |   262144   |\n",
      "|  decoder.decoder_layers.1.self_attn.proj_linears.2.bias  |    [512]     |    512     |\n",
      "| decoder.decoder_layers.1.self_attn.proj_linears.3.weight |  [512, 512]  |   262144   |\n",
      "|  decoder.decoder_layers.1.self_attn.proj_linears.3.bias  |    [512]     |    512     |\n",
      "| decoder.decoder_layers.1.src_attn.proj_linears.0.weight  |  [512, 512]  |   262144   |\n",
      "|  decoder.decoder_layers.1.src_attn.proj_linears.0.bias   |    [512]     |    512     |\n",
      "| decoder.decoder_layers.1.src_attn.proj_linears.1.weight  |  [512, 512]  |   262144   |\n",
      "|  decoder.decoder_layers.1.src_attn.proj_linears.1.bias   |    [512]     |    512     |\n",
      "| decoder.decoder_layers.1.src_attn.proj_linears.2.weight  |  [512, 512]  |   262144   |\n",
      "|  decoder.decoder_layers.1.src_attn.proj_linears.2.bias   |    [512]     |    512     |\n",
      "| decoder.decoder_layers.1.src_attn.proj_linears.3.weight  |  [512, 512]  |   262144   |\n",
      "|  decoder.decoder_layers.1.src_attn.proj_linears.3.bias   |    [512]     |    512     |\n",
      "|         decoder.decoder_layers.1.ff.ff.0.weight          | [2048, 512]  |  1048576   |\n",
      "|          decoder.decoder_layers.1.ff.ff.0.bias           |    [2048]    |    2048    |\n",
      "|         decoder.decoder_layers.1.ff.ff.3.weight          | [512, 2048]  |  1048576   |\n",
      "|          decoder.decoder_layers.1.ff.ff.3.bias           |    [512]     |    512     |\n",
      "|          decoder.decoder_layers.2.norm_1.weight          |    [512]     |    512     |\n",
      "|           decoder.decoder_layers.2.norm_1.bias           |    [512]     |    512     |\n",
      "|          decoder.decoder_layers.2.norm_2.weight          |    [512]     |    512     |\n",
      "|           decoder.decoder_layers.2.norm_2.bias           |    [512]     |    512     |\n",
      "|          decoder.decoder_layers.2.norm_3.weight          |    [512]     |    512     |\n",
      "|           decoder.decoder_layers.2.norm_3.bias           |    [512]     |    512     |\n",
      "| decoder.decoder_layers.2.self_attn.proj_linears.0.weight |  [512, 512]  |   262144   |\n",
      "|  decoder.decoder_layers.2.self_attn.proj_linears.0.bias  |    [512]     |    512     |\n",
      "| decoder.decoder_layers.2.self_attn.proj_linears.1.weight |  [512, 512]  |   262144   |\n",
      "|  decoder.decoder_layers.2.self_attn.proj_linears.1.bias  |    [512]     |    512     |\n",
      "| decoder.decoder_layers.2.self_attn.proj_linears.2.weight |  [512, 512]  |   262144   |\n",
      "|  decoder.decoder_layers.2.self_attn.proj_linears.2.bias  |    [512]     |    512     |\n",
      "| decoder.decoder_layers.2.self_attn.proj_linears.3.weight |  [512, 512]  |   262144   |\n",
      "|  decoder.decoder_layers.2.self_attn.proj_linears.3.bias  |    [512]     |    512     |\n",
      "| decoder.decoder_layers.2.src_attn.proj_linears.0.weight  |  [512, 512]  |   262144   |\n",
      "|  decoder.decoder_layers.2.src_attn.proj_linears.0.bias   |    [512]     |    512     |\n",
      "| decoder.decoder_layers.2.src_attn.proj_linears.1.weight  |  [512, 512]  |   262144   |\n",
      "|  decoder.decoder_layers.2.src_attn.proj_linears.1.bias   |    [512]     |    512     |\n",
      "| decoder.decoder_layers.2.src_attn.proj_linears.2.weight  |  [512, 512]  |   262144   |\n",
      "|  decoder.decoder_layers.2.src_attn.proj_linears.2.bias   |    [512]     |    512     |\n",
      "| decoder.decoder_layers.2.src_attn.proj_linears.3.weight  |  [512, 512]  |   262144   |\n",
      "|  decoder.decoder_layers.2.src_attn.proj_linears.3.bias   |    [512]     |    512     |\n",
      "|         decoder.decoder_layers.2.ff.ff.0.weight          | [2048, 512]  |  1048576   |\n",
      "|          decoder.decoder_layers.2.ff.ff.0.bias           |    [2048]    |    2048    |\n",
      "|         decoder.decoder_layers.2.ff.ff.3.weight          | [512, 2048]  |  1048576   |\n",
      "|          decoder.decoder_layers.2.ff.ff.3.bias           |    [512]     |    512     |\n",
      "|                   decoder.norm.weight                    |    [512]     |    512     |\n",
      "|                    decoder.norm.bias                     |    [512]     |    512     |\n",
      "|                  generator.proj.weight                   | [10837, 512] |  5548544   |\n",
      "|                   generator.proj.bias                    |   [10837]    |   10837    |\n",
      "+----------------------------------------------------------+--------------+------------+\n",
      "Total Trainable Params: 43016789, or  41.024M\n"
     ]
    }
   ],
   "source": [
    "trainer = Trainer(cfg)"
   ]
  },
  {
   "cell_type": "code",
   "execution_count": 6,
   "id": "450f1e06",
   "metadata": {
    "scrolled": true
   },
   "outputs": [
    {
     "name": "stderr",
     "output_type": "stream",
     "text": [
      "epoch[0] step[226/227] | loss: 4.2150 | lr: 0.000100 | : 100%|█████████████████████████████████████████████████████████████████████████████████████████| 227/227 [00:16<00:00, 14.13it/s]\n"
     ]
    },
    {
     "name": "stdout",
     "output_type": "stream",
     "text": [
      "Epoch 0 | train loss: 5.28650, val loss: 4.07781\n"
     ]
    },
    {
     "name": "stderr",
     "output_type": "stream",
     "text": [
      "epoch[1] step[226/227] | loss: 3.4398 | lr: 0.000100 | : 100%|█████████████████████████████████████████████████████████████████████████████████████████| 227/227 [00:15<00:00, 14.74it/s]\n"
     ]
    },
    {
     "name": "stdout",
     "output_type": "stream",
     "text": [
      "Epoch 1 | train loss: 3.80883, val loss: 3.42562\n"
     ]
    },
    {
     "name": "stderr",
     "output_type": "stream",
     "text": [
      "epoch[2] step[226/227] | loss: 3.0893 | lr: 0.000100 | : 100%|█████████████████████████████████████████████████████████████████████████████████████████| 227/227 [00:15<00:00, 14.50it/s]\n"
     ]
    },
    {
     "name": "stdout",
     "output_type": "stream",
     "text": [
      "Epoch 2 | train loss: 3.25868, val loss: 3.00893\n"
     ]
    },
    {
     "name": "stderr",
     "output_type": "stream",
     "text": [
      "epoch[3] step[226/227] | loss: 2.7500 | lr: 0.000100 | : 100%|█████████████████████████████████████████████████████████████████████████████████████████| 227/227 [00:15<00:00, 14.48it/s]\n"
     ]
    },
    {
     "name": "stdout",
     "output_type": "stream",
     "text": [
      "Epoch 3 | train loss: 2.85216, val loss: 2.70861\n"
     ]
    },
    {
     "name": "stderr",
     "output_type": "stream",
     "text": [
      "epoch[4] step[226/227] | loss: 2.7104 | lr: 0.000100 | : 100%|█████████████████████████████████████████████████████████████████████████████████████████| 227/227 [00:15<00:00, 14.63it/s]\n"
     ]
    },
    {
     "name": "stdout",
     "output_type": "stream",
     "text": [
      "Epoch 4 | train loss: 2.54541, val loss: 2.47988\n"
     ]
    },
    {
     "name": "stderr",
     "output_type": "stream",
     "text": [
      "epoch[5] step[226/227] | loss: 2.3528 | lr: 0.000100 | : 100%|█████████████████████████████████████████████████████████████████████████████████████████| 227/227 [00:15<00:00, 14.52it/s]\n"
     ]
    },
    {
     "name": "stdout",
     "output_type": "stream",
     "text": [
      "Epoch 5 | train loss: 2.29901, val loss: 2.33168\n"
     ]
    },
    {
     "name": "stderr",
     "output_type": "stream",
     "text": [
      "epoch[6] step[226/227] | loss: 1.8823 | lr: 0.000100 | : 100%|█████████████████████████████████████████████████████████████████████████████████████████| 227/227 [00:15<00:00, 14.51it/s]\n"
     ]
    },
    {
     "name": "stdout",
     "output_type": "stream",
     "text": [
      "Epoch 6 | train loss: 2.09498, val loss: 2.21271\n"
     ]
    },
    {
     "name": "stderr",
     "output_type": "stream",
     "text": [
      "epoch[7] step[226/227] | loss: 1.9844 | lr: 0.000100 | : 100%|█████████████████████████████████████████████████████████████████████████████████████████| 227/227 [00:15<00:00, 14.37it/s]\n"
     ]
    },
    {
     "name": "stdout",
     "output_type": "stream",
     "text": [
      "Epoch 7 | train loss: 1.92192, val loss: 2.13771\n"
     ]
    },
    {
     "name": "stderr",
     "output_type": "stream",
     "text": [
      "epoch[8] step[226/227] | loss: 1.8543 | lr: 0.000100 | : 100%|█████████████████████████████████████████████████████████████████████████████████████████| 227/227 [00:15<00:00, 14.41it/s]\n"
     ]
    },
    {
     "name": "stdout",
     "output_type": "stream",
     "text": [
      "Epoch 8 | train loss: 1.77330, val loss: 2.04504\n"
     ]
    },
    {
     "name": "stderr",
     "output_type": "stream",
     "text": [
      "epoch[9] step[226/227] | loss: 1.9054 | lr: 0.000100 | : 100%|█████████████████████████████████████████████████████████████████████████████████████████| 227/227 [00:15<00:00, 14.61it/s]\n"
     ]
    },
    {
     "name": "stdout",
     "output_type": "stream",
     "text": [
      "Epoch 9 | train loss: 1.64625, val loss: 1.99604\n"
     ]
    },
    {
     "name": "stderr",
     "output_type": "stream",
     "text": [
      "epoch[10] step[226/227] | loss: 1.3833 | lr: 0.000100 | : 100%|████████████████████████████████████████████████████████████████████████████████████████| 227/227 [00:16<00:00, 14.09it/s]\n"
     ]
    },
    {
     "name": "stdout",
     "output_type": "stream",
     "text": [
      "Epoch 10 | train loss: 1.53167, val loss: 1.95010\n"
     ]
    },
    {
     "name": "stderr",
     "output_type": "stream",
     "text": [
      "epoch[11] step[226/227] | loss: 1.3632 | lr: 0.000100 | : 100%|████████████████████████████████████████████████████████████████████████████████████████| 227/227 [00:15<00:00, 14.47it/s]\n"
     ]
    },
    {
     "name": "stdout",
     "output_type": "stream",
     "text": [
      "Epoch 11 | train loss: 1.42844, val loss: 1.93927\n"
     ]
    },
    {
     "name": "stderr",
     "output_type": "stream",
     "text": [
      "epoch[12] step[226/227] | loss: 1.3757 | lr: 0.000100 | : 100%|████████████████████████████████████████████████████████████████████████████████████████| 227/227 [00:15<00:00, 14.31it/s]\n"
     ]
    },
    {
     "name": "stdout",
     "output_type": "stream",
     "text": [
      "Epoch 12 | train loss: 1.33676, val loss: 1.91957\n"
     ]
    },
    {
     "name": "stderr",
     "output_type": "stream",
     "text": [
      "epoch[13] step[226/227] | loss: 1.2408 | lr: 0.000100 | : 100%|████████████████████████████████████████████████████████████████████████████████████████| 227/227 [00:15<00:00, 14.30it/s]\n"
     ]
    },
    {
     "name": "stdout",
     "output_type": "stream",
     "text": [
      "Epoch 13 | train loss: 1.25497, val loss: 1.89241\n"
     ]
    },
    {
     "name": "stderr",
     "output_type": "stream",
     "text": [
      "epoch[14] step[226/227] | loss: 1.2836 | lr: 0.000100 | : 100%|████████████████████████████████████████████████████████████████████████████████████████| 227/227 [00:15<00:00, 14.52it/s]\n"
     ]
    },
    {
     "name": "stdout",
     "output_type": "stream",
     "text": [
      "Epoch 14 | train loss: 1.17947, val loss: 1.87991\n"
     ]
    },
    {
     "name": "stderr",
     "output_type": "stream",
     "text": [
      "epoch[15] step[226/227] | loss: 1.1519 | lr: 0.000100 | : 100%|████████████████████████████████████████████████████████████████████████████████████████| 227/227 [00:15<00:00, 14.53it/s]\n"
     ]
    },
    {
     "name": "stdout",
     "output_type": "stream",
     "text": [
      "Epoch 15 | train loss: 1.10696, val loss: 1.88850\n"
     ]
    },
    {
     "name": "stderr",
     "output_type": "stream",
     "text": [
      "epoch[16] step[226/227] | loss: 1.1630 | lr: 0.000100 | : 100%|████████████████████████████████████████████████████████████████████████████████████████| 227/227 [00:15<00:00, 14.35it/s]\n"
     ]
    },
    {
     "name": "stdout",
     "output_type": "stream",
     "text": [
      "Epoch 16 | train loss: 1.04240, val loss: 1.87457\n"
     ]
    },
    {
     "name": "stderr",
     "output_type": "stream",
     "text": [
      "epoch[17] step[226/227] | loss: 0.9943 | lr: 0.000100 | : 100%|████████████████████████████████████████████████████████████████████████████████████████| 227/227 [00:15<00:00, 14.46it/s]\n"
     ]
    },
    {
     "name": "stdout",
     "output_type": "stream",
     "text": [
      "Epoch 17 | train loss: 0.98228, val loss: 1.88617\n"
     ]
    },
    {
     "name": "stderr",
     "output_type": "stream",
     "text": [
      "epoch[18] step[226/227] | loss: 1.1171 | lr: 0.000100 | : 100%|████████████████████████████████████████████████████████████████████████████████████████| 227/227 [00:15<00:00, 14.38it/s]\n"
     ]
    },
    {
     "name": "stdout",
     "output_type": "stream",
     "text": [
      "Epoch 18 | train loss: 0.92425, val loss: 1.90091\n"
     ]
    },
    {
     "name": "stderr",
     "output_type": "stream",
     "text": [
      "epoch[19] step[226/227] | loss: 0.8897 | lr: 0.000100 | : 100%|████████████████████████████████████████████████████████████████████████████████████████| 227/227 [00:15<00:00, 14.28it/s]\n"
     ]
    },
    {
     "name": "stdout",
     "output_type": "stream",
     "text": [
      "Epoch 19 | train loss: 0.87234, val loss: 1.91906\n",
      "Epoch 00020: reducing learning rate of group 0 to 2.0000e-05.\n"
     ]
    },
    {
     "name": "stderr",
     "output_type": "stream",
     "text": [
      "epoch[20] step[226/227] | loss: 0.7665 | lr: 0.000020 | : 100%|████████████████████████████████████████████████████████████████████████████████████████| 227/227 [00:15<00:00, 14.37it/s]\n"
     ]
    },
    {
     "name": "stdout",
     "output_type": "stream",
     "text": [
      "Epoch 20 | train loss: 0.77355, val loss: 1.90576\n"
     ]
    },
    {
     "name": "stderr",
     "output_type": "stream",
     "text": [
      "epoch[21] step[226/227] | loss: 0.7987 | lr: 0.000020 | : 100%|████████████████████████████████████████████████████████████████████████████████████████| 227/227 [00:15<00:00, 14.41it/s]\n"
     ]
    },
    {
     "name": "stdout",
     "output_type": "stream",
     "text": [
      "Epoch 21 | train loss: 0.75059, val loss: 1.90692\n"
     ]
    },
    {
     "name": "stderr",
     "output_type": "stream",
     "text": [
      "epoch[22] step[226/227] | loss: 0.7385 | lr: 0.000020 | : 100%|████████████████████████████████████████████████████████████████████████████████████████| 227/227 [00:15<00:00, 14.32it/s]\n"
     ]
    },
    {
     "name": "stdout",
     "output_type": "stream",
     "text": [
      "Epoch 22 | train loss: 0.73277, val loss: 1.91339\n",
      "Epoch 00023: reducing learning rate of group 0 to 4.0000e-06.\n"
     ]
    },
    {
     "name": "stderr",
     "output_type": "stream",
     "text": [
      "epoch[23] step[226/227] | loss: 0.6767 | lr: 0.000004 | : 100%|████████████████████████████████████████████████████████████████████████████████████████| 227/227 [00:15<00:00, 14.52it/s]\n"
     ]
    },
    {
     "name": "stdout",
     "output_type": "stream",
     "text": [
      "Epoch 23 | train loss: 0.71067, val loss: 1.91499\n"
     ]
    },
    {
     "name": "stderr",
     "output_type": "stream",
     "text": [
      "epoch[24] step[226/227] | loss: 0.7022 | lr: 0.000004 | : 100%|████████████████████████████████████████████████████████████████████████████████████████| 227/227 [00:15<00:00, 14.40it/s]\n"
     ]
    },
    {
     "name": "stdout",
     "output_type": "stream",
     "text": [
      "Epoch 24 | train loss: 0.70641, val loss: 1.91258\n"
     ]
    },
    {
     "name": "stderr",
     "output_type": "stream",
     "text": [
      "epoch[25] step[226/227] | loss: 0.8106 | lr: 0.000004 | : 100%|████████████████████████████████████████████████████████████████████████████████████████| 227/227 [00:15<00:00, 14.48it/s]\n"
     ]
    },
    {
     "name": "stdout",
     "output_type": "stream",
     "text": [
      "Epoch 25 | train loss: 0.70329, val loss: 1.91802\n",
      "Epoch 00026: reducing learning rate of group 0 to 8.0000e-07.\n"
     ]
    },
    {
     "name": "stderr",
     "output_type": "stream",
     "text": [
      "epoch[26] step[226/227] | loss: 0.6879 | lr: 0.000001 | : 100%|████████████████████████████████████████████████████████████████████████████████████████| 227/227 [00:15<00:00, 14.45it/s]\n"
     ]
    },
    {
     "name": "stdout",
     "output_type": "stream",
     "text": [
      "Epoch 26 | train loss: 0.69841, val loss: 1.91752\n"
     ]
    },
    {
     "name": "stderr",
     "output_type": "stream",
     "text": [
      "epoch[27] step[226/227] | loss: 0.7131 | lr: 0.000001 | : 100%|████████████████████████████████████████████████████████████████████████████████████████| 227/227 [00:15<00:00, 14.47it/s]\n"
     ]
    },
    {
     "name": "stdout",
     "output_type": "stream",
     "text": [
      "Epoch 27 | train loss: 0.69804, val loss: 1.91696\n"
     ]
    },
    {
     "name": "stderr",
     "output_type": "stream",
     "text": [
      "epoch[28] step[226/227] | loss: 0.5979 | lr: 0.000001 | : 100%|████████████████████████████████████████████████████████████████████████████████████████| 227/227 [00:15<00:00, 14.39it/s]\n"
     ]
    },
    {
     "name": "stdout",
     "output_type": "stream",
     "text": [
      "Epoch 28 | train loss: 0.69638, val loss: 1.91644\n",
      "Epoch 00029: reducing learning rate of group 0 to 1.6000e-07.\n"
     ]
    },
    {
     "name": "stderr",
     "output_type": "stream",
     "text": [
      "epoch[29] step[226/227] | loss: 0.6380 | lr: 0.000000 | : 100%|████████████████████████████████████████████████████████████████████████████████████████| 227/227 [00:15<00:00, 14.49it/s]\n"
     ]
    },
    {
     "name": "stdout",
     "output_type": "stream",
     "text": [
      "Epoch 29 | train loss: 0.69664, val loss: 1.91670\n"
     ]
    },
    {
     "name": "stderr",
     "output_type": "stream",
     "text": [
      "epoch[30] step[226/227] | loss: 0.7117 | lr: 0.000000 | : 100%|████████████████████████████████████████████████████████████████████████████████████████| 227/227 [00:15<00:00, 14.19it/s]\n"
     ]
    },
    {
     "name": "stdout",
     "output_type": "stream",
     "text": [
      "Epoch 30 | train loss: 0.69539, val loss: 1.91715\n"
     ]
    },
    {
     "name": "stderr",
     "output_type": "stream",
     "text": [
      "epoch[31] step[226/227] | loss: 0.7257 | lr: 0.000000 | : 100%|████████████████████████████████████████████████████████████████████████████████████████| 227/227 [00:16<00:00, 14.18it/s]\n"
     ]
    },
    {
     "name": "stdout",
     "output_type": "stream",
     "text": [
      "Epoch 31 | train loss: 0.69694, val loss: 1.91721\n",
      "Epoch 00032: reducing learning rate of group 0 to 3.2000e-08.\n"
     ]
    },
    {
     "name": "stderr",
     "output_type": "stream",
     "text": [
      "epoch[32] step[226/227] | loss: 0.6876 | lr: 0.000000 | : 100%|████████████████████████████████████████████████████████████████████████████████████████| 227/227 [00:15<00:00, 14.39it/s]\n"
     ]
    },
    {
     "name": "stdout",
     "output_type": "stream",
     "text": [
      "Epoch 32 | train loss: 0.69450, val loss: 1.91725\n"
     ]
    },
    {
     "name": "stderr",
     "output_type": "stream",
     "text": [
      "epoch[33] step[226/227] | loss: 0.7099 | lr: 0.000000 | : 100%|████████████████████████████████████████████████████████████████████████████████████████| 227/227 [00:15<00:00, 14.35it/s]\n"
     ]
    },
    {
     "name": "stdout",
     "output_type": "stream",
     "text": [
      "Epoch 33 | train loss: 0.69433, val loss: 1.91723\n"
     ]
    },
    {
     "name": "stderr",
     "output_type": "stream",
     "text": [
      "epoch[34] step[226/227] | loss: 0.6485 | lr: 0.000000 | : 100%|████████████████████████████████████████████████████████████████████████████████████████| 227/227 [00:15<00:00, 14.37it/s]\n"
     ]
    },
    {
     "name": "stdout",
     "output_type": "stream",
     "text": [
      "Epoch 34 | train loss: 0.69425, val loss: 1.91721\n",
      "Epoch 00035: reducing learning rate of group 0 to 6.4000e-09.\n"
     ]
    },
    {
     "name": "stderr",
     "output_type": "stream",
     "text": [
      "epoch[35] step[226/227] | loss: 0.7202 | lr: 0.000000 | : 100%|████████████████████████████████████████████████████████████████████████████████████████| 227/227 [00:15<00:00, 14.45it/s]\n"
     ]
    },
    {
     "name": "stdout",
     "output_type": "stream",
     "text": [
      "Epoch 35 | train loss: 0.69425, val loss: 1.91722\n"
     ]
    },
    {
     "name": "stderr",
     "output_type": "stream",
     "text": [
      "epoch[36] step[226/227] | loss: 0.6982 | lr: 0.000000 | : 100%|████████████████████████████████████████████████████████████████████████████████████████| 227/227 [00:15<00:00, 14.59it/s]\n"
     ]
    },
    {
     "name": "stdout",
     "output_type": "stream",
     "text": [
      "Epoch 36 | train loss: 0.69508, val loss: 1.91723\n"
     ]
    },
    {
     "name": "stderr",
     "output_type": "stream",
     "text": [
      "epoch[37] step[226/227] | loss: 0.6982 | lr: 0.000000 | : 100%|████████████████████████████████████████████████████████████████████████████████████████| 227/227 [00:15<00:00, 14.26it/s]\n"
     ]
    },
    {
     "name": "stdout",
     "output_type": "stream",
     "text": [
      "Epoch 37 | train loss: 0.69521, val loss: 1.91723\n"
     ]
    },
    {
     "name": "stderr",
     "output_type": "stream",
     "text": [
      "epoch[38] step[226/227] | loss: 0.6962 | lr: 0.000000 | : 100%|████████████████████████████████████████████████████████████████████████████████████████| 227/227 [00:16<00:00, 14.11it/s]\n"
     ]
    },
    {
     "name": "stdout",
     "output_type": "stream",
     "text": [
      "Epoch 38 | train loss: 0.69423, val loss: 1.91726\n"
     ]
    },
    {
     "name": "stderr",
     "output_type": "stream",
     "text": [
      "epoch[39] step[226/227] | loss: 0.7267 | lr: 0.000000 | : 100%|████████████████████████████████████████████████████████████████████████████████████████| 227/227 [00:15<00:00, 14.49it/s]\n"
     ]
    },
    {
     "name": "stdout",
     "output_type": "stream",
     "text": [
      "Epoch 39 | train loss: 0.69567, val loss: 1.91725\n"
     ]
    },
    {
     "name": "stderr",
     "output_type": "stream",
     "text": [
      "epoch[40] step[226/227] | loss: 0.6871 | lr: 0.000000 | : 100%|████████████████████████████████████████████████████████████████████████████████████████| 227/227 [00:15<00:00, 14.46it/s]\n"
     ]
    },
    {
     "name": "stdout",
     "output_type": "stream",
     "text": [
      "Epoch 40 | train loss: 0.69515, val loss: 1.91725\n"
     ]
    },
    {
     "name": "stderr",
     "output_type": "stream",
     "text": [
      "epoch[41] step[226/227] | loss: 0.8085 | lr: 0.000000 | : 100%|████████████████████████████████████████████████████████████████████████████████████████| 227/227 [00:15<00:00, 14.52it/s]\n"
     ]
    },
    {
     "name": "stdout",
     "output_type": "stream",
     "text": [
      "Epoch 41 | train loss: 0.69551, val loss: 1.91724\n"
     ]
    },
    {
     "name": "stderr",
     "output_type": "stream",
     "text": [
      "epoch[42] step[226/227] | loss: 0.6513 | lr: 0.000000 | : 100%|████████████████████████████████████████████████████████████████████████████████████████| 227/227 [00:15<00:00, 14.35it/s]\n"
     ]
    },
    {
     "name": "stdout",
     "output_type": "stream",
     "text": [
      "Epoch 42 | train loss: 0.69507, val loss: 1.91723\n"
     ]
    },
    {
     "name": "stderr",
     "output_type": "stream",
     "text": [
      "epoch[43] step[226/227] | loss: 0.8213 | lr: 0.000000 | : 100%|████████████████████████████████████████████████████████████████████████████████████████| 227/227 [00:15<00:00, 14.35it/s]\n"
     ]
    },
    {
     "name": "stdout",
     "output_type": "stream",
     "text": [
      "Epoch 43 | train loss: 0.69630, val loss: 1.91723\n"
     ]
    },
    {
     "name": "stderr",
     "output_type": "stream",
     "text": [
      "epoch[44] step[226/227] | loss: 0.8067 | lr: 0.000000 | : 100%|████████████████████████████████████████████████████████████████████████████████████████| 227/227 [00:15<00:00, 14.39it/s]\n"
     ]
    },
    {
     "name": "stdout",
     "output_type": "stream",
     "text": [
      "Epoch 44 | train loss: 0.69542, val loss: 1.91723\n"
     ]
    },
    {
     "name": "stderr",
     "output_type": "stream",
     "text": [
      "epoch[45] step[226/227] | loss: 0.6485 | lr: 0.000000 | : 100%|████████████████████████████████████████████████████████████████████████████████████████| 227/227 [00:15<00:00, 14.23it/s]\n"
     ]
    },
    {
     "name": "stdout",
     "output_type": "stream",
     "text": [
      "Epoch 45 | train loss: 0.69511, val loss: 1.91724\n"
     ]
    },
    {
     "name": "stderr",
     "output_type": "stream",
     "text": [
      "epoch[46] step[226/227] | loss: 0.7113 | lr: 0.000000 | : 100%|████████████████████████████████████████████████████████████████████████████████████████| 227/227 [00:15<00:00, 14.24it/s]\n"
     ]
    },
    {
     "name": "stdout",
     "output_type": "stream",
     "text": [
      "Epoch 46 | train loss: 0.69569, val loss: 1.91724\n"
     ]
    },
    {
     "name": "stderr",
     "output_type": "stream",
     "text": [
      "epoch[47] step[226/227] | loss: 0.6654 | lr: 0.000000 | : 100%|████████████████████████████████████████████████████████████████████████████████████████| 227/227 [00:15<00:00, 14.22it/s]\n"
     ]
    },
    {
     "name": "stdout",
     "output_type": "stream",
     "text": [
      "Epoch 47 | train loss: 0.69529, val loss: 1.91725\n"
     ]
    },
    {
     "name": "stderr",
     "output_type": "stream",
     "text": [
      "epoch[48] step[226/227] | loss: 0.7782 | lr: 0.000000 | : 100%|████████████████████████████████████████████████████████████████████████████████████████| 227/227 [00:15<00:00, 14.43it/s]\n"
     ]
    },
    {
     "name": "stdout",
     "output_type": "stream",
     "text": [
      "Epoch 48 | train loss: 0.69473, val loss: 1.91724\n"
     ]
    },
    {
     "name": "stderr",
     "output_type": "stream",
     "text": [
      "epoch[49] step[226/227] | loss: 0.7042 | lr: 0.000000 | : 100%|████████████████████████████████████████████████████████████████████████████████████████| 227/227 [00:15<00:00, 14.48it/s]\n"
     ]
    },
    {
     "name": "stdout",
     "output_type": "stream",
     "text": [
      "Epoch 49 | train loss: 0.69594, val loss: 1.91725\n"
     ]
    },
    {
     "name": "stderr",
     "output_type": "stream",
     "text": [
      "epoch[50] step[226/227] | loss: 0.6736 | lr: 0.000000 | : 100%|████████████████████████████████████████████████████████████████████████████████████████| 227/227 [00:15<00:00, 14.44it/s]\n"
     ]
    },
    {
     "name": "stdout",
     "output_type": "stream",
     "text": [
      "Epoch 50 | train loss: 0.69618, val loss: 1.91725\n"
     ]
    },
    {
     "name": "stderr",
     "output_type": "stream",
     "text": [
      "epoch[51] step[226/227] | loss: 0.7479 | lr: 0.000000 | : 100%|████████████████████████████████████████████████████████████████████████████████████████| 227/227 [00:15<00:00, 14.42it/s]\n"
     ]
    },
    {
     "name": "stdout",
     "output_type": "stream",
     "text": [
      "Epoch 51 | train loss: 0.69515, val loss: 1.91726\n"
     ]
    },
    {
     "name": "stderr",
     "output_type": "stream",
     "text": [
      "epoch[52] step[226/227] | loss: 0.6459 | lr: 0.000000 | : 100%|████████████████████████████████████████████████████████████████████████████████████████| 227/227 [00:15<00:00, 14.34it/s]\n"
     ]
    },
    {
     "name": "stdout",
     "output_type": "stream",
     "text": [
      "Epoch 52 | train loss: 0.69412, val loss: 1.91727\n"
     ]
    },
    {
     "name": "stderr",
     "output_type": "stream",
     "text": [
      "epoch[53] step[226/227] | loss: 0.6285 | lr: 0.000000 | : 100%|████████████████████████████████████████████████████████████████████████████████████████| 227/227 [00:15<00:00, 14.49it/s]\n"
     ]
    },
    {
     "name": "stdout",
     "output_type": "stream",
     "text": [
      "Epoch 53 | train loss: 0.69426, val loss: 1.91729\n"
     ]
    },
    {
     "name": "stderr",
     "output_type": "stream",
     "text": [
      "epoch[54] step[226/227] | loss: 0.7813 | lr: 0.000000 | : 100%|████████████████████████████████████████████████████████████████████████████████████████| 227/227 [00:15<00:00, 14.43it/s]\n"
     ]
    },
    {
     "name": "stdout",
     "output_type": "stream",
     "text": [
      "Epoch 54 | train loss: 0.69583, val loss: 1.91728\n"
     ]
    },
    {
     "name": "stderr",
     "output_type": "stream",
     "text": [
      "epoch[55] step[226/227] | loss: 0.7152 | lr: 0.000000 | : 100%|████████████████████████████████████████████████████████████████████████████████████████| 227/227 [00:15<00:00, 14.51it/s]\n"
     ]
    },
    {
     "name": "stdout",
     "output_type": "stream",
     "text": [
      "Epoch 55 | train loss: 0.69464, val loss: 1.91728\n"
     ]
    },
    {
     "name": "stderr",
     "output_type": "stream",
     "text": [
      "epoch[56] step[226/227] | loss: 0.6595 | lr: 0.000000 | : 100%|████████████████████████████████████████████████████████████████████████████████████████| 227/227 [00:15<00:00, 14.46it/s]\n"
     ]
    },
    {
     "name": "stdout",
     "output_type": "stream",
     "text": [
      "Epoch 56 | train loss: 0.69509, val loss: 1.91729\n"
     ]
    },
    {
     "name": "stderr",
     "output_type": "stream",
     "text": [
      "epoch[57] step[226/227] | loss: 0.6940 | lr: 0.000000 | : 100%|████████████████████████████████████████████████████████████████████████████████████████| 227/227 [00:15<00:00, 14.29it/s]\n"
     ]
    },
    {
     "name": "stdout",
     "output_type": "stream",
     "text": [
      "Epoch 57 | train loss: 0.69623, val loss: 1.91729\n"
     ]
    },
    {
     "name": "stderr",
     "output_type": "stream",
     "text": [
      "epoch[58] step[226/227] | loss: 0.6080 | lr: 0.000000 | : 100%|████████████████████████████████████████████████████████████████████████████████████████| 227/227 [00:15<00:00, 14.46it/s]\n"
     ]
    },
    {
     "name": "stdout",
     "output_type": "stream",
     "text": [
      "Epoch 58 | train loss: 0.69585, val loss: 1.91731\n"
     ]
    },
    {
     "name": "stderr",
     "output_type": "stream",
     "text": [
      "epoch[59] step[226/227] | loss: 0.6658 | lr: 0.000000 | : 100%|████████████████████████████████████████████████████████████████████████████████████████| 227/227 [00:15<00:00, 14.33it/s]\n"
     ]
    },
    {
     "name": "stdout",
     "output_type": "stream",
     "text": [
      "Epoch 59 | train loss: 0.69475, val loss: 1.91732\n"
     ]
    },
    {
     "name": "stderr",
     "output_type": "stream",
     "text": [
      "epoch[60] step[226/227] | loss: 0.6858 | lr: 0.000000 | : 100%|████████████████████████████████████████████████████████████████████████████████████████| 227/227 [00:15<00:00, 14.37it/s]\n"
     ]
    },
    {
     "name": "stdout",
     "output_type": "stream",
     "text": [
      "Epoch 60 | train loss: 0.69390, val loss: 1.91732\n"
     ]
    },
    {
     "name": "stderr",
     "output_type": "stream",
     "text": [
      "epoch[61] step[226/227] | loss: 0.7153 | lr: 0.000000 | : 100%|████████████████████████████████████████████████████████████████████████████████████████| 227/227 [00:15<00:00, 14.49it/s]\n"
     ]
    },
    {
     "name": "stdout",
     "output_type": "stream",
     "text": [
      "Epoch 61 | train loss: 0.69392, val loss: 1.91733\n"
     ]
    },
    {
     "name": "stderr",
     "output_type": "stream",
     "text": [
      "epoch[62] step[226/227] | loss: 0.7105 | lr: 0.000000 | : 100%|████████████████████████████████████████████████████████████████████████████████████████| 227/227 [00:15<00:00, 14.34it/s]\n"
     ]
    },
    {
     "name": "stdout",
     "output_type": "stream",
     "text": [
      "Epoch 62 | train loss: 0.69488, val loss: 1.91735\n"
     ]
    },
    {
     "name": "stderr",
     "output_type": "stream",
     "text": [
      "epoch[63] step[226/227] | loss: 0.7158 | lr: 0.000000 | : 100%|████████████████████████████████████████████████████████████████████████████████████████| 227/227 [00:15<00:00, 14.45it/s]\n"
     ]
    },
    {
     "name": "stdout",
     "output_type": "stream",
     "text": [
      "Epoch 63 | train loss: 0.69515, val loss: 1.91736\n"
     ]
    },
    {
     "name": "stderr",
     "output_type": "stream",
     "text": [
      "epoch[64] step[226/227] | loss: 0.6936 | lr: 0.000000 | : 100%|████████████████████████████████████████████████████████████████████████████████████████| 227/227 [00:15<00:00, 14.32it/s]\n"
     ]
    },
    {
     "name": "stdout",
     "output_type": "stream",
     "text": [
      "Epoch 64 | train loss: 0.69551, val loss: 1.91735\n"
     ]
    },
    {
     "name": "stderr",
     "output_type": "stream",
     "text": [
      "epoch[65] step[226/227] | loss: 0.6946 | lr: 0.000000 | : 100%|████████████████████████████████████████████████████████████████████████████████████████| 227/227 [00:15<00:00, 14.45it/s]\n"
     ]
    },
    {
     "name": "stdout",
     "output_type": "stream",
     "text": [
      "Epoch 65 | train loss: 0.69499, val loss: 1.91736\n"
     ]
    },
    {
     "name": "stderr",
     "output_type": "stream",
     "text": [
      "epoch[66] step[226/227] | loss: 0.7477 | lr: 0.000000 | : 100%|████████████████████████████████████████████████████████████████████████████████████████| 227/227 [00:15<00:00, 14.22it/s]\n"
     ]
    },
    {
     "name": "stdout",
     "output_type": "stream",
     "text": [
      "Epoch 66 | train loss: 0.69573, val loss: 1.91736\n"
     ]
    },
    {
     "name": "stderr",
     "output_type": "stream",
     "text": [
      "epoch[67] step[226/227] | loss: 0.6880 | lr: 0.000000 | : 100%|████████████████████████████████████████████████████████████████████████████████████████| 227/227 [00:15<00:00, 14.30it/s]\n"
     ]
    },
    {
     "name": "stdout",
     "output_type": "stream",
     "text": [
      "Epoch 67 | train loss: 0.69433, val loss: 1.91736\n"
     ]
    },
    {
     "name": "stderr",
     "output_type": "stream",
     "text": [
      "epoch[68] step[226/227] | loss: 0.6510 | lr: 0.000000 | : 100%|████████████████████████████████████████████████████████████████████████████████████████| 227/227 [00:15<00:00, 14.41it/s]\n"
     ]
    },
    {
     "name": "stdout",
     "output_type": "stream",
     "text": [
      "Epoch 68 | train loss: 0.69493, val loss: 1.91735\n"
     ]
    },
    {
     "name": "stderr",
     "output_type": "stream",
     "text": [
      "epoch[69] step[226/227] | loss: 0.6013 | lr: 0.000000 | : 100%|████████████████████████████████████████████████████████████████████████████████████████| 227/227 [00:15<00:00, 14.41it/s]\n"
     ]
    },
    {
     "name": "stdout",
     "output_type": "stream",
     "text": [
      "Epoch 69 | train loss: 0.69541, val loss: 1.91736\n"
     ]
    },
    {
     "name": "stderr",
     "output_type": "stream",
     "text": [
      "epoch[70] step[226/227] | loss: 0.5238 | lr: 0.000000 | : 100%|████████████████████████████████████████████████████████████████████████████████████████| 227/227 [00:15<00:00, 14.43it/s]\n"
     ]
    },
    {
     "name": "stdout",
     "output_type": "stream",
     "text": [
      "Epoch 70 | train loss: 0.69427, val loss: 1.91736\n"
     ]
    },
    {
     "name": "stderr",
     "output_type": "stream",
     "text": [
      "epoch[71] step[226/227] | loss: 0.7480 | lr: 0.000000 | : 100%|████████████████████████████████████████████████████████████████████████████████████████| 227/227 [00:15<00:00, 14.22it/s]\n"
     ]
    },
    {
     "name": "stdout",
     "output_type": "stream",
     "text": [
      "Epoch 71 | train loss: 0.69616, val loss: 1.91737\n"
     ]
    },
    {
     "name": "stderr",
     "output_type": "stream",
     "text": [
      "epoch[72] step[226/227] | loss: 0.6820 | lr: 0.000000 | : 100%|████████████████████████████████████████████████████████████████████████████████████████| 227/227 [00:15<00:00, 14.25it/s]\n"
     ]
    },
    {
     "name": "stdout",
     "output_type": "stream",
     "text": [
      "Epoch 72 | train loss: 0.69588, val loss: 1.91737\n"
     ]
    },
    {
     "name": "stderr",
     "output_type": "stream",
     "text": [
      "epoch[73] step[226/227] | loss: 0.6224 | lr: 0.000000 | : 100%|████████████████████████████████████████████████████████████████████████████████████████| 227/227 [00:15<00:00, 14.43it/s]\n"
     ]
    },
    {
     "name": "stdout",
     "output_type": "stream",
     "text": [
      "Epoch 73 | train loss: 0.69451, val loss: 1.91738\n"
     ]
    },
    {
     "name": "stderr",
     "output_type": "stream",
     "text": [
      "epoch[74] step[226/227] | loss: 0.6659 | lr: 0.000000 | : 100%|████████████████████████████████████████████████████████████████████████████████████████| 227/227 [00:15<00:00, 14.33it/s]\n"
     ]
    },
    {
     "name": "stdout",
     "output_type": "stream",
     "text": [
      "Epoch 74 | train loss: 0.69504, val loss: 1.91740\n"
     ]
    },
    {
     "name": "stderr",
     "output_type": "stream",
     "text": [
      "epoch[75] step[226/227] | loss: 0.7104 | lr: 0.000000 | : 100%|████████████████████████████████████████████████████████████████████████████████████████| 227/227 [00:15<00:00, 14.25it/s]\n"
     ]
    },
    {
     "name": "stdout",
     "output_type": "stream",
     "text": [
      "Epoch 75 | train loss: 0.69449, val loss: 1.91741\n"
     ]
    },
    {
     "name": "stderr",
     "output_type": "stream",
     "text": [
      "epoch[76] step[226/227] | loss: 0.7040 | lr: 0.000000 | : 100%|████████████████████████████████████████████████████████████████████████████████████████| 227/227 [00:15<00:00, 14.28it/s]\n"
     ]
    },
    {
     "name": "stdout",
     "output_type": "stream",
     "text": [
      "Epoch 76 | train loss: 0.69479, val loss: 1.91741\n"
     ]
    },
    {
     "name": "stderr",
     "output_type": "stream",
     "text": [
      "epoch[77] step[226/227] | loss: 0.6848 | lr: 0.000000 | : 100%|████████████████████████████████████████████████████████████████████████████████████████| 227/227 [00:15<00:00, 14.38it/s]\n"
     ]
    },
    {
     "name": "stdout",
     "output_type": "stream",
     "text": [
      "Epoch 77 | train loss: 0.69422, val loss: 1.91743\n"
     ]
    },
    {
     "name": "stderr",
     "output_type": "stream",
     "text": [
      "epoch[78] step[226/227] | loss: 0.6338 | lr: 0.000000 | : 100%|████████████████████████████████████████████████████████████████████████████████████████| 227/227 [00:15<00:00, 14.38it/s]\n"
     ]
    },
    {
     "name": "stdout",
     "output_type": "stream",
     "text": [
      "Epoch 78 | train loss: 0.69558, val loss: 1.91743\n"
     ]
    },
    {
     "name": "stderr",
     "output_type": "stream",
     "text": [
      "epoch[79] step[226/227] | loss: 0.6940 | lr: 0.000000 | : 100%|████████████████████████████████████████████████████████████████████████████████████████| 227/227 [00:15<00:00, 14.21it/s]\n"
     ]
    },
    {
     "name": "stdout",
     "output_type": "stream",
     "text": [
      "Epoch 79 | train loss: 0.69499, val loss: 1.91745\n"
     ]
    },
    {
     "name": "stderr",
     "output_type": "stream",
     "text": [
      "epoch[80] step[226/227] | loss: 0.7168 | lr: 0.000000 | : 100%|████████████████████████████████████████████████████████████████████████████████████████| 227/227 [00:15<00:00, 14.35it/s]\n"
     ]
    },
    {
     "name": "stdout",
     "output_type": "stream",
     "text": [
      "Epoch 80 | train loss: 0.69507, val loss: 1.91745\n"
     ]
    },
    {
     "name": "stderr",
     "output_type": "stream",
     "text": [
      "epoch[81] step[226/227] | loss: 0.7664 | lr: 0.000000 | : 100%|████████████████████████████████████████████████████████████████████████████████████████| 227/227 [00:15<00:00, 14.54it/s]\n"
     ]
    },
    {
     "name": "stdout",
     "output_type": "stream",
     "text": [
      "Epoch 81 | train loss: 0.69534, val loss: 1.91746\n"
     ]
    },
    {
     "name": "stderr",
     "output_type": "stream",
     "text": [
      "epoch[82] step[226/227] | loss: 0.7040 | lr: 0.000000 | : 100%|████████████████████████████████████████████████████████████████████████████████████████| 227/227 [00:15<00:00, 14.28it/s]\n"
     ]
    },
    {
     "name": "stdout",
     "output_type": "stream",
     "text": [
      "Epoch 82 | train loss: 0.69468, val loss: 1.91745\n"
     ]
    },
    {
     "name": "stderr",
     "output_type": "stream",
     "text": [
      "epoch[83] step[226/227] | loss: 0.7342 | lr: 0.000000 | : 100%|████████████████████████████████████████████████████████████████████████████████████████| 227/227 [00:15<00:00, 14.21it/s]\n"
     ]
    },
    {
     "name": "stdout",
     "output_type": "stream",
     "text": [
      "Epoch 83 | train loss: 0.69417, val loss: 1.91745\n"
     ]
    },
    {
     "name": "stderr",
     "output_type": "stream",
     "text": [
      "epoch[84] step[226/227] | loss: 0.7238 | lr: 0.000000 | : 100%|████████████████████████████████████████████████████████████████████████████████████████| 227/227 [00:15<00:00, 14.38it/s]\n"
     ]
    },
    {
     "name": "stdout",
     "output_type": "stream",
     "text": [
      "Epoch 84 | train loss: 0.69643, val loss: 1.91746\n"
     ]
    },
    {
     "name": "stderr",
     "output_type": "stream",
     "text": [
      "epoch[85] step[226/227] | loss: 0.7173 | lr: 0.000000 | : 100%|████████████████████████████████████████████████████████████████████████████████████████| 227/227 [00:16<00:00, 14.18it/s]\n"
     ]
    },
    {
     "name": "stdout",
     "output_type": "stream",
     "text": [
      "Epoch 85 | train loss: 0.69472, val loss: 1.91746\n"
     ]
    },
    {
     "name": "stderr",
     "output_type": "stream",
     "text": [
      "epoch[86] step[226/227] | loss: 0.7869 | lr: 0.000000 | : 100%|████████████████████████████████████████████████████████████████████████████████████████| 227/227 [00:15<00:00, 14.50it/s]\n"
     ]
    },
    {
     "name": "stdout",
     "output_type": "stream",
     "text": [
      "Epoch 86 | train loss: 0.69477, val loss: 1.91748\n"
     ]
    },
    {
     "name": "stderr",
     "output_type": "stream",
     "text": [
      "epoch[87] step[226/227] | loss: 0.7262 | lr: 0.000000 | : 100%|████████████████████████████████████████████████████████████████████████████████████████| 227/227 [00:15<00:00, 14.37it/s]\n"
     ]
    },
    {
     "name": "stdout",
     "output_type": "stream",
     "text": [
      "Epoch 87 | train loss: 0.69461, val loss: 1.91748\n"
     ]
    },
    {
     "name": "stderr",
     "output_type": "stream",
     "text": [
      "epoch[88] step[226/227] | loss: 0.7932 | lr: 0.000000 | : 100%|████████████████████████████████████████████████████████████████████████████████████████| 227/227 [00:15<00:00, 14.26it/s]\n"
     ]
    },
    {
     "name": "stdout",
     "output_type": "stream",
     "text": [
      "Epoch 88 | train loss: 0.69483, val loss: 1.91751\n"
     ]
    },
    {
     "name": "stderr",
     "output_type": "stream",
     "text": [
      "epoch[89] step[226/227] | loss: 0.6935 | lr: 0.000000 | : 100%|████████████████████████████████████████████████████████████████████████████████████████| 227/227 [00:15<00:00, 14.48it/s]\n"
     ]
    },
    {
     "name": "stdout",
     "output_type": "stream",
     "text": [
      "Epoch 89 | train loss: 0.69507, val loss: 1.91750\n"
     ]
    },
    {
     "name": "stderr",
     "output_type": "stream",
     "text": [
      "epoch[90] step[226/227] | loss: 0.6195 | lr: 0.000000 | : 100%|████████████████████████████████████████████████████████████████████████████████████████| 227/227 [00:15<00:00, 14.22it/s]\n"
     ]
    },
    {
     "name": "stdout",
     "output_type": "stream",
     "text": [
      "Epoch 90 | train loss: 0.69411, val loss: 1.91750\n"
     ]
    },
    {
     "name": "stderr",
     "output_type": "stream",
     "text": [
      "epoch[91] step[226/227] | loss: 0.6463 | lr: 0.000000 | : 100%|████████████████████████████████████████████████████████████████████████████████████████| 227/227 [00:15<00:00, 14.40it/s]\n"
     ]
    },
    {
     "name": "stdout",
     "output_type": "stream",
     "text": [
      "Epoch 91 | train loss: 0.69470, val loss: 1.91750\n"
     ]
    },
    {
     "name": "stderr",
     "output_type": "stream",
     "text": [
      "epoch[92] step[226/227] | loss: 0.5740 | lr: 0.000000 | : 100%|████████████████████████████████████████████████████████████████████████████████████████| 227/227 [00:15<00:00, 14.42it/s]\n"
     ]
    },
    {
     "name": "stdout",
     "output_type": "stream",
     "text": [
      "Epoch 92 | train loss: 0.69573, val loss: 1.91749\n"
     ]
    },
    {
     "name": "stderr",
     "output_type": "stream",
     "text": [
      "epoch[93] step[226/227] | loss: 0.6706 | lr: 0.000000 | : 100%|████████████████████████████████████████████████████████████████████████████████████████| 227/227 [00:15<00:00, 14.52it/s]\n"
     ]
    },
    {
     "name": "stdout",
     "output_type": "stream",
     "text": [
      "Epoch 93 | train loss: 0.69494, val loss: 1.91749\n"
     ]
    },
    {
     "name": "stderr",
     "output_type": "stream",
     "text": [
      "epoch[94] step[226/227] | loss: 0.7706 | lr: 0.000000 | : 100%|████████████████████████████████████████████████████████████████████████████████████████| 227/227 [00:15<00:00, 14.33it/s]\n"
     ]
    },
    {
     "name": "stdout",
     "output_type": "stream",
     "text": [
      "Epoch 94 | train loss: 0.69445, val loss: 1.91749\n"
     ]
    },
    {
     "name": "stderr",
     "output_type": "stream",
     "text": [
      "epoch[95] step[226/227] | loss: 0.7149 | lr: 0.000000 | : 100%|████████████████████████████████████████████████████████████████████████████████████████| 227/227 [00:15<00:00, 14.35it/s]\n"
     ]
    },
    {
     "name": "stdout",
     "output_type": "stream",
     "text": [
      "Epoch 95 | train loss: 0.69514, val loss: 1.91749\n"
     ]
    },
    {
     "name": "stderr",
     "output_type": "stream",
     "text": [
      "epoch[96] step[226/227] | loss: 0.7637 | lr: 0.000000 | : 100%|████████████████████████████████████████████████████████████████████████████████████████| 227/227 [00:15<00:00, 14.29it/s]\n"
     ]
    },
    {
     "name": "stdout",
     "output_type": "stream",
     "text": [
      "Epoch 96 | train loss: 0.69490, val loss: 1.91749\n"
     ]
    },
    {
     "name": "stderr",
     "output_type": "stream",
     "text": [
      "epoch[97] step[226/227] | loss: 0.7815 | lr: 0.000000 | : 100%|████████████████████████████████████████████████████████████████████████████████████████| 227/227 [00:15<00:00, 14.19it/s]\n"
     ]
    },
    {
     "name": "stdout",
     "output_type": "stream",
     "text": [
      "Epoch 97 | train loss: 0.69495, val loss: 1.91748\n"
     ]
    },
    {
     "name": "stderr",
     "output_type": "stream",
     "text": [
      "epoch[98] step[226/227] | loss: 0.6335 | lr: 0.000000 | : 100%|████████████████████████████████████████████████████████████████████████████████████████| 227/227 [00:15<00:00, 14.41it/s]\n"
     ]
    },
    {
     "name": "stdout",
     "output_type": "stream",
     "text": [
      "Epoch 98 | train loss: 0.69433, val loss: 1.91748\n"
     ]
    },
    {
     "name": "stderr",
     "output_type": "stream",
     "text": [
      "epoch[99] step[226/227] | loss: 0.7236 | lr: 0.000000 | : 100%|████████████████████████████████████████████████████████████████████████████████████████| 227/227 [00:15<00:00, 14.32it/s]\n"
     ]
    },
    {
     "name": "stdout",
     "output_type": "stream",
     "text": [
      "Epoch 99 | train loss: 0.69565, val loss: 1.91748\n"
     ]
    }
   ],
   "source": [
    "trainer.train()"
   ]
  },
  {
   "cell_type": "code",
   "execution_count": 7,
   "id": "5e425f22",
   "metadata": {
    "scrolled": true
   },
   "outputs": [
    {
     "name": "stdout",
     "output_type": "stream",
     "text": [
      "<bos> Two cars racing around a track . <eos>\n"
     ]
    }
   ],
   "source": [
    "print(trainer.translate(\"Zwei Autos fahren auf einer Rennstrecke.\"))"
   ]
  },
  {
   "cell_type": "code",
   "execution_count": null,
   "id": "8ae2880b",
   "metadata": {
    "scrolled": true
   },
   "outputs": [],
   "source": []
  }
 ],
 "metadata": {
  "kernelspec": {
   "display_name": "Python 3 (ipykernel)",
   "language": "python",
   "name": "python3"
  },
  "language_info": {
   "codemirror_mode": {
    "name": "ipython",
    "version": 3
   },
   "file_extension": ".py",
   "mimetype": "text/x-python",
   "name": "python",
   "nbconvert_exporter": "python",
   "pygments_lexer": "ipython3",
   "version": "3.9.15"
  }
 },
 "nbformat": 4,
 "nbformat_minor": 5
}
