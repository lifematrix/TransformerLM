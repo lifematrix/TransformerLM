{
 "cells": [
  {
   "cell_type": "code",
   "execution_count": 1,
   "id": "fd6374eb",
   "metadata": {},
   "outputs": [
    {
     "name": "stdout",
     "output_type": "stream",
     "text": [
      "/home/steven/proj/lifematrix/TransformerLM\n"
     ]
    }
   ],
   "source": [
    "%cd .."
   ]
  },
  {
   "cell_type": "code",
   "execution_count": 2,
   "id": "0a21406e",
   "metadata": {},
   "outputs": [],
   "source": [
    "import sys\n",
    "sys.path.insert(0, \"src/python\")"
   ]
  },
  {
   "cell_type": "code",
   "execution_count": 3,
   "id": "172fb807",
   "metadata": {},
   "outputs": [],
   "source": [
    "import pickle\n",
    "from transformerlm.data import Seq2SeqDataMulti30k"
   ]
  },
  {
   "cell_type": "code",
   "execution_count": 4,
   "id": "5af1b38a",
   "metadata": {},
   "outputs": [
    {
     "name": "stdout",
     "output_type": "stream",
     "text": [
      "OrderedDict([('train', ['https://raw.githubusercontent.com/multi30k/dataset/master/data/task1/raw/train.de.gz', 'https://raw.githubusercontent.com/multi30k/dataset/master/data/task1/raw/train.en.gz']), ('val', ['https://raw.githubusercontent.com/multi30k/dataset/master/data/task1/raw/val.de.gz', 'https://raw.githubusercontent.com/multi30k/dataset/master/data/task1/raw/val.en.gz']), ('test', ['https://raw.githubusercontent.com/multi30k/dataset/master/data/task1/raw/test_2016_flickr.de.gz', 'https://raw.githubusercontent.com/multi30k/dataset/master/data/task1/raw/test_2016_flickr.en.gz'])])\n",
      "OrderedDict([('train', ['/home/steven/proj/lifematrix/TransformerLM/.data/train.de', '/home/steven/proj/lifematrix/TransformerLM/.data/train.en']), ('val', ['/home/steven/proj/lifematrix/TransformerLM/.data/val.de', '/home/steven/proj/lifematrix/TransformerLM/.data/val.en']), ('test', ['/home/steven/proj/lifematrix/TransformerLM/.data/test_2016_flickr.de', '/home/steven/proj/lifematrix/TransformerLM/.data/test_2016_flickr.en'])])\n",
      "read OrderedDict([('train', ['/home/steven/proj/lifematrix/TransformerLM/.data/train.de', '/home/steven/proj/lifematrix/TransformerLM/.data/train.en']), ('val', ['/home/steven/proj/lifematrix/TransformerLM/.data/val.de', '/home/steven/proj/lifematrix/TransformerLM/.data/val.en']), ('test', ['/home/steven/proj/lifematrix/TransformerLM/.data/test_2016_flickr.de', '/home/steven/proj/lifematrix/TransformerLM/.data/test_2016_flickr.en'])]) The number of lines: 29000\n",
      "read OrderedDict([('train', ['/home/steven/proj/lifematrix/TransformerLM/.data/train.de', '/home/steven/proj/lifematrix/TransformerLM/.data/train.en']), ('val', ['/home/steven/proj/lifematrix/TransformerLM/.data/val.de', '/home/steven/proj/lifematrix/TransformerLM/.data/val.en']), ('test', ['/home/steven/proj/lifematrix/TransformerLM/.data/test_2016_flickr.de', '/home/steven/proj/lifematrix/TransformerLM/.data/test_2016_flickr.en'])]) The number of lines: 1014\n",
      "read OrderedDict([('train', ['/home/steven/proj/lifematrix/TransformerLM/.data/train.de', '/home/steven/proj/lifematrix/TransformerLM/.data/train.en']), ('val', ['/home/steven/proj/lifematrix/TransformerLM/.data/val.de', '/home/steven/proj/lifematrix/TransformerLM/.data/val.en']), ('test', ['/home/steven/proj/lifematrix/TransformerLM/.data/test_2016_flickr.de', '/home/steven/proj/lifematrix/TransformerLM/.data/test_2016_flickr.en'])]) The number of lines: 1000\n"
     ]
    },
    {
     "name": "stderr",
     "output_type": "stream",
     "text": [
      "/home/steven/miniconda3/envs/torch/lib/python3.9/site-packages/torch/cuda/__init__.py:138: UserWarning: CUDA initialization: CUDA unknown error - this may be due to an incorrectly set up environment, e.g. changing env variable CUDA_VISIBLE_DEVICES after program start. Setting the available devices to be zero. (Triggered internally at ../c10/cuda/CUDAFunctions.cpp:108.)\n",
      "  return torch._C._cuda_getDeviceCount() > 0\n"
     ]
    }
   ],
   "source": [
    "d = Seq2SeqDataMulti30k(src_lan=\"de\", tgt_lan=\"en\")"
   ]
  },
  {
   "cell_type": "code",
   "execution_count": 5,
   "id": "d0dab335",
   "metadata": {},
   "outputs": [
    {
     "name": "stdout",
     "output_type": "stream",
     "text": [
      "{'de': 19214, 'en': 10837}\n"
     ]
    }
   ],
   "source": [
    " print({lan: len(d.vocabs[lan]) for lan in d.lans})"
   ]
  },
  {
   "cell_type": "code",
   "execution_count": 7,
   "id": "ac0a7a25",
   "metadata": {},
   "outputs": [],
   "source": [
    "with open(\"/tmp/torch_vocab.pkl\", \"rb\") as f:\n",
    "    torch_vocab = pickle.load(f)"
   ]
  },
  {
   "cell_type": "code",
   "execution_count": 8,
   "id": "8abf3d1b",
   "metadata": {},
   "outputs": [
    {
     "data": {
      "text/plain": [
       "(set(), set())"
      ]
     },
     "execution_count": 8,
     "metadata": {},
     "output_type": "execute_result"
    }
   ],
   "source": [
    "set(d.vocabs['de']) - set(torch_vocab[0]), set(torch_vocab[0]) - set(d.vocabs['de'])"
   ]
  },
  {
   "cell_type": "code",
   "execution_count": 9,
   "id": "b931e96e",
   "metadata": {},
   "outputs": [
    {
     "data": {
      "text/plain": [
       "(set(), set())"
      ]
     },
     "execution_count": 9,
     "metadata": {},
     "output_type": "execute_result"
    }
   ],
   "source": [
    "set(d.vocabs['en']) - set(torch_vocab[1]), set(torch_vocab[1]) - set(d.vocabs['en'])"
   ]
  },
  {
   "cell_type": "code",
   "execution_count": null,
   "id": "75d868c9",
   "metadata": {},
   "outputs": [],
   "source": []
  }
 ],
 "metadata": {
  "kernelspec": {
   "display_name": "Python 3 (ipykernel)",
   "language": "python",
   "name": "python3"
  },
  "language_info": {
   "codemirror_mode": {
    "name": "ipython",
    "version": 3
   },
   "file_extension": ".py",
   "mimetype": "text/x-python",
   "name": "python",
   "nbconvert_exporter": "python",
   "pygments_lexer": "ipython3",
   "version": "3.9.15"
  }
 },
 "nbformat": 4,
 "nbformat_minor": 5
}
